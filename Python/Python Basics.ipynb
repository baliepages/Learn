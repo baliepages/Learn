{
 "cells": [
  {
   "cell_type": "code",
   "execution_count": 2,
   "metadata": {},
   "outputs": [
    {
     "data": {
      "text/plain": [
       "'2019-07-31 10:14:40.446381'"
      ]
     },
     "execution_count": 2,
     "metadata": {},
     "output_type": "execute_result"
    }
   ],
   "source": [
    "import datetime\n",
    "x = datetime.datetime.now()\n",
    "str(x)"
   ]
  },
  {
   "cell_type": "code",
   "execution_count": 2,
   "metadata": {},
   "outputs": [
    {
     "name": "stdout",
     "output_type": "stream",
     "text": [
      "Dependencies are installed\n"
     ]
    }
   ],
   "source": [
    "from __future__ import with_statement\n",
    "import sys\n",
    "import math\n",
    "from math import gcd\n",
    "import statistics\n",
    "import random\n",
    "import string\n",
    "import datetime\n",
    "import time\n",
    "from time import gmtime, strftime\n",
    "import timeit\n",
    "import base64\n",
    "import subprocess\n",
    "from subprocess import Popen, PIPE\n",
    "import functools \n",
    "from functools import reduce\n",
    "from collections import deque\n",
    "from collections import Counter\n",
    "from collections import ChainMap\n",
    "from collections import defaultdict\n",
    "import operator\n",
    "from operator import add\n",
    "from operator import mul\n",
    "from operator import or_\n",
    "from operator import and_\n",
    "import itertools\n",
    "\n",
    "import os\n",
    "from os import listdir\n",
    "from os.path import isfile, join\n",
    "import glob\n",
    "import pathlib\n",
    "import shutil\n",
    "from shutil import copyfile\n",
    "#import commands as cmd\n",
    "\n",
    "import errno\n",
    "from contextlib import suppress\n",
    "\n",
    "#pip install mysql-connector-python --user\n",
    "#import mysql\n",
    "#import mysql.connector\n",
    "#from mysql.connector import Error\n",
    "\n",
    "import json\n",
    "import re\n",
    "import requests\n",
    "from urllib.request import urlopen\n",
    "\n",
    "import numpy as np #data statistical analysis\n",
    "import seaborn as sns #statistical data visualization\n",
    "import pandas as pd #data manipulation using dataframes\n",
    "import matplotlib.pyplot as plt \n",
    "import sklearn\n",
    "\n",
    "print('Dependencies are installed')"
   ]
  },
  {
   "cell_type": "markdown",
   "metadata": {},
   "source": [
    "pip3 uninstall mysql-connector-python\n",
    "pip3 uninstall requests\n",
    "pip3 uninstall numpy  \n",
    "pip3 uninstall seaborn\n",
    "pip3 uninstall pandas\n",
    "pip3 uninstall matplotlib\n",
    "pip3 uninstall sklearn\n",
    "pip3 uninstall wordcloud"
   ]
  },
  {
   "cell_type": "markdown",
   "metadata": {},
   "source": [
    ":EXCEPTION"
   ]
  },
  {
   "cell_type": "code",
   "execution_count": 2,
   "metadata": {},
   "outputs": [
    {
     "name": "stdout",
     "output_type": "stream",
     "text": [
      "Something else went wrong\n",
      "The 'try except' is finished\n"
     ]
    }
   ],
   "source": [
    "#Exception\n",
    "try:\n",
    "    x = str(round(1234.5678, -2)) #'1200.0'\n",
    "    y = str(round('baliepages', -2)) \n",
    "except (KeyboardInterrupt, EOFError) as err:\n",
    "    print(err)\n",
    "    print('caught this error: ' + repr(error))\n",
    "    print(err.args)\n",
    "    quit(0)\n",
    "    if is_fatal(e):\n",
    "        raise\n",
    "except:\n",
    "    print('Something else went wrong')\n",
    "else:\n",
    "    print('Everything went fine')\n",
    "finally:\n",
    "    print('The \\'try except\\' is finished')\n"
   ]
  },
  {
   "cell_type": "code",
   "execution_count": 3,
   "metadata": {},
   "outputs": [],
   "source": [
    "#Raise Exception\n",
    "n = 10\n",
    "if n < 1:\n",
    "\traise ValueError('n must be >= 0')\n",
    "if n > 1000:\n",
    "\traise OverflowError('n too large')"
   ]
  },
  {
   "cell_type": "markdown",
   "metadata": {},
   "source": [
    ":BOOLEAN"
   ]
  },
  {
   "cell_type": "code",
   "execution_count": 4,
   "metadata": {},
   "outputs": [
    {
     "data": {
      "text/plain": [
       "'Trondheim'"
      ]
     },
     "execution_count": 4,
     "metadata": {},
     "output_type": "execute_result"
    }
   ],
   "source": [
    "string1, string2, string3 = '', 'Trondheim', 'Hammer Dance'\n",
    "v_nonNull = string1 or string2 or string3\n",
    "v_nonNull"
   ]
  },
  {
   "cell_type": "code",
   "execution_count": 5,
   "metadata": {},
   "outputs": [
    {
     "data": {
      "text/plain": [
       "(False, True)"
      ]
     },
     "execution_count": 5,
     "metadata": {},
     "output_type": "execute_result"
    }
   ],
   "source": [
    "mylist = [True, False, True]\n",
    "x = all(mylist) \n",
    "y = any(mylist) \n",
    "x, y"
   ]
  },
  {
   "cell_type": "markdown",
   "metadata": {},
   "source": [
    ":ARITHMETIC"
   ]
  },
  {
   "cell_type": "code",
   "execution_count": 6,
   "metadata": {},
   "outputs": [
    {
     "data": {
      "text/plain": [
       "'1234.57'"
      ]
     },
     "execution_count": 6,
     "metadata": {},
     "output_type": "execute_result"
    }
   ],
   "source": [
    "str(round(1234.5678, -2)) #'1200.0'\n",
    "str(round(1234.5678, 2)) #'1234.57'"
   ]
  },
  {
   "cell_type": "code",
   "execution_count": 7,
   "metadata": {},
   "outputs": [
    {
     "name": "stdout",
     "output_type": "stream",
     "text": [
      "56.2\n",
      "51.7\n"
     ]
    }
   ],
   "source": [
    "import math\n",
    "raw_data = [56.2, float('NaN'), 51.7]\n",
    "for value in raw_data:\n",
    "\tif not math.isnan(value):\n",
    "\t\tprint(value)"
   ]
  },
  {
   "cell_type": "code",
   "execution_count": 8,
   "metadata": {},
   "outputs": [
    {
     "name": "stdout",
     "output_type": "stream",
     "text": [
      "9 1 18 64\n"
     ]
    }
   ],
   "source": [
    "a = (1, 5, 3, 9)\n",
    "x = max(a)\n",
    "y = min(a)\n",
    "z = sum(a)\n",
    "p = pow(4, 3)\n",
    "print(x, y, z, p)"
   ]
  },
  {
   "cell_type": "code",
   "execution_count": 9,
   "metadata": {},
   "outputs": [
    {
     "name": "stdout",
     "output_type": "stream",
     "text": [
      "004\n"
     ]
    }
   ],
   "source": [
    "#pad zero\n",
    "n = '4'\n",
    "print (n.zfill(3))"
   ]
  },
  {
   "cell_type": "markdown",
   "metadata": {},
   "source": [
    ":STATISTICS"
   ]
  },
  {
   "cell_type": "code",
   "execution_count": 10,
   "metadata": {},
   "outputs": [
    {
     "data": {
      "text/plain": [
       "(1.6071428571428572, 1.25, 1.3720238095238095)"
      ]
     },
     "execution_count": 10,
     "metadata": {},
     "output_type": "execute_result"
    }
   ],
   "source": [
    "#Statistics:\n",
    "import statistics\n",
    "data = [2.75, 1.75, 1.25, 0.25, 0.5, 1.25, 3.5]\n",
    "statistics.mean(data), statistics.median(data), statistics.variance(data)\n"
   ]
  },
  {
   "cell_type": "markdown",
   "metadata": {},
   "source": [
    ":STDIN"
   ]
  },
  {
   "cell_type": "code",
   "execution_count": 11,
   "metadata": {},
   "outputs": [
    {
     "name": "stdout",
     "output_type": "stream",
     "text": [
      "Enter your name:\n"
     ]
    }
   ],
   "source": [
    "print(\"Enter your name:\")\n",
    "#x = input()\n",
    "#print(\"Hello \", x)"
   ]
  },
  {
   "cell_type": "code",
   "execution_count": 12,
   "metadata": {
    "scrolled": false
   },
   "outputs": [
    {
     "name": "stdout",
     "output_type": "stream",
     "text": [
      "Counted 0 lines.\n"
     ]
    }
   ],
   "source": [
    "import sys\n",
    "data = sys.stdin.readlines()\n",
    "print (\"Counted\", len(data), \"lines.\")"
   ]
  },
  {
   "cell_type": "markdown",
   "metadata": {},
   "source": [
    ":RANDOM"
   ]
  },
  {
   "cell_type": "code",
   "execution_count": 7,
   "metadata": {},
   "outputs": [
    {
     "data": {
      "text/plain": [
       "'ZF0G08NI38'"
      ]
     },
     "execution_count": 7,
     "metadata": {},
     "output_type": "execute_result"
    }
   ],
   "source": [
    "import random\n",
    "import string\n",
    "#''.join(random.choice(string.ascii_uppercase + string.digits) for _ in range(10))\n",
    "''.join(random.choices(string.ascii_uppercase + string.digits, k=10))"
   ]
  },
  {
   "cell_type": "code",
   "execution_count": 14,
   "metadata": {},
   "outputs": [
    {
     "name": "stdout",
     "output_type": "stream",
     "text": [
      "2\n"
     ]
    }
   ],
   "source": [
    "print(random.randrange(1,10))"
   ]
  },
  {
   "cell_type": "code",
   "execution_count": 6,
   "metadata": {},
   "outputs": [
    {
     "data": {
      "text/plain": [
       "'banana'"
      ]
     },
     "execution_count": 6,
     "metadata": {},
     "output_type": "execute_result"
    }
   ],
   "source": [
    "random.choices(['apple', 'pear', 'banana'])\n",
    "random.choice(['apple', 'pear', 'banana'])"
   ]
  },
  {
   "cell_type": "code",
   "execution_count": 16,
   "metadata": {},
   "outputs": [
    {
     "data": {
      "text/plain": [
       "[15, 4, 23, 50, 70, 49, 67, 7, 9, 87]"
      ]
     },
     "execution_count": 16,
     "metadata": {},
     "output_type": "execute_result"
    }
   ],
   "source": [
    "random.sample(range(100), 10) "
   ]
  },
  {
   "cell_type": "code",
   "execution_count": 17,
   "metadata": {},
   "outputs": [
    {
     "data": {
      "text/plain": [
       "0.11246982624567425"
      ]
     },
     "execution_count": 17,
     "metadata": {},
     "output_type": "execute_result"
    }
   ],
   "source": [
    "random.random() "
   ]
  },
  {
   "cell_type": "code",
   "execution_count": 18,
   "metadata": {},
   "outputs": [
    {
     "data": {
      "text/plain": [
       "1"
      ]
     },
     "execution_count": 18,
     "metadata": {},
     "output_type": "execute_result"
    }
   ],
   "source": [
    "random.randrange(6) "
   ]
  },
  {
   "cell_type": "code",
   "execution_count": 19,
   "metadata": {},
   "outputs": [
    {
     "name": "stdout",
     "output_type": "stream",
     "text": [
      "correct\n"
     ]
    }
   ],
   "source": [
    "#For cryptographically secure random choices\n",
    "x = ['battery', 'correct', 'horse', 'staple']\n",
    "secure_random = random.SystemRandom()\n",
    "print(secure_random.choice(x))"
   ]
  },
  {
   "cell_type": "markdown",
   "metadata": {},
   "source": [
    ":DATE TIME"
   ]
  },
  {
   "cell_type": "code",
   "execution_count": 20,
   "metadata": {},
   "outputs": [
    {
     "data": {
      "text/plain": [
       "datetime.datetime(2019, 7, 30, 18, 19, 22, 707008)"
      ]
     },
     "execution_count": 20,
     "metadata": {},
     "output_type": "execute_result"
    }
   ],
   "source": [
    "import datetime\n",
    "x = datetime.datetime.now()\n",
    "x"
   ]
  },
  {
   "cell_type": "code",
   "execution_count": 21,
   "metadata": {
    "scrolled": true
   },
   "outputs": [
    {
     "data": {
      "text/plain": [
       "(2019,\n",
       " 'Tuesday',\n",
       " '2019-07-30 18:19:22.707008',\n",
       " 'datetime.datetime(2019, 7, 30, 18, 19, 22, 707008)')"
      ]
     },
     "execution_count": 21,
     "metadata": {},
     "output_type": "execute_result"
    }
   ],
   "source": [
    "x.year, x.strftime('%A'), str(x), repr(x)\n",
    "#__repr__ goal is to be unambiguous\n",
    "#__str__ goal is to be readable\n"
   ]
  },
  {
   "cell_type": "code",
   "execution_count": 22,
   "metadata": {},
   "outputs": [
    {
     "data": {
      "text/plain": [
       "(datetime.time(18, 19, 22, 755009),\n",
       " datetime.datetime(2005, 6, 1, 13, 33),\n",
       " datetime.datetime(2020, 5, 17, 0, 0))"
      ]
     },
     "execution_count": 22,
     "metadata": {},
     "output_type": "execute_result"
    }
   ],
   "source": [
    "from datetime import datetime\n",
    "x = datetime.now().time()\n",
    "y = datetime.strptime('Jun 1 2005  1:33PM', '%b %d %Y %I:%M%p')\n",
    "z = datetime(2020, 5, 17)\n",
    "x, y, z"
   ]
  },
  {
   "cell_type": "code",
   "execution_count": 23,
   "metadata": {},
   "outputs": [
    {
     "data": {
      "text/plain": [
       "('2019-07-30 18:19:22', '18:19:22.779007')"
      ]
     },
     "execution_count": 23,
     "metadata": {},
     "output_type": "execute_result"
    }
   ],
   "source": [
    "a = datetime.now().strftime('%Y-%m-%d %H:%M:%S')\n",
    "b = datetime.now().time().strftime('%H:%M:%S.%f')\n",
    "a, b"
   ]
  },
  {
   "cell_type": "code",
   "execution_count": 24,
   "metadata": {},
   "outputs": [
    {
     "data": {
      "text/plain": [
       "(datetime.datetime(2019, 7, 30, 18, 19, 22, 799006),\n",
       " datetime.date(2019, 7, 30),\n",
       " 2019,\n",
       " 7,\n",
       " 30,\n",
       " datetime.time(18, 19, 22, 799006),\n",
       " 18,\n",
       " 19,\n",
       " 22,\n",
       " 799006)"
      ]
     },
     "execution_count": 24,
     "metadata": {},
     "output_type": "execute_result"
    }
   ],
   "source": [
    "from time import gmtime, strftime\n",
    "x = strftime(\"%Y-%m-%d %H:%M:%S\", gmtime())\n",
    "y = str(datetime.now())\n",
    "date_time = datetime.now()\n",
    "date = date_time.date()  # gives date\n",
    "time = date_time.time()  # gives time\n",
    "date_time, date, date.year, date.month, date.day, time, time.hour, time.minute, time.second, time.microsecond"
   ]
  },
  {
   "cell_type": "code",
   "execution_count": 25,
   "metadata": {},
   "outputs": [
    {
     "name": "stdout",
     "output_type": "stream",
     "text": [
      "Hello!\n"
     ]
    }
   ],
   "source": [
    "import time\n",
    "time.sleep(1)\n",
    "print(\"Hello!\")"
   ]
  },
  {
   "cell_type": "markdown",
   "metadata": {},
   "source": [
    ":FILES"
   ]
  },
  {
   "cell_type": "code",
   "execution_count": 26,
   "metadata": {},
   "outputs": [],
   "source": [
    "from __future__ import with_statement\n",
    "with open('writer.txt', 'w') as f:\n",
    "    f.write('hello!')"
   ]
  },
  {
   "cell_type": "markdown",
   "metadata": {},
   "source": [
    ":SPECIAL"
   ]
  },
  {
   "cell_type": "code",
   "execution_count": 27,
   "metadata": {},
   "outputs": [
    {
     "name": "stdout",
     "output_type": "stream",
     "text": [
      "[(0, 'apple'), (1, 'banana'), (2, 'cherry')]\n"
     ]
    }
   ],
   "source": [
    "x = ('apple', 'banana', 'cherry')\n",
    "y = enumerate(x) \n",
    "print(list(y))"
   ]
  },
  {
   "cell_type": "code",
   "execution_count": 28,
   "metadata": {},
   "outputs": [],
   "source": [
    "#Assert \n",
    "#if condition returns False, AssertionError is raised:\n",
    "x = \"hello\"\n",
    "#if condition returns False, AssertionError is raised:\n",
    "assert x == \"hello\", \"x should be 'hello'\""
   ]
  },
  {
   "cell_type": "code",
   "execution_count": 29,
   "metadata": {
    "scrolled": true
   },
   "outputs": [
    {
     "data": {
      "text/plain": [
       "(b'SGlEZXZpbA==', b'HiDevil')"
      ]
     },
     "execution_count": 29,
     "metadata": {},
     "output_type": "execute_result"
    }
   ],
   "source": [
    "#Encode Decode\n",
    "import base64\n",
    "pwd = 'HiDevil'\n",
    "x = base64.b64encode(bytes(pwd, 'utf-8'))\n",
    "y = base64.b64decode(x)\n",
    "x, y"
   ]
  },
  {
   "cell_type": "code",
   "execution_count": 30,
   "metadata": {},
   "outputs": [
    {
     "name": "stdout",
     "output_type": "stream",
     "text": [
      "0.02603970000000011\n"
     ]
    }
   ],
   "source": [
    "#TimeIt\n",
    "import timeit\n",
    "print(timeit.timeit('pow(1234567890, 2345678901, 17)', number=10000))"
   ]
  },
  {
   "cell_type": "markdown",
   "metadata": {},
   "source": [
    ":UNIX"
   ]
  },
  {
   "cell_type": "code",
   "execution_count": 31,
   "metadata": {},
   "outputs": [
    {
     "data": {
      "text/plain": [
       "b'Hello World\\r\\n'"
      ]
     },
     "execution_count": 31,
     "metadata": {},
     "output_type": "execute_result"
    }
   ],
   "source": [
    "import subprocess\n",
    "subprocess.Popen(\"echo Hello World\", shell=True, stdout=subprocess.PIPE).stdout.read()"
   ]
  },
  {
   "cell_type": "code",
   "execution_count": 32,
   "metadata": {},
   "outputs": [
    {
     "name": "stdout",
     "output_type": "stream",
     "text": [
      "Return code:  1\n",
      "b'' b\"'ls' is not recognized as an internal or external command,\\r\\noperable program or batch file.\"\n"
     ]
    }
   ],
   "source": [
    "from subprocess import Popen, PIPE\n",
    "cmd = \"ls -l ~/\"\n",
    "p = Popen(cmd , shell=True, stdout=PIPE, stderr=PIPE)\n",
    "out, err = p.communicate()\n",
    "print (\"Return code: \", p.returncode)\n",
    "print (out.rstrip(), err.rstrip())"
   ]
  },
  {
   "cell_type": "code",
   "execution_count": 33,
   "metadata": {},
   "outputs": [
    {
     "name": "stdout",
     "output_type": "stream",
     "text": [
      "b\"'ls' is not recognized as an internal or external command,\\r\\n\"\n",
      "b'operable program or batch file.\\r\\n'\n"
     ]
    }
   ],
   "source": [
    "import subprocess\n",
    "p = subprocess.Popen('ls', shell=True, stdout=subprocess.PIPE, stderr=subprocess.STDOUT)\n",
    "for line in p.stdout.readlines():\n",
    "    print (line)\n",
    "retval = p.wait()"
   ]
  },
  {
   "cell_type": "markdown",
   "metadata": {},
   "source": [
    ":ZIP"
   ]
  },
  {
   "cell_type": "code",
   "execution_count": 34,
   "metadata": {},
   "outputs": [
    {
     "data": {
      "text/plain": [
       "({'Bob': 23, 'Marie': 27, 'Alice': 36},\n",
       " (('Bob', 23), ('Marie', 27), ('Alice', 36)))"
      ]
     },
     "execution_count": 34,
     "metadata": {},
     "output_type": "execute_result"
    }
   ],
   "source": [
    "names = ['Bob', 'Marie', 'Alice']\n",
    "ages = [23, 27, 36]\n",
    "d1 = dict(zip(names, ages))\n",
    "d2 = tuple(zip(names, ages))\n",
    "d1, d2"
   ]
  },
  {
   "cell_type": "code",
   "execution_count": 35,
   "metadata": {},
   "outputs": [
    {
     "name": "stdout",
     "output_type": "stream",
     "text": [
      "What is your name?  It is lancelot.\n",
      "What is your quest?  It is the holy grail.\n",
      "What is your favorite color?  It is blue.\n"
     ]
    }
   ],
   "source": [
    "questions = ['name', 'quest', 'favorite color']\n",
    "answers = ['lancelot', 'the holy grail', 'blue']\n",
    "for q, a in zip(questions, answers):\n",
    "\tprint('What is your {0}?  It is {1}.'.format(q, a))"
   ]
  },
  {
   "cell_type": "code",
   "execution_count": 36,
   "metadata": {},
   "outputs": [
    {
     "data": {
      "text/plain": [
       "([(0, 1, 2, 3), (7, 6, 5, 4)],\n",
       " [(0, 7), (1, 6), (2, 5), (3, 4)],\n",
       " [(0, 1, 2, 3), (7, 6, 5, 4)])"
      ]
     },
     "execution_count": 36,
     "metadata": {},
     "output_type": "execute_result"
    }
   ],
   "source": [
    "#Unzip\n",
    "t1 = (0,1,2,3)\n",
    "t2 = (7,6,5,4)\n",
    "[t1,t2], list(zip(t1,t2)), list(zip(*zip(t1,t2)))"
   ]
  },
  {
   "cell_type": "markdown",
   "metadata": {},
   "source": [
    ":STRING"
   ]
  },
  {
   "cell_type": "code",
   "execution_count": 37,
   "metadata": {
    "scrolled": true
   },
   "outputs": [
    {
     "name": "stdout",
     "output_type": "stream",
     "text": [
      "My name is Balie, I am a Software Programmer.\n"
     ]
    }
   ],
   "source": [
    "whoAmI = 'My name is {name}, I am a {profession}.'\n",
    "print(whoAmI.format(name = 'Balie', profession = 'Software Programmer'))"
   ]
  },
  {
   "cell_type": "code",
   "execution_count": 38,
   "metadata": {},
   "outputs": [
    {
     "data": {
      "text/plain": [
       "(True, 7, 8, 46)"
      ]
     },
     "execution_count": 38,
     "metadata": {},
     "output_type": "execute_result"
    }
   ],
   "source": [
    "#Find, RFind, EndsWith\n",
    "txt = \"Hello, welcome to My world. My name is Balie. My world is beautiful. It is fun.\"\n",
    "x1 = txt.endswith(\".\")\n",
    "x2 = txt.find(\"welcome\")\n",
    "x3 = txt.find(\"e\", 5, 10)\n",
    "x4 = txt.rfind(\"My\")\n",
    "\n",
    "x1, x2, x3, x4 "
   ]
  },
  {
   "cell_type": "code",
   "execution_count": 39,
   "metadata": {},
   "outputs": [
    {
     "name": "stdout",
     "output_type": "stream",
     "text": [
      "yes\n"
     ]
    }
   ],
   "source": [
    "#Substring\n",
    "if \"ali\" in \"Balie\": \n",
    "    print(\"yes\")"
   ]
  },
  {
   "cell_type": "code",
   "execution_count": 40,
   "metadata": {},
   "outputs": [
    {
     "data": {
      "text/plain": [
       "'three three was a race horse, two two was one too.'"
      ]
     },
     "execution_count": 40,
     "metadata": {},
     "output_type": "execute_result"
    }
   ],
   "source": [
    "#Replace\n",
    "txt = \"one one was a race horse, two two was one too.\"\n",
    "x = txt.replace(\"one\", \"three\", 2)\n",
    "x"
   ]
  },
  {
   "cell_type": "code",
   "execution_count": 41,
   "metadata": {},
   "outputs": [
    {
     "data": {
      "text/plain": [
       "'banana,ssaaaww...,,'"
      ]
     },
     "execution_count": 41,
     "metadata": {},
     "output_type": "execute_result"
    }
   ],
   "source": [
    "#LStrip\n",
    "txt = \",ssaaaww...,,banana,ssaaaww...,,\"\n",
    "x1 = txt.lstrip(\",.asw\") \n",
    "x1"
   ]
  },
  {
   "cell_type": "code",
   "execution_count": 42,
   "metadata": {},
   "outputs": [
    {
     "data": {
      "text/plain": [
       "(('I could eat ', 'bananas', ' all day, bananas are my favorite fruit'),\n",
       " ('I could eat bananas all day, ', 'bananas', ' are my favorite fruit'),\n",
       " ('I could eat bananas all day, bananas are my favorite fruit', '', ''))"
      ]
     },
     "execution_count": 42,
     "metadata": {},
     "output_type": "execute_result"
    }
   ],
   "source": [
    "#Partition #RPartition\n",
    "txt = \"I could eat bananas all day, bananas are my favorite fruit\"\n",
    "x1 = txt.partition(\"bananas\") \n",
    "x2 = txt.rpartition(\"bananas\")\n",
    "x3 = txt.partition(\"apples\")\n",
    "x1, x2, x3"
   ]
  },
  {
   "cell_type": "code",
   "execution_count": 43,
   "metadata": {},
   "outputs": [
    {
     "data": {
      "text/plain": [
       "(['welcome', 'to', 'the', 'jungle'],\n",
       " ['apple', 'banana#cherry#orange'],\n",
       " ['apple, banana', 'cherry'])"
      ]
     },
     "execution_count": 43,
     "metadata": {},
     "output_type": "execute_result"
    }
   ],
   "source": [
    "#Split RSplit\n",
    "txt = \"welcome to the jungle\"\n",
    "x1 = txt.split() \n",
    "txt = \"apple#banana#cherry#orange\"\n",
    "x2 = txt.split(\"#\", 1) \n",
    "txt = \"apple, banana, cherry\"\n",
    "x3 = txt.rsplit(\", \", 1) \n",
    "x1, x2, x3"
   ]
  },
  {
   "cell_type": "code",
   "execution_count": 44,
   "metadata": {},
   "outputs": [
    {
     "data": {
      "text/plain": [
       "'John#Peter#Vicky'"
      ]
     },
     "execution_count": 44,
     "metadata": {},
     "output_type": "execute_result"
    }
   ],
   "source": [
    "#join\n",
    "x = (\"John\", \"Peter\", \"Vicky\")\n",
    "x = \"#\".join(x) # John#Peter#Vicky\n",
    "x"
   ]
  },
  {
   "cell_type": "code",
   "execution_count": 45,
   "metadata": {},
   "outputs": [
    {
     "data": {
      "text/plain": [
       "'name#country'"
      ]
     },
     "execution_count": 45,
     "metadata": {},
     "output_type": "execute_result"
    }
   ],
   "source": [
    "#Join all items in a dictionary into a string\n",
    "myDict = {\"name\": \"John\", \"country\": \"Norway\"}\n",
    "x = '#'.join(myDict)\n",
    "x"
   ]
  },
  {
   "cell_type": "code",
   "execution_count": 46,
   "metadata": {},
   "outputs": [
    {
     "data": {
      "text/plain": [
       "'Hello-world'"
      ]
     },
     "execution_count": 46,
     "metadata": {},
     "output_type": "execute_result"
    }
   ],
   "source": [
    "l = [\"Hello\", \"world\"]\n",
    "x =\"-\".join(l)\n",
    "x"
   ]
  },
  {
   "cell_type": "markdown",
   "metadata": {},
   "source": [
    ":DATA STRUCTURES"
   ]
  },
  {
   "cell_type": "code",
   "execution_count": 47,
   "metadata": {},
   "outputs": [],
   "source": [
    "txt = ('No better jewel to be worn'\n",
    "'Than you'\n",
    "'No better blessing'\n",
    "'Than you') \n",
    "txt2 = '''No better jewel to be worn\n",
    "Than you\n",
    "No better blessing\n",
    "Than you'''\n",
    "\n",
    "maritalStatus, visa, city, zipcode = 'married', 'H1B', 'Bentonville', 72712\n",
    "l_callLog = ['Kalai', 'Dad', 'Ziyad', 'Srini', 'Kalai', 'Shekar', 'Kalai', 'Srini', 'Balu', 'Voicemail']\n",
    "s_interests = {'BasketBall', 'Music', 'WebApps', 'Swimming', 'Blogging'} #Set has no index function\n",
    "t_family = ('Sakthivel', 'Banumathi', 'Balasubramanian', 'Sudha', 'Kalai', 'Palani', 'Indhu', 'Pari', 'Venba') # Only index and Count\n",
    "d_skills = {'SQL' : 8, 'Python': 6, 'Tableau': 5, 'Datastage': 8, 'Data Analytics': 9}"
   ]
  },
  {
   "cell_type": "code",
   "execution_count": 48,
   "metadata": {
    "scrolled": true
   },
   "outputs": [],
   "source": [
    "l1 = l_callLog.copy()\n",
    "s1 = s_interests.copy()\n",
    "s2 = frozenset(s_interests) #immutable set\n",
    "#t1 = t_family.copy() #AttributeError: 'tuple' object has no attribute 'copy'\n",
    "d1 = d_skills.copy()"
   ]
  },
  {
   "cell_type": "markdown",
   "metadata": {},
   "source": [
    ":SET"
   ]
  },
  {
   "cell_type": "code",
   "execution_count": 49,
   "metadata": {},
   "outputs": [
    {
     "data": {
      "text/plain": [
       "(False, False, False)"
      ]
     },
     "execution_count": 49,
     "metadata": {},
     "output_type": "execute_result"
    }
   ],
   "source": [
    "s1 = {'apple', 'orange', 'pear', 'banana'}\n",
    "s2 = set([1,2,3,4,5,6,'apple','orange',1,2,3,45,6,]) #using constructor\n",
    "s3 = set('123456789') #Convert String to Set\n",
    "x1 = s1.issubset(s2)\n",
    "x2 = s1.issuperset(s2)\n",
    "x3 = s1.isdisjoint(s2)\n",
    "x1, x2, x3"
   ]
  },
  {
   "cell_type": "code",
   "execution_count": 50,
   "metadata": {},
   "outputs": [
    {
     "data": {
      "text/plain": [
       "({'banana', 'pear'},\n",
       " {'banana', 'pear'},\n",
       " {1, 2, 3, 4, 45, 5, 6, 'apple', 'banana', 'orange', 'pear'},\n",
       " {1, 2, 3, 4, 45, 5, 6, 'apple', 'banana', 'orange', 'pear'},\n",
       " {'apple', 'orange'},\n",
       " {'apple', 'orange'},\n",
       " {1, 2, 3, 4, 45, 5, 6, 'banana', 'pear'},\n",
       " {1, 2, 3, 4, 45, 5, 6, 'banana', 'pear'})"
      ]
     },
     "execution_count": 50,
     "metadata": {},
     "output_type": "execute_result"
    }
   ],
   "source": [
    "#Set Operations\n",
    "a1 = s1-s2\n",
    "a2 = s1.difference(s2)\n",
    "\n",
    "b1 = s1 | s2\n",
    "b2 = s1.union(s2)\n",
    "\n",
    "c1 = s1 & s2\n",
    "c2 = s1.intersection(s2)\n",
    "\n",
    "d1 = s1 ^ s2\n",
    "d2 = s1.symmetric_difference(s2)\n",
    "\n",
    "a1, a2, b1, b2, c1, c2, d1, d2"
   ]
  },
  {
   "cell_type": "code",
   "execution_count": 51,
   "metadata": {},
   "outputs": [
    {
     "data": {
      "text/plain": [
       "{'BasketBall',\n",
       " 'Blogging',\n",
       " 'Cooking',\n",
       " 'Music',\n",
       " 'Swimming',\n",
       " 'Trekking',\n",
       " 'Tutoring',\n",
       " 'WebApps',\n",
       " 'x',\n",
       " 'y',\n",
       " 'z'}"
      ]
     },
     "execution_count": 51,
     "metadata": {},
     "output_type": "execute_result"
    }
   ],
   "source": [
    "#Add Elements\n",
    "s_interests.add('Cooking') #Add one item\n",
    "s_interests.update({'Trekking', 'Tutoring'}) #Add multiple items\n",
    "s_interests.update('xyz') #Add multiple items\n",
    "s_interests"
   ]
  },
  {
   "cell_type": "code",
   "execution_count": 52,
   "metadata": {},
   "outputs": [
    {
     "data": {
      "text/plain": [
       "{'BasketBall',\n",
       " 'Blogging',\n",
       " 'Music',\n",
       " 'Swimming',\n",
       " 'Trekking',\n",
       " 'Tutoring',\n",
       " 'WebApps',\n",
       " 'x',\n",
       " 'y',\n",
       " 'z'}"
      ]
     },
     "execution_count": 52,
     "metadata": {},
     "output_type": "execute_result"
    }
   ],
   "source": [
    "#Remove Elements\n",
    "s_interests.remove('Cooking') #Raises an error if item doesn't exist\n",
    "s_interests.discard('Destroyiong the Planet') #Doesn't raise an error if item doesn't exist\n",
    "s_interests"
   ]
  },
  {
   "cell_type": "markdown",
   "metadata": {},
   "source": [
    ":TUPLES\n",
    "Tuples are immutable"
   ]
  },
  {
   "cell_type": "code",
   "execution_count": 53,
   "metadata": {},
   "outputs": [
    {
     "name": "stdout",
     "output_type": "stream",
     "text": [
      "12345\n",
      "((12345, 54321, 'hello!'), (1, 2, 3, 4, 5))\n"
     ]
    }
   ],
   "source": [
    "#Tuples:\n",
    "t1 = 12345, 54321, 'hello!'\n",
    "t2 = t1, (1, 2, 3, 4, 5)\n",
    "print(t1[0])\n",
    "print (t2)"
   ]
  },
  {
   "cell_type": "markdown",
   "metadata": {},
   "source": [
    ":LIST"
   ]
  },
  {
   "cell_type": "code",
   "execution_count": 54,
   "metadata": {},
   "outputs": [
    {
     "name": "stdout",
     "output_type": "stream",
     "text": [
      "List is empty\n"
     ]
    }
   ],
   "source": [
    "l =[]\n",
    "if not l:\n",
    "    print(\"List is empty\")\n",
    "    "
   ]
  },
  {
   "cell_type": "code",
   "execution_count": 55,
   "metadata": {},
   "outputs": [
    {
     "data": {
      "text/plain": [
       "(['b', 'a', 'l', 'i', 'e', 'p', 'a', 'g', 'e', 's'], ['e', 'e'], [])"
      ]
     },
     "execution_count": 55,
     "metadata": {},
     "output_type": "execute_result"
    }
   ],
   "source": [
    "l1 = list('baliepages')\n",
    "l2 = [x for x in l1 if x == 'e']\n",
    "l3 = list(filter(lambda x: x == 'e', l))\n",
    "l1, l2, l3\n"
   ]
  },
  {
   "cell_type": "code",
   "execution_count": 56,
   "metadata": {},
   "outputs": [
    {
     "data": {
      "text/plain": [
       "('M',\n",
       " 'y name is Balie Pages',\n",
       " 's',\n",
       " 'es',\n",
       " 'My name is Balie Pag',\n",
       " 'segaP eilaB si eman yM',\n",
       " ' aei ai ae')"
      ]
     },
     "execution_count": 56,
     "metadata": {},
     "output_type": "execute_result"
    }
   ],
   "source": [
    "#Array\n",
    "txt = 'My name is Balie Pages'\n",
    "x1 = txt[0]\n",
    "x2 = txt[1:25]\n",
    "x3 = txt[-1]    # last item in the array\n",
    "x4 = txt[-2:]   # last two items in the array\n",
    "x5 = txt[:-2]   # everything except the last two items\n",
    "x6 = txt[::-1]   # everything except the last two items\n",
    "x7 = txt[2::2]\n",
    "x1, x2, x3, x4, x5, x6, x7"
   ]
  },
  {
   "cell_type": "code",
   "execution_count": 57,
   "metadata": {
    "scrolled": true
   },
   "outputs": [
    {
     "data": {
      "text/plain": [
       "(5,\n",
       " ['Mommy',\n",
       "  'Kalai',\n",
       "  'Dad',\n",
       "  'Ziyad',\n",
       "  'Srini',\n",
       "  'Kalai',\n",
       "  'Shekar',\n",
       "  'Kalai',\n",
       "  'Srini',\n",
       "  'Balu',\n",
       "  'Voicemail',\n",
       "  'Mommy',\n",
       "  ['Append1', 'Append2'],\n",
       "  'Extend1',\n",
       "  'Extend2'])"
      ]
     },
     "execution_count": 57,
     "metadata": {},
     "output_type": "execute_result"
    }
   ],
   "source": [
    "#Add Elements\n",
    "#Append, Extend, Insert\n",
    "\n",
    "idx_Shekar = l_callLog.index(\"Shekar\")\n",
    "\n",
    "l_callLog.append('Mommy')\n",
    "l_callLog.append(['Append1','Append2']) # l_callLog.remove(['Append1', 'Append2'])\n",
    "l_callLog.extend(['Extend1','Extend2'])\n",
    "l_callLog.insert(0,'Mommy')\n",
    "\n",
    "idx_Shekar, l_callLog\n"
   ]
  },
  {
   "cell_type": "code",
   "execution_count": 58,
   "metadata": {},
   "outputs": [
    {
     "data": {
      "text/plain": [
       "('Extend2',\n",
       " 'Ziyad',\n",
       " ['Kalai',\n",
       "  'Dad',\n",
       "  'Srini',\n",
       "  'Shekar',\n",
       "  'Kalai',\n",
       "  'Srini',\n",
       "  'Balu',\n",
       "  'Voicemail',\n",
       "  'Mommy',\n",
       "  'Extend1'])"
      ]
     },
     "execution_count": 58,
     "metadata": {},
     "output_type": "execute_result"
    }
   ],
   "source": [
    "#Remove Elements\n",
    "l_callLog.remove(['Append1', 'Append2'])\n",
    "l_callLog.remove('Mommy') #Delete by item : Deletes only first occurence\n",
    "x1 = l_callLog.pop() #popped value can be captured in a variable for processing. Deleted value is not.\n",
    "x2 = l_callLog.pop(2)\n",
    "del l_callLog[3] #Delete by Index\n",
    "x1, x2, l_callLog\n"
   ]
  },
  {
   "cell_type": "code",
   "execution_count": 59,
   "metadata": {},
   "outputs": [],
   "source": [
    "#Update Elements\n",
    "l_callLog[0] = 'Kalai_updated'"
   ]
  },
  {
   "cell_type": "code",
   "execution_count": 60,
   "metadata": {},
   "outputs": [],
   "source": [
    "#Reverse\n",
    "l_callLog.reverse() #Modified in-place\n",
    "l_rev = reversed(l_callLog)\n"
   ]
  },
  {
   "cell_type": "code",
   "execution_count": 61,
   "metadata": {},
   "outputs": [
    {
     "data": {
      "text/plain": [
       "(['a', 'n', 'a', 'n', 'a', 'b'], ['a', 'a', 'a', 'b', 'n', 'n'])"
      ]
     },
     "execution_count": 61,
     "metadata": {},
     "output_type": "execute_result"
    }
   ],
   "source": [
    "a = list('banana')\n",
    "x1 = a[::-1]\n",
    "x2 = sorted(a)\n",
    "x1, x2"
   ]
  },
  {
   "cell_type": "code",
   "execution_count": 62,
   "metadata": {},
   "outputs": [
    {
     "data": {
      "text/plain": [
       "[5, 2, 5, 7]"
      ]
     },
     "execution_count": 62,
     "metadata": {},
     "output_type": "execute_result"
    }
   ],
   "source": [
    "#Exercise\n",
    "#Get the list with the maximum nth element\n",
    "import functools \n",
    "from functools import reduce\n",
    "\n",
    "l = [[1,2,3,4],[5,2,5,7],[1,6,0,2]]\n",
    "n = 2\n",
    "reduce(lambda x,y: x if x[n] > y[n] else y, l)\n",
    "# would return [5, 2, 5, 7] as it is the list with max 3rd element "
   ]
  },
  {
   "cell_type": "markdown",
   "metadata": {},
   "source": [
    ":COLLECTIONS"
   ]
  },
  {
   "cell_type": "code",
   "execution_count": 63,
   "metadata": {},
   "outputs": [
    {
     "data": {
      "text/plain": [
       "deque(['Michael', 'Terry', 'Graham'])"
      ]
     },
     "execution_count": 63,
     "metadata": {},
     "output_type": "execute_result"
    }
   ],
   "source": [
    "from collections import deque\n",
    "queue = deque([\"Eric\", \"John\", \"Michael\"])\n",
    "queue.append(\"Terry\")           # Terry arrives\n",
    "queue.append(\"Graham\")          # Graham arrives\n",
    "queue.popleft()                 # Eric leaves\n",
    "queue.popleft()                 # John leaves\n",
    "queue"
   ]
  },
  {
   "cell_type": "code",
   "execution_count": 3,
   "metadata": {
    "scrolled": true
   },
   "outputs": [
    {
     "data": {
      "text/plain": [
       "(Counter({'January': 10,\n",
       "          'February': 15,\n",
       "          'March': 50,\n",
       "          'April': 10,\n",
       "          'May': 15,\n",
       "          'June': 25,\n",
       "          'July': 30,\n",
       "          'August': 15,\n",
       "          'September': 20,\n",
       "          'October': 30,\n",
       "          'November': 10,\n",
       "          'December': 15}),\n",
       " Counter({'January': 36,\n",
       "          'February': 60,\n",
       "          'March': 90,\n",
       "          'April': 70,\n",
       "          'May': 90,\n",
       "          'June': 50,\n",
       "          'July': 35,\n",
       "          'August': 15,\n",
       "          'September': 20,\n",
       "          'October': 75,\n",
       "          'November': 60,\n",
       "          'December': 50}))"
      ]
     },
     "execution_count": 3,
     "metadata": {},
     "output_type": "execute_result"
    }
   ],
   "source": [
    "#Exercise\n",
    "#Find the MIN/MAX values in each month across the different years\n",
    "\n",
    "from functools import reduce\n",
    "from collections import Counter\n",
    "\n",
    "stat2011 = Counter({\"January\": 12, \"February\": 20, \"March\": 50, \"April\": 70, \"May\": 15,\n",
    "           \"June\": 35, \"July\": 30, \"August\": 15, \"September\": 20, \"October\": 60,\n",
    "           \"November\": 13, \"December\": 50})\n",
    "\n",
    "stat2012 = Counter({\"January\": 36, \"February\": 15, \"March\": 50, \"April\": 10, \"May\": 90,\n",
    "           \"June\": 25, \"July\": 35, \"August\": 15, \"September\": 20, \"October\": 30,\n",
    "           \"November\": 10, \"December\": 25})\n",
    "\n",
    "stat2013 = Counter({\"January\": 10, \"February\": 60, \"March\": 90, \"April\": 10, \"May\": 80,\n",
    "           \"June\": 50, \"July\": 30, \"August\": 15, \"September\": 20, \"October\": 75,\n",
    "           \"November\": 60, \"December\": 15})\n",
    "\n",
    "stat_list = [stat2011, stat2012, stat2013]\n",
    "\n",
    "x_min = reduce(lambda x, y: x & y, stat_list)     # MIN\n",
    "x_max = reduce(lambda x, y: x | y, stat_list)     # MAX\n",
    "x_min, x_max\n"
   ]
  },
  {
   "cell_type": "code",
   "execution_count": 65,
   "metadata": {},
   "outputs": [
    {
     "name": "stdout",
     "output_type": "stream",
     "text": [
      "a --> 1\n",
      "b --> 10\n",
      "c --> 11\n"
     ]
    }
   ],
   "source": [
    "from collections import ChainMap\n",
    "x = {'a':1, 'b': 2}\n",
    "y = {'b':10, 'c': 11}\n",
    "z = ChainMap({}, y, x)\n",
    "for k, v in z.items():\n",
    "\tprint(k, '-->', v)"
   ]
  },
  {
   "cell_type": "code",
   "execution_count": 66,
   "metadata": {},
   "outputs": [
    {
     "name": "stdout",
     "output_type": "stream",
     "text": [
      "{'roll_nbr': [1, 2], 'name': ['Balie', 'Pages']}\n"
     ]
    }
   ],
   "source": [
    "#Collections\n",
    "from collections import defaultdict\n",
    "m = defaultdict(list)\n",
    "m['roll_nbr'].append(1)\n",
    "m['roll_nbr'].append(2)\n",
    "m['name'] = ['Balie'] # If it were a simple Str instead of Array 'AttributeError: 'str' object has no attribute 'append' '\n",
    "m['name'].append('Pages')\n",
    "print(dict(m))"
   ]
  },
  {
   "cell_type": "markdown",
   "metadata": {},
   "source": [
    ":MATRIX"
   ]
  },
  {
   "cell_type": "code",
   "execution_count": 67,
   "metadata": {},
   "outputs": [
    {
     "data": {
      "text/plain": [
       "([(1, 5, 9), (2, 6, 10), (3, 7, 11), (4, 8, 12)],\n",
       " [[1, 5, 9], [2, 6, 10], [3, 7, 11], [4, 8, 12]])"
      ]
     },
     "execution_count": 67,
     "metadata": {},
     "output_type": "execute_result"
    }
   ],
   "source": [
    "#Exercise\n",
    "#Transpose Matrix\n",
    "matrix = [\n",
    "    [1, 2, 3, 4],\n",
    "    [5, 6, 7, 8],\n",
    "    [9, 10, 11, 12],\n",
    "]\n",
    "\n",
    "T_matrix1 = list(zip(*matrix))\n",
    "T_matrix2 = [[row[i] for row in matrix] for i in range(4)]\n",
    "T_matrix1, T_matrix2"
   ]
  },
  {
   "cell_type": "markdown",
   "metadata": {},
   "source": [
    ":DICT"
   ]
  },
  {
   "cell_type": "code",
   "execution_count": 68,
   "metadata": {},
   "outputs": [
    {
     "name": "stdout",
     "output_type": "stream",
     "text": [
      "brand\n",
      "model\n",
      "year\n",
      "Ford\n",
      "Mustang\n",
      "1964\n",
      "Ford\n",
      "Mustang\n",
      "1964\n",
      "brand Ford\n",
      "model Mustang\n",
      "year 1964\n",
      "('brand', 'Ford')\n",
      "('model', 'Mustang')\n",
      "('year', 1964)\n"
     ]
    },
    {
     "data": {
      "text/plain": [
       "'Mustang'"
      ]
     },
     "execution_count": 68,
     "metadata": {},
     "output_type": "execute_result"
    }
   ],
   "source": [
    "thisdict =\t{\n",
    "  'brand': 'Ford',\n",
    "  'model': 'Mustang',\n",
    "  'year': 1964\n",
    "}\n",
    "\n",
    "for x in thisdict:\n",
    "  print(x) # Prints brand model year\n",
    "for x in thisdict:\n",
    "  print(thisdict[x]) # Prints Ford Mustand 1964\n",
    "for x in thisdict.values():\n",
    "  print(x) # Prints Ford Mustand 1964\n",
    "for x, y in thisdict.items():\n",
    "  print(x, y)\n",
    "for x in thisdict.items():\n",
    "  print(x)\n",
    "\n",
    "model = thisdict.get('model')\n",
    "model\n"
   ]
  },
  {
   "cell_type": "code",
   "execution_count": 69,
   "metadata": {},
   "outputs": [
    {
     "name": "stdout",
     "output_type": "stream",
     "text": [
      "Skill Found\n"
     ]
    }
   ],
   "source": [
    "#Exercise\n",
    "#Check if a given key already exists in a dictionary\n",
    "if 'Python' in d_skills:\n",
    "    print('Skill Found')"
   ]
  },
  {
   "cell_type": "code",
   "execution_count": 70,
   "metadata": {},
   "outputs": [
    {
     "name": "stdout",
     "output_type": "stream",
     "text": [
      "<class 'dict'>\n"
     ]
    }
   ],
   "source": [
    "print(type(d_skills))"
   ]
  },
  {
   "cell_type": "code",
   "execution_count": 71,
   "metadata": {
    "scrolled": true
   },
   "outputs": [
    {
     "data": {
      "text/plain": [
       "(dict_keys(['SQL', 'Python', 'Tableau', 'Datastage', 'Data Analytics']),\n",
       " dict_values([8, 6, 5, 8, 9]),\n",
       " dict_items([('SQL', 8), ('Python', 6), ('Tableau', 5), ('Datastage', 8), ('Data Analytics', 9)]))"
      ]
     },
     "execution_count": 71,
     "metadata": {},
     "output_type": "execute_result"
    }
   ],
   "source": [
    "d_skills.keys(), d_skills.values(), d_skills.items()"
   ]
  },
  {
   "cell_type": "code",
   "execution_count": 72,
   "metadata": {},
   "outputs": [
    {
     "name": "stdout",
     "output_type": "stream",
     "text": [
      "SQL\n",
      "Python\n",
      "Tableau\n",
      "Datastage\n",
      "Data Analytics\n"
     ]
    }
   ],
   "source": [
    "for x in d_skills: #works for all iterables including dict\n",
    "  print(x)"
   ]
  },
  {
   "cell_type": "code",
   "execution_count": 73,
   "metadata": {
    "scrolled": false
   },
   "outputs": [
    {
     "data": {
      "text/plain": [
       "[('Data Analytics', 9),\n",
       " ('Datastage', 8),\n",
       " ('SQL', 8),\n",
       " ('Python', 6),\n",
       " ('Tableau', 5)]"
      ]
     },
     "execution_count": 73,
     "metadata": {},
     "output_type": "execute_result"
    }
   ],
   "source": [
    "#Sort by value\n",
    "import operator\n",
    "sorted_dict = list(reversed(sorted(d_skills.items(), key=operator.itemgetter(1))))\n",
    "sorted_dict"
   ]
  },
  {
   "cell_type": "code",
   "execution_count": 74,
   "metadata": {
    "scrolled": false
   },
   "outputs": [
    {
     "data": {
      "text/plain": [
       "[('Data Analytics', 9),\n",
       " ('Datastage', 8),\n",
       " ('Python', 6),\n",
       " ('SQL', 8),\n",
       " ('Tableau', 5)]"
      ]
     },
     "execution_count": 74,
     "metadata": {},
     "output_type": "execute_result"
    }
   ],
   "source": [
    "#Sort by Key\n",
    "sorted_dict = list(sorted(d_skills.items(), key=operator.itemgetter(0)))\n",
    "sorted_dict"
   ]
  },
  {
   "cell_type": "code",
   "execution_count": 75,
   "metadata": {},
   "outputs": [
    {
     "name": "stdout",
     "output_type": "stream",
     "text": [
      "{'name': 'Penguin', 'rank': -1, 'rofl': 10000}\n",
      "{'name': 'foo', 'rank': 0, 'rofl': 20000}\n",
      "{'name': 'Zoo', 'rank': 10, 'rofl': 200}\n",
      "{'name': 'Silly', 'rank': 15, 'rofl': 1000}\n",
      "{'name': 'Baa', 'rank': 300, 'rofl': 20}\n"
     ]
    }
   ],
   "source": [
    "#Sort by Values of Specific Attribute\n",
    "origin_list = [\n",
    "    {\"name\": \"foo\", \"rank\": 0, \"rofl\": 20000},\n",
    "    {\"name\": \"Silly\", \"rank\": 15, \"rofl\": 1000},\n",
    "    {\"name\": \"Baa\", \"rank\": 300, \"rofl\": 20},\n",
    "    {\"name\": \"Zoo\", \"rank\": 10, \"rofl\": 200},\n",
    "    {\"name\": \"Penguin\", \"rank\": -1, \"rofl\": 10000}\n",
    "]\n",
    "\n",
    "for x in sorted(origin_list, key=operator.itemgetter(\"rank\")):\n",
    "    print (x)\n",
    "\t\n"
   ]
  },
  {
   "cell_type": "code",
   "execution_count": 76,
   "metadata": {},
   "outputs": [
    {
     "data": {
      "text/plain": [
       "[5, 2, 5, 7]"
      ]
     },
     "execution_count": 76,
     "metadata": {},
     "output_type": "execute_result"
    }
   ],
   "source": [
    "#Exercise\n",
    "#Get the list with the maximum nth element\n",
    "l = [[1,2,3,4],[5,2,5,7],[1,6,0,2]]\n",
    "n = 2\n",
    "reduce(lambda x,y: x if x[n] > y[n] else y, l)\n",
    "# would return [5, 2, 5, 7] as it is the list with max 3rd element "
   ]
  },
  {
   "cell_type": "code",
   "execution_count": 77,
   "metadata": {},
   "outputs": [
    {
     "name": "stdout",
     "output_type": "stream",
     "text": [
      "Data Analytics SQL Datastage "
     ]
    },
    {
     "data": {
      "text/plain": [
       "['Data Analytics', 'SQL', 'Datastage', 'Python', 'Tableau']"
      ]
     },
     "execution_count": 77,
     "metadata": {},
     "output_type": "execute_result"
    }
   ],
   "source": [
    "#Reusable function with parameter to define top n\n",
    "def topDictItems(unsortedDict, Qty):\n",
    "  top5Dict = sorted(unsortedDict, key=unsortedDict.get, reverse=True)[:5]\n",
    "  for x in range(Qty):\n",
    "  \tprint(top5Dict[x], end=' ')\n",
    "  return top5Dict\n",
    "\n",
    "topSkills = topDictItems(d_skills, 3)\n",
    "topSkills"
   ]
  },
  {
   "cell_type": "code",
   "execution_count": 78,
   "metadata": {},
   "outputs": [
    {
     "data": {
      "text/plain": [
       "({'a': 1, 'b': 10, 'c': 11}, {'a': 1, 'b': 10, 'c': 11})"
      ]
     },
     "execution_count": 78,
     "metadata": {},
     "output_type": "execute_result"
    }
   ],
   "source": [
    "#Exercise\n",
    "#How to merge two Python dictionaries in a single expression?\n",
    "x = {'a':1, 'b': 2}\n",
    "y = {'b':10, 'c': 11}\n",
    "x.update(y) #This alters the original dict. \n",
    "#If you want original dicts to be unaffected try the following\n",
    "z = {**x, **y}\n",
    "x, z"
   ]
  },
  {
   "cell_type": "code",
   "execution_count": 79,
   "metadata": {},
   "outputs": [
    {
     "data": {
      "text/plain": [
       "({'a': 1,\n",
       "  'b': 10,\n",
       "  'c': 11,\n",
       "  'SQL': 8,\n",
       "  'Python': 6,\n",
       "  'Tableau': 5,\n",
       "  'Datastage': 8,\n",
       "  'Data Analytics': 9},\n",
       " {'a': 1, 'b': 10, 'c': 11})"
      ]
     },
     "execution_count": 79,
     "metadata": {},
     "output_type": "execute_result"
    }
   ],
   "source": [
    "def merge_dicts(*dict_args):\n",
    "    #Given any number of dicts, shallow copy and merge into a new dict\n",
    "    #precedence goes to key value pairs in latter dicts.\n",
    "    result = {}\n",
    "    for dictionary in dict_args:\n",
    "        result.update(dictionary)\n",
    "    return result\n",
    "\t\n",
    "z1 = merge_dicts(x, y, d_skills) \n",
    "import itertools\n",
    "z2 = dict(itertools.chain(x.items(), y.items()))\n",
    "z1, z2"
   ]
  },
  {
   "cell_type": "code",
   "execution_count": 80,
   "metadata": {},
   "outputs": [
    {
     "data": {
      "text/plain": [
       "({'name': 'Pluto', 'details': {'tail': True, 'color': 'orange'}},\n",
       " {'name': 'Pluutoo', 'details': {'color': 'blue', 'tail': True}},\n",
       " {'name': 'Pluutoo', 'details': {'color': 'blue', 'tail': True}})"
      ]
     },
     "execution_count": 80,
     "metadata": {},
     "output_type": "execute_result"
    }
   ],
   "source": [
    "#Recursively/deep update a dict:\n",
    "\n",
    "pluto_original = {\n",
    "    'name': 'Pluto',\n",
    "    'details': {\n",
    "        'tail': True,\n",
    "        'color': 'orange'\n",
    "    }\n",
    "}\n",
    "\n",
    "pluto_update = {\n",
    "    'name': 'Pluutoo',\n",
    "    'details': {\n",
    "        'color': 'blue'\n",
    "    }\n",
    "}\n",
    "\n",
    "\n",
    "def deepupdate(original, update):\n",
    "    #Recursively update a dict.\n",
    "    #Subdict's won't be overwritten but also updated.\n",
    "    for key, value in original.items(): \n",
    "        if key not in update:\n",
    "            update[key] = value\n",
    "        elif isinstance(value, dict):\n",
    "            deepupdate(value, update[key]) \n",
    "    return update\n",
    "\n",
    "pluto_original, pluto_update, deepupdate(pluto_original, pluto_update)"
   ]
  },
  {
   "cell_type": "code",
   "execution_count": 81,
   "metadata": {},
   "outputs": [
    {
     "data": {
      "text/plain": [
       "(13.5, 11)"
      ]
     },
     "execution_count": 81,
     "metadata": {},
     "output_type": "execute_result"
    }
   ],
   "source": [
    "carProfile = dict(brand='Toyota', \n",
    "                  model='Camry', \n",
    "                  year=2014, \n",
    "                  miles = 50000, \n",
    "                  color= 'grey') #constructor\n",
    "\n",
    "balieProfile = {\n",
    "  'name': 'Balie',\n",
    "  'age': 36,\n",
    "  'married' : True,\n",
    "  'country': 'India',\n",
    "  'company': 'Cognizant',\n",
    "  'experience': 13.5,\n",
    "  'department': 'AIM',\n",
    "  'dummyprop': 'dummyval',\n",
    "  'children': ('Ann','Billy'),\n",
    "  'pets': None,\n",
    "  'cars': [\n",
    "    {'model': 'BMW 230', 'mpg': 27.5},\n",
    "    {'model': 'Ford Edge', 'mpg': 24.1}\n",
    "  ]\n",
    "}\n",
    "\n",
    "exp = balieProfile.get('experience')\n",
    "attr_len = len(balieProfile)\n",
    "\n",
    "exp, attr_len"
   ]
  },
  {
   "cell_type": "code",
   "execution_count": 82,
   "metadata": {},
   "outputs": [
    {
     "data": {
      "text/plain": [
       "{'brand': 'Toyota',\n",
       " 'model': 'Camry',\n",
       " 'year': 2014,\n",
       " 'miles': 50000,\n",
       " 'color': 'grey',\n",
       " 'engine': 'v6'}"
      ]
     },
     "execution_count": 82,
     "metadata": {},
     "output_type": "execute_result"
    }
   ],
   "source": [
    "#Add Elements\n",
    "carProfile['engine'] = 'v6'\n",
    "carProfile"
   ]
  },
  {
   "cell_type": "code",
   "execution_count": 83,
   "metadata": {},
   "outputs": [
    {
     "data": {
      "text/plain": [
       "{'brand': 'Toyota',\n",
       " 'model': 'Camry',\n",
       " 'year': 2014,\n",
       " 'miles': 50000,\n",
       " 'color': 'Green_updated',\n",
       " 'engine': 'v6'}"
      ]
     },
     "execution_count": 83,
     "metadata": {},
     "output_type": "execute_result"
    }
   ],
   "source": [
    "#Update Elements\n",
    "carProfile['color'] = 'Grey_updated'\n",
    "carProfile.update({'color': 'Green_updated'})\n",
    "#jude.name += ' Vijay'\n",
    "carProfile"
   ]
  },
  {
   "cell_type": "code",
   "execution_count": 84,
   "metadata": {},
   "outputs": [
    {
     "data": {
      "text/plain": [
       "{'name': 'Balie',\n",
       " 'age': 36,\n",
       " 'married': True,\n",
       " 'country': 'India',\n",
       " 'company': 'Cognizant',\n",
       " 'experience': 13.5,\n",
       " 'children': ('Ann', 'Billy'),\n",
       " 'pets': None}"
      ]
     },
     "execution_count": 84,
     "metadata": {},
     "output_type": "execute_result"
    }
   ],
   "source": [
    "#Remove Elements\n",
    "del balieProfile['department']\n",
    "balieProfile.pop('dummyprop')\n",
    "x = balieProfile.popitem()  # Removes the last inserted key-value pair\n",
    "#del jude.name\n",
    "balieProfile"
   ]
  },
  {
   "cell_type": "code",
   "execution_count": 85,
   "metadata": {},
   "outputs": [
    {
     "data": {
      "text/plain": [
       "'B'"
      ]
     },
     "execution_count": 85,
     "metadata": {},
     "output_type": "execute_result"
    }
   ],
   "source": [
    "#Conditional Assignment:\n",
    "v_skillCount = 0\n",
    "\n",
    "for k, v in d_skills.items():\n",
    "\tv_skillCount += 1\n",
    "\n",
    "#If ElIf Else\n",
    "if v_skillCount > 7:\n",
    "\tbalieProfile['skillLevel'] = 'A'\n",
    "elif v_skillCount >= 4 and v_skillCount <= 7:\n",
    "\tbalieProfile['skillLevel'] = 'B'\n",
    "else:\n",
    "\tbalieProfile['skillLevel'] = 'C'\n",
    "\n",
    "#Is same as\n",
    "balieProfile['skillLevel'] = 'A' if (v_skillCount > 7) else 'B' if (v_skillCount >= 4 and v_skillCount <= 7) else 'C'\n",
    "\n",
    "balieProfile['skillLevel']\n",
    "   "
   ]
  },
  {
   "cell_type": "code",
   "execution_count": 86,
   "metadata": {},
   "outputs": [
    {
     "data": {
      "text/plain": [
       "({'Bob': 23, 'Marie': 27, 'Alice': 36},\n",
       " (('Bob', 23), ('Marie', 27), ('Alice', 36)))"
      ]
     },
     "execution_count": 86,
     "metadata": {},
     "output_type": "execute_result"
    }
   ],
   "source": [
    "names = ['Bob', 'Marie', 'Alice']\n",
    "ages = [23, 27, 36]\n",
    "d1 = dict(zip(names, ages))\n",
    "d2 = tuple(zip(names, ages))\n",
    "d1, d2\n"
   ]
  },
  {
   "cell_type": "code",
   "execution_count": 87,
   "metadata": {},
   "outputs": [
    {
     "data": {
      "text/plain": [
       "({'key1': 0, 'key2': 0, 'key3': 0}, {'key1': None, 'key2': None, 'key3': None})"
      ]
     },
     "execution_count": 87,
     "metadata": {},
     "output_type": "execute_result"
    }
   ],
   "source": [
    "#The fromkeys() method returns a dictionary with the specified keys and values.\n",
    "x = ('key1', 'key2', 'key3')\n",
    "y = 0\n",
    "thisdict1 = dict.fromkeys(x, y) \n",
    "thisdict2 = dict.fromkeys(x)\n",
    "thisdict1, thisdict2\n"
   ]
  },
  {
   "cell_type": "markdown",
   "metadata": {},
   "source": [
    ":PASS BY VALUE Vs PASS BY REF"
   ]
  },
  {
   "cell_type": "code",
   "execution_count": 88,
   "metadata": {},
   "outputs": [],
   "source": [
    "#Pass by reference Vs Pass by value\n",
    "def update_list(the_list):\n",
    "    the_list.append('four') \n",
    "    # modified in place - Be careful with mutable arguments \n",
    "    #multiple calls would load repeatedly\n",
    "\n",
    "def update_list(the_list):\n",
    "    the_list = ['Some', 'new', 'values'] \n",
    "    #assignment does not override original value\n"
   ]
  },
  {
   "cell_type": "markdown",
   "metadata": {},
   "source": [
    ":UNPACK ARGS"
   ]
  },
  {
   "cell_type": "code",
   "execution_count": 89,
   "metadata": {
    "scrolled": true
   },
   "outputs": [
    {
     "name": "stdout",
     "output_type": "stream",
     "text": [
      "Do you have any Cheese ?\n",
      "I'm sorry, we're all out of Cheese\n",
      "My Name is Balie. I am\n",
      "34\n",
      "----------------------------------------\n",
      "client : John Cleese\n",
      "shopkeeper : Michael Palin\n"
     ]
    }
   ],
   "source": [
    "def cheeseshop(kind, *arguments, **keywords):\n",
    "    print(\"Do you have any\", kind, \"?\")\n",
    "    print(\"I'm sorry, we're all out of\", kind)\n",
    "    for arg in arguments:\n",
    "        print(arg)\n",
    "    print(\"-\" * 40)\n",
    "    keys = sorted(keywords.keys())\n",
    "    for kw in keys:\n",
    "        print(kw, \":\", keywords[kw])\n",
    "\n",
    "cheeseshop(\"Cheese\", \"My Name is Balie. I am\",\n",
    "           34,\n",
    "           shopkeeper=\"Michael Palin\",\n",
    "           client=\"John Cleese\")"
   ]
  },
  {
   "cell_type": "code",
   "execution_count": 90,
   "metadata": {},
   "outputs": [
    {
     "name": "stdout",
     "output_type": "stream",
     "text": [
      "3 4\n",
      "2 3\n"
     ]
    }
   ],
   "source": [
    "def draw_point(x, y):\n",
    "    print(x, y)\n",
    "\n",
    "t_args = (3, 4)\n",
    "d_args = {'y': 3, 'x': 2} #Not positional \n",
    "\n",
    "draw_point(*t_args)\n",
    "draw_point(**d_args)"
   ]
  },
  {
   "cell_type": "markdown",
   "metadata": {},
   "source": [
    ":TUPLE UNPACKING"
   ]
  },
  {
   "cell_type": "code",
   "execution_count": 91,
   "metadata": {},
   "outputs": [
    {
     "data": {
      "text/plain": [
       "('First: 1', ' Second: 2', ' Rest: [3, 4, 5, 6, 7, 8]')"
      ]
     },
     "execution_count": 91,
     "metadata": {},
     "output_type": "execute_result"
    }
   ],
   "source": [
    "first,second,*rest = (1,2,3,4,5,6,7,8)\n",
    "\"First: \" + str(first), \" Second: \" + str(second), \" Rest: \"  + str(rest)"
   ]
  },
  {
   "cell_type": "code",
   "execution_count": 92,
   "metadata": {},
   "outputs": [
    {
     "data": {
      "text/plain": [
       "('First: 1', ' Last: 8', ' Rest: [2, 3, 4, 5, 6, 7]')"
      ]
     },
     "execution_count": 92,
     "metadata": {},
     "output_type": "execute_result"
    }
   ],
   "source": [
    "first,*rest,last = (1,2,3,4,5,6,7,8)\n",
    "\"First: \" + str(first), \" Last: \" + str(last), \" Rest: \"  + str(rest)"
   ]
  },
  {
   "cell_type": "markdown",
   "metadata": {},
   "source": [
    ":LOOP"
   ]
  },
  {
   "cell_type": "code",
   "execution_count": 93,
   "metadata": {},
   "outputs": [
    {
     "name": "stdout",
     "output_type": "stream",
     "text": [
      "0 1 1 2 3 5 8 13 21 "
     ]
    }
   ],
   "source": [
    "#Exercise\n",
    "#Fibonacci \n",
    "def fib(n): \n",
    "     a, b = 0, 1\n",
    "     while a < n:\n",
    "         print(a, end=' ') #instead of printing in a new line, a space is added.\n",
    "         a, b = b, a+b\n",
    "\n",
    "fib(25)"
   ]
  },
  {
   "cell_type": "code",
   "execution_count": 94,
   "metadata": {},
   "outputs": [
    {
     "data": {
      "text/plain": [
       "(112700, 232792560)"
      ]
     },
     "execution_count": 94,
     "metadata": {},
     "output_type": "execute_result"
    }
   ],
   "source": [
    "#Exercise\n",
    "#LCM\n",
    "from math import gcd\n",
    "def lcm(*args):\n",
    "    return reduce(lambda a,b: a * b // gcd(a, b), args)\n",
    "\n",
    "x1 = lcm(100, 23, 98) # 112700\n",
    "x2 = lcm(*range(1, 20)) # 232792560\n",
    "x1, x2"
   ]
  },
  {
   "cell_type": "code",
   "execution_count": 95,
   "metadata": {},
   "outputs": [
    {
     "name": "stdout",
     "output_type": "stream",
     "text": [
      "red apple\n",
      "red banana\n",
      "red cherry\n",
      "big apple\n",
      "big banana\n",
      "big cherry\n",
      "tasty apple\n",
      "tasty banana\n",
      "tasty cherry\n"
     ]
    }
   ],
   "source": [
    "adj = ['red', 'big', 'tasty']\n",
    "fruits = ['apple', 'banana', 'cherry']\n",
    "\n",
    "for x in adj:\n",
    "  for y in fruits:\n",
    "    print(x, y)"
   ]
  },
  {
   "cell_type": "code",
   "execution_count": 96,
   "metadata": {},
   "outputs": [
    {
     "name": "stdout",
     "output_type": "stream",
     "text": [
      "9\n",
      "7\n",
      "5\n",
      "3\n",
      "1\n"
     ]
    }
   ],
   "source": [
    "for i in reversed(range(1, 10, 2)):\n",
    "\tprint(i)"
   ]
  },
  {
   "cell_type": "code",
   "execution_count": 97,
   "metadata": {
    "scrolled": true
   },
   "outputs": [
    {
     "name": "stdout",
     "output_type": "stream",
     "text": [
      "apple\n",
      "banana\n",
      "orange\n",
      "pear\n"
     ]
    }
   ],
   "source": [
    "basket = ['apple', 'orange', 'apple', 'pear', 'orange', 'banana']\n",
    "for f in sorted(set(basket)):\n",
    "\tprint(f)"
   ]
  },
  {
   "cell_type": "markdown",
   "metadata": {},
   "source": [
    ":CLASS"
   ]
  },
  {
   "cell_type": "code",
   "execution_count": 98,
   "metadata": {},
   "outputs": [
    {
     "data": {
      "text/plain": [
       "(136168, 'Balie', '136168@cognizant.com')"
      ]
     },
     "execution_count": 98,
     "metadata": {},
     "output_type": "execute_result"
    }
   ],
   "source": [
    "#Class\n",
    "#Parent Class\n",
    "class Employee:\n",
    "  def __init__(self, empid, name):\n",
    "    self.empid = empid\n",
    "    self.name = name\n",
    "\n",
    "  def getEMail(self):\n",
    "    return str(self.empid) + '@cognizant.com'\n",
    "\n",
    "#Child Class\n",
    "class SrAssociate(Employee):\n",
    "  def __init__(self, empid, name, minSalary = 75000):\n",
    "  \tEmployee.__init__(self, empid, name)\n",
    "  \tself.minSalary = minSalary\n",
    "\n",
    "  def getBonus(self):\n",
    "    return self.minSalary*0.1\n",
    "\n",
    "#Child Class\n",
    "class JrAssociate(Employee):\n",
    "  def __init__(self, empid, name, minSalary = 65000):\n",
    "  \tEmployee.__init__(self, empid, name)\n",
    "  \tself.minSalary = minSalary\n",
    "\n",
    "  def getBonus(self):\n",
    "    return self.minSalary*0.05\n",
    "\n",
    "\n",
    "balie = Employee(136168,'Balie')\n",
    "balie.empid, balie.name, balie.getEMail()\n",
    "#print(balie.minSalary)\n",
    "#AttributeError: 'Employee' object has no attribute 'minSalary'"
   ]
  },
  {
   "cell_type": "code",
   "execution_count": 99,
   "metadata": {},
   "outputs": [
    {
     "data": {
      "text/plain": [
       "(136169, 'Jude', '136169@cognizant.com', 80000, 8000.0)"
      ]
     },
     "execution_count": 99,
     "metadata": {},
     "output_type": "execute_result"
    }
   ],
   "source": [
    "jude = SrAssociate(136169,'Jude', 80000)\n",
    "jude.empid, jude.name, jude.getEMail(), jude.minSalary, jude.getBonus()\n",
    "\n",
    "#if hasattr(jude, 'empid'):\n",
    "\t#getattr(jude, 'empid') # same as jude.empid\n",
    "\t#setattr(jude, 'empid', 9999) #same as jude.empid = 9999\n",
    "\t#delattr(jude, 'empid') # same as del jude.empid\n"
   ]
  },
  {
   "cell_type": "code",
   "execution_count": 100,
   "metadata": {
    "scrolled": true
   },
   "outputs": [
    {
     "data": {
      "text/plain": [
       "(136170, 'Jude', '136170@cognizant.com', 60000, 3000.0)"
      ]
     },
     "execution_count": 100,
     "metadata": {},
     "output_type": "execute_result"
    }
   ],
   "source": [
    "karthi = JrAssociate(136170,'Jude', 60000)\n",
    "karthi.empid, karthi.name, karthi.getEMail(), karthi.minSalary, karthi.getBonus()"
   ]
  },
  {
   "cell_type": "code",
   "execution_count": 101,
   "metadata": {},
   "outputs": [
    {
     "data": {
      "text/plain": [
       "(True, True, True)"
      ]
     },
     "execution_count": 101,
     "metadata": {},
     "output_type": "execute_result"
    }
   ],
   "source": [
    "x1 = isinstance(5, int) \n",
    "x2 = isinstance(\"Hello\", (float, int, str, list, dict, tuple))\n",
    "x3 = issubclass(SrAssociate, Employee) \n",
    "#The issubclass() function checks if the specified object is a subclass of the specified object\n",
    "\n",
    "x1, x2, x3"
   ]
  },
  {
   "cell_type": "markdown",
   "metadata": {},
   "source": [
    ":LAMBDA\n",
    "Non-named non-reusable functions to implement simpler functionality"
   ]
  },
  {
   "cell_type": "code",
   "execution_count": 6,
   "metadata": {},
   "outputs": [
    {
     "data": {
      "text/plain": [
       "[0, 1, 4, 9, 16, 25, 36, 49, 64, 81]"
      ]
     },
     "execution_count": 6,
     "metadata": {},
     "output_type": "execute_result"
    }
   ],
   "source": [
    "[(lambda x: x*x)(x) for x in range(10)]"
   ]
  },
  {
   "cell_type": "code",
   "execution_count": 103,
   "metadata": {},
   "outputs": [
    {
     "data": {
      "text/plain": [
       "[11, 22, 33, 44]"
      ]
     },
     "execution_count": 103,
     "metadata": {},
     "output_type": "execute_result"
    }
   ],
   "source": [
    "xs = range(1,5)\n",
    "ys = [ i*10 for i in xs ]\n",
    "list(map(lambda x,y: x+y, xs, ys))"
   ]
  },
  {
   "cell_type": "code",
   "execution_count": 8,
   "metadata": {},
   "outputs": [
    {
     "data": {
      "text/plain": [
       "12345678"
      ]
     },
     "execution_count": 8,
     "metadata": {},
     "output_type": "execute_result"
    }
   ],
   "source": [
    "#Exercise \n",
    "#Turn [1, 2, 3, 4, 5, 6, 7, 8] into 12345678.\n",
    "l = [1,2,3,4,5,6,7,8]\n",
    "x = reduce(lambda a,d: 10*a+d, l)\n",
    "x"
   ]
  },
  {
   "cell_type": "code",
   "execution_count": 105,
   "metadata": {},
   "outputs": [
    {
     "data": {
      "text/plain": [
       "8"
      ]
     },
     "execution_count": 105,
     "metadata": {},
     "output_type": "execute_result"
    }
   ],
   "source": [
    "#Exercise\n",
    "# Find maximum element from list \n",
    "l = [1,2,3,4,5,6,7,8]\n",
    "x = functools.reduce(lambda a,b : a if a > b else b, l)\n",
    "x"
   ]
  },
  {
   "cell_type": "code",
   "execution_count": 9,
   "metadata": {},
   "outputs": [
    {
     "data": {
      "text/plain": [
       "[(4, 'four'), (1, 'one'), (3, 'three'), (2, 'two')]"
      ]
     },
     "execution_count": 9,
     "metadata": {},
     "output_type": "execute_result"
    }
   ],
   "source": [
    "#Sort By Second Element\n",
    "pairs = [(1, 'one'), (2, 'two'), (3, 'three'), (4, 'four')]\n",
    "pairs.sort(key=lambda pair: pair[1])\n",
    "pairs"
   ]
  },
  {
   "cell_type": "code",
   "execution_count": 107,
   "metadata": {},
   "outputs": [
    {
     "data": {
      "text/plain": [
       "[(1, 'one'), (2, 'two'), (3, 'three'), (4, 'four')]"
      ]
     },
     "execution_count": 107,
     "metadata": {},
     "output_type": "execute_result"
    }
   ],
   "source": [
    "#Sort By First Element\n",
    "pairs.sort(key=lambda pair: pair[0])\n",
    "pairs"
   ]
  },
  {
   "cell_type": "markdown",
   "metadata": {},
   "source": [
    ":COMPREHENSION"
   ]
  },
  {
   "cell_type": "code",
   "execution_count": 108,
   "metadata": {},
   "outputs": [
    {
     "data": {
      "text/plain": [
       "({0: 0, 1: 1, 2: 4, 3: 9, 4: 16}, {'d', 'r'}, [0, 1, 4, 9, 16])"
      ]
     },
     "execution_count": 108,
     "metadata": {},
     "output_type": "execute_result"
    }
   ],
   "source": [
    "#Dict Comprehension\n",
    "d1 = {i: i**2 for i in range(5)}\n",
    "\n",
    "#Set Comprehension\n",
    "s1 = {x for x in 'abracadabra' if x not in 'abc'}\n",
    "\n",
    "#List Comprehension\n",
    "l1 = [i**2 for i in range(5)]\n",
    "\n",
    "d1, s1, l1"
   ]
  },
  {
   "cell_type": "code",
   "execution_count": 109,
   "metadata": {
    "scrolled": true
   },
   "outputs": [
    {
     "data": {
      "text/plain": [
       "[(1, 3), (1, 4), (2, 3), (2, 1), (2, 4), (3, 1), (3, 4)]"
      ]
     },
     "execution_count": 109,
     "metadata": {},
     "output_type": "execute_result"
    }
   ],
   "source": [
    "x = [(x, y) for x in [1,2,3] for y in [3,1,4] if x != y]\n",
    "x"
   ]
  },
  {
   "cell_type": "code",
   "execution_count": 110,
   "metadata": {},
   "outputs": [
    {
     "data": {
      "text/plain": [
       "[(1, 0), (1, 1), (1, 2), (1, 3), (3, 0), (3, 1), (3, 2), (3, 3)]"
      ]
     },
     "execution_count": 110,
     "metadata": {},
     "output_type": "execute_result"
    }
   ],
   "source": [
    "#Interleaving for and if\n",
    "x = [(x, y) for x in range(4) if x % 2 == 1 for y in range(4)]\n",
    "x"
   ]
  },
  {
   "cell_type": "code",
   "execution_count": 111,
   "metadata": {
    "scrolled": true
   },
   "outputs": [
    {
     "data": {
      "text/plain": [
       "[[0, 1, 2, 3, 4, 5, 6, 7, 8, 9],\n",
       " [10, 11, 12, 13, 14, 15, 16, 17, 18, 19],\n",
       " [20, 21, 22, 23, 24, 25, 26, 27, 28, 29],\n",
       " [30, 31, 32, 33, 34, 35, 36, 37, 38, 39],\n",
       " [40, 41, 42, 43, 44, 45, 46, 47, 48, 49],\n",
       " [50, 51, 52, 53, 54, 55, 56, 57, 58, 59],\n",
       " [60, 61, 62, 63, 64, 65, 66, 67, 68, 69],\n",
       " [70, 71, 72, 73, 74, 75, 76, 77, 78, 79],\n",
       " [80, 81, 82, 83, 84, 85, 86, 87, 88, 89],\n",
       " [90, 91, 92, 93, 94]]"
      ]
     },
     "execution_count": 111,
     "metadata": {},
     "output_type": "execute_result"
    }
   ],
   "source": [
    "#Exercise\n",
    "#Given a list of values inputs and a positive integer n, write a function that splits inputs into groups of length n.\n",
    "#For example, if inputs = [1, 2, 3, 4, 5, 6] and n = 2, your function should return [(1, 2), (3, 4), (5, 6)].\n",
    "\n",
    "n = 10\n",
    "l = [i for i in range(95)]\n",
    "x = [l[i:i + n] for i in range(0, len(l), n)]\n",
    "x\n"
   ]
  },
  {
   "cell_type": "markdown",
   "metadata": {},
   "source": [
    ":GENERATOR\n",
    "Generators are iterators, but you can only iterate over them once. \n",
    "It's because they do not store all the values in memory, they generate the values on the fly."
   ]
  },
  {
   "cell_type": "code",
   "execution_count": 112,
   "metadata": {},
   "outputs": [
    {
     "name": "stdout",
     "output_type": "stream",
     "text": [
      "0\n",
      "1\n",
      "4\n",
      "4\n"
     ]
    }
   ],
   "source": [
    "mygenerator = (x*x for x in range(3))\n",
    "for i in mygenerator:\n",
    "\tprint(i)\n",
    "print(i)\n",
    "    "
   ]
  },
  {
   "cell_type": "code",
   "execution_count": 113,
   "metadata": {},
   "outputs": [
    {
     "name": "stdout",
     "output_type": "stream",
     "text": [
      "(0, 4)\n",
      "(0, 5)\n",
      "(1, 4)\n",
      "(1, 5)\n"
     ]
    }
   ],
   "source": [
    "v_matrix = ((a,b) for a in range(0,2) for b in range(4,6))\n",
    "for x in v_matrix:\n",
    "\tprint(x)\n",
    "\n",
    "#The advantage of this is that you dont need intermediate storage\n",
    "#which you would need if you did x = [(a,b) for a in range(0,2) for b in range(4,6)]\n"
   ]
  },
  {
   "cell_type": "code",
   "execution_count": 114,
   "metadata": {},
   "outputs": [
    {
     "name": "stdout",
     "output_type": "stream",
     "text": [
      "0\n",
      "1\n",
      "4\n"
     ]
    }
   ],
   "source": [
    "#yield is a keyword that is used like return, except the function will return a generator. \n",
    "def funcGen():\n",
    "\tmylist = range(3)\n",
    "\tfor i in mylist:\n",
    "\t\tyield i*i\n",
    "\n",
    "myGen = funcGen()\n",
    "for i in myGen:\n",
    "\tprint(i)"
   ]
  },
  {
   "cell_type": "markdown",
   "metadata": {},
   "source": [
    ":ITER"
   ]
  },
  {
   "cell_type": "code",
   "execution_count": 115,
   "metadata": {},
   "outputs": [
    {
     "data": {
      "text/plain": [
       "[1, 2, 3, 4, 5, 6, 7, 8, 9]"
      ]
     },
     "execution_count": 115,
     "metadata": {},
     "output_type": "execute_result"
    }
   ],
   "source": [
    "#Exercise\n",
    "#Flatten list of list\n",
    "import itertools\n",
    "l = [[1,2,3],[4,5,6], [7], [8,9]]\n",
    "flat = list(itertools.chain(*l))\n",
    "flat"
   ]
  },
  {
   "cell_type": "code",
   "execution_count": 116,
   "metadata": {},
   "outputs": [
    {
     "data": {
      "text/plain": [
       "[(1, 2, 3, 4),\n",
       " (1, 2, 4, 3),\n",
       " (1, 3, 2, 4),\n",
       " (1, 3, 4, 2),\n",
       " (1, 4, 2, 3),\n",
       " (1, 4, 3, 2),\n",
       " (2, 1, 3, 4),\n",
       " (2, 1, 4, 3),\n",
       " (2, 3, 1, 4),\n",
       " (2, 3, 4, 1),\n",
       " (2, 4, 1, 3),\n",
       " (2, 4, 3, 1),\n",
       " (3, 1, 2, 4),\n",
       " (3, 1, 4, 2),\n",
       " (3, 2, 1, 4),\n",
       " (3, 2, 4, 1),\n",
       " (3, 4, 1, 2),\n",
       " (3, 4, 2, 1),\n",
       " (4, 1, 2, 3),\n",
       " (4, 1, 3, 2),\n",
       " (4, 2, 1, 3),\n",
       " (4, 2, 3, 1),\n",
       " (4, 3, 1, 2),\n",
       " (4, 3, 2, 1)]"
      ]
     },
     "execution_count": 116,
     "metadata": {},
     "output_type": "execute_result"
    }
   ],
   "source": [
    "horses = [1, 2, 3, 4]\n",
    "races = itertools.permutations(horses)\n",
    "list(races)"
   ]
  },
  {
   "cell_type": "code",
   "execution_count": 117,
   "metadata": {
    "scrolled": true
   },
   "outputs": [
    {
     "name": "stdout",
     "output_type": "stream",
     "text": [
      "(0, 1, 2, 3, 4, 5, 6, 7, 8, 9)\n",
      "(10, 11, 12, 13, 14, 15, 16, 17, 18, 19)\n",
      "(20, 21, 22, 23, 24, 25, 26, 27, 28, 29)\n",
      "(30, 31, 32, 33, 34, 35, 36, 37, 38, 39)\n",
      "(40, 41, 42, 43, 44, 45, 46, 47, 48, 49)\n",
      "(50, 51, 52, 53, 54, 55, 56, 57, 58, 59)\n",
      "(60, 61, 62, 63, 64, 65, 66, 67, 68, 69)\n",
      "(70, 71, 72, 73, 74, 75, 76, 77, 78, 79)\n",
      "(80, 81, 82, 83, 84, 85, 86, 87, 88, 89)\n"
     ]
    }
   ],
   "source": [
    "#Exercise\n",
    "#Given a list of values inputs and a positive integer n, write a function that splits inputs into groups of length n.\n",
    "#For example, if inputs = [1, 2, 3, 4, 5, 6] and n = 2, your function should return [(1, 2), (3, 4), (5, 6)].\n",
    "\n",
    "def splitListEven(inputs, n):\n",
    "    iters = [iter(inputs)] * n\n",
    "    return zip(*iters)\n",
    "\n",
    "for x in splitListEven(range(95), 10):\n",
    "    print(x)"
   ]
  },
  {
   "cell_type": "code",
   "execution_count": 118,
   "metadata": {},
   "outputs": [
    {
     "data": {
      "text/plain": [
       "{'a': 1, 'b': 10, 'c': 11}"
      ]
     },
     "execution_count": 118,
     "metadata": {},
     "output_type": "execute_result"
    }
   ],
   "source": [
    "#Exercise\n",
    "#Merge Dicts\n",
    "x = {'a':1, 'b': 2}\n",
    "y = {'b':10, 'c': 11}\n",
    "z = dict(itertools.chain(x.items(), y.items()))\n",
    "z"
   ]
  },
  {
   "cell_type": "markdown",
   "metadata": {},
   "source": [
    ":MAP\n",
    "map creates a new list by applying a function to every element of the source.\n",
    "map(function, iterable) is basically equivalent to: [f(x) for x in iterable]"
   ]
  },
  {
   "cell_type": "code",
   "execution_count": 119,
   "metadata": {},
   "outputs": [
    {
     "data": {
      "text/plain": [
       "[5, 6, 7, 10]"
      ]
     },
     "execution_count": 119,
     "metadata": {},
     "output_type": "execute_result"
    }
   ],
   "source": [
    "x = list(map(len, ['Balie', 'enjoys', 'playing', 'basketball']))\n",
    "x"
   ]
  },
  {
   "cell_type": "code",
   "execution_count": 120,
   "metadata": {
    "scrolled": true
   },
   "outputs": [
    {
     "data": {
      "text/plain": [
       "[5, 7, 9]"
      ]
     },
     "execution_count": 120,
     "metadata": {},
     "output_type": "execute_result"
    }
   ],
   "source": [
    "x = list(map(sum, zip([1, 2, 3], [4, 5, 6])))\n",
    "x"
   ]
  },
  {
   "cell_type": "code",
   "execution_count": 121,
   "metadata": {},
   "outputs": [
    {
     "data": {
      "text/plain": [
       "[11, 22, 33, 44]"
      ]
     },
     "execution_count": 121,
     "metadata": {},
     "output_type": "execute_result"
    }
   ],
   "source": [
    "xs = range(1,5)\n",
    "ys = [ i*10 for i in range(1,6) ]\n",
    "list(map(lambda x,y: x+y, xs, ys))"
   ]
  },
  {
   "cell_type": "code",
   "execution_count": 122,
   "metadata": {},
   "outputs": [
    {
     "data": {
      "text/plain": [
       "{3, 4, 5}"
      ]
     },
     "execution_count": 122,
     "metadata": {},
     "output_type": "execute_result"
    }
   ],
   "source": [
    "#Exercise\n",
    "#Find the intersection of N given lists:\n",
    "input_list = [[1, 2, 3, 4, 5], [2, 3, 4, 5, 6], [3, 4, 5, 6, 7]]\n",
    "x = reduce(set.intersection, map(set, input_list)) \n",
    "x"
   ]
  },
  {
   "cell_type": "markdown",
   "metadata": {},
   "source": [
    ":REDUCE"
   ]
  },
  {
   "cell_type": "code",
   "execution_count": 123,
   "metadata": {},
   "outputs": [
    {
     "data": {
      "text/plain": [
       "(21, 720, {1, 2, 3}, {1})"
      ]
     },
     "execution_count": 123,
     "metadata": {},
     "output_type": "execute_result"
    }
   ],
   "source": [
    "#Operators can be called as functions:\n",
    "import operator\n",
    "from operator import add\n",
    "from operator import mul\n",
    "from operator import or_\n",
    "from operator import and_\n",
    "l = [1,2,3,4,5,6]\n",
    "x1 = reduce(add, l)\n",
    "x2 = reduce(mul, l)\n",
    "x3 = reduce(operator.or_, ({1}, {1, 2}, {1, 3}))  # union \n",
    "x4 = reduce(operator.and_, ({1}, {1, 2}, {1, 3}))  # intersection\n",
    "\n",
    "x1, x2, x3, x4"
   ]
  },
  {
   "cell_type": "code",
   "execution_count": 124,
   "metadata": {},
   "outputs": [
    {
     "data": {
      "text/plain": [
       "12345678"
      ]
     },
     "execution_count": 124,
     "metadata": {},
     "output_type": "execute_result"
    }
   ],
   "source": [
    "#Exercise \n",
    "#Turn [1, 2, 3, 4, 5, 6, 7, 8] into 12345678.\n",
    "l = [1,2,3,4,5,6,7,8]\n",
    "x = reduce(lambda a,d: 10*a+d, l, 0)\n",
    "x"
   ]
  },
  {
   "cell_type": "code",
   "execution_count": 125,
   "metadata": {},
   "outputs": [
    {
     "data": {
      "text/plain": [
       "8"
      ]
     },
     "execution_count": 125,
     "metadata": {},
     "output_type": "execute_result"
    }
   ],
   "source": [
    "#Exercise\n",
    "# Find maximum element from list \n",
    "l = [1,2,3,4,5,6,7,8]\n",
    "x = functools.reduce(lambda a,b : a if a > b else b, l)\n",
    "x"
   ]
  },
  {
   "cell_type": "code",
   "execution_count": 126,
   "metadata": {},
   "outputs": [
    {
     "data": {
      "text/plain": [
       "{3, 4, 5}"
      ]
     },
     "execution_count": 126,
     "metadata": {},
     "output_type": "execute_result"
    }
   ],
   "source": [
    "#Exercise\n",
    "#Find the intersection of N given lists:\n",
    "input_list = [[1, 2, 3, 4, 5], [2, 3, 4, 5, 6], [3, 4, 5, 6, 7]]\n",
    "x = reduce(set.intersection, map(set, input_list)) \n",
    "x"
   ]
  },
  {
   "cell_type": "code",
   "execution_count": 127,
   "metadata": {},
   "outputs": [
    {
     "data": {
      "text/plain": [
       "'The Slow Blue Fox Jumps Over The Industrious Dog'"
      ]
     },
     "execution_count": 127,
     "metadata": {},
     "output_type": "execute_result"
    }
   ],
   "source": [
    "#Exercise\n",
    "#Apply a sequence of functions on a string:\n",
    "s = \"The Quick Brown Fox Jumps Over the Lazy Dog\"\n",
    "\n",
    "color = lambda x: x.replace('brown', 'blue')\n",
    "speed = lambda x: x.replace('quick', 'slow')\n",
    "work = lambda x: x.replace('lazy', 'industrious')\n",
    "\n",
    "fs = [str.lower, color, speed, work, str.title]\n",
    "call = lambda s, func: func(s)\n",
    "\n",
    "reduce(call, fs, s)\n"
   ]
  },
  {
   "cell_type": "code",
   "execution_count": 128,
   "metadata": {},
   "outputs": [
    {
     "data": {
      "text/plain": [
       "([1, 2, 3, 4, 5, 6, 7, 8, 9],\n",
       " [1, 2, 3, 4, 5, 6, 7, 8, 9],\n",
       " [1, 2, 3, 4, 5, 6, 7, 8, 9],\n",
       " [1, 2, 3, 4, 5, 6, 7, 8, 9],\n",
       " [1, 2, 3, 4, 5, 6, 7, 8, 9])"
      ]
     },
     "execution_count": 128,
     "metadata": {},
     "output_type": "execute_result"
    }
   ],
   "source": [
    "#Exercise\n",
    "#Flatten list of list\n",
    "\n",
    "import functools \n",
    "from functools import reduce\n",
    "l = [[1,2,3],[4,5,6], [7], [8,9]]\n",
    "flat1 = reduce(lambda x,y: x+y,l)\n",
    "flat5 = reduce(list.__add__, l, [])\n",
    "\n",
    "#Other ways\n",
    "flat2 = list(itertools.chain(*l))\n",
    "flat3 = sum(l, [])\n",
    "flat4 = [item for sublist in l for item in sublist]\n",
    "\n",
    "flat1, flat2, flat3, flat4, flat5"
   ]
  },
  {
   "cell_type": "markdown",
   "metadata": {},
   "source": [
    ":FILTER"
   ]
  },
  {
   "cell_type": "code",
   "execution_count": 129,
   "metadata": {},
   "outputs": [
    {
     "name": "stdout",
     "output_type": "stream",
     "text": [
      "18\n",
      "24\n",
      "32\n"
     ]
    }
   ],
   "source": [
    "#Filter\n",
    "# The filter() function returns an iterator were the items are filtered through a function \n",
    "# to test if the item is accepted or not.\n",
    "\n",
    "ages = [5, 12, 17, 18, 24, 32]\n",
    "\n",
    "def ageVerification(x):\n",
    "  if x < 18:\n",
    "    return False\n",
    "  else:\n",
    "    return True\n",
    "\n",
    "adults = filter(ageVerification, ages) \n",
    "\n",
    "for x in adults:\n",
    "  print(x)\n"
   ]
  },
  {
   "cell_type": "code",
   "execution_count": 130,
   "metadata": {
    "scrolled": true
   },
   "outputs": [
    {
     "data": {
      "text/plain": [
       "(['b', 'a', 'l', 'i', 'e', 'p', 'a', 'g', 'e', 's'], [])"
      ]
     },
     "execution_count": 130,
     "metadata": {},
     "output_type": "execute_result"
    }
   ],
   "source": [
    "l1 = list('baliepages')\n",
    "l2 = list(filter(lambda x: x == 'e', l))\n",
    "l1, l2\n"
   ]
  },
  {
   "cell_type": "markdown",
   "metadata": {},
   "source": [
    ":DECORATOR\n",
    "Decorators allow to wrap a function or method in another function that can add functionality, modify arguments or results, etc.Example shows a print_args decorator that prints the decorated functions arguments before calling it:"
   ]
  },
  {
   "cell_type": "code",
   "execution_count": 131,
   "metadata": {},
   "outputs": [
    {
     "name": "stdout",
     "output_type": "stream",
     "text": [
      "------*****------\n",
      "('Balie',) {}\n",
      "Hello Balie\n",
      "------*****------\n"
     ]
    }
   ],
   "source": [
    "def sayhello(name):\n",
    "\tprint(\"Hello \" + name)\n",
    "\n",
    "def decor(func):\n",
    "\tdef wrap(*args, **kwargs):\n",
    "\t\tprint('------*****------')\n",
    "\t\tprint(args, kwargs)\n",
    "\t\tfunc(*args)\n",
    "\t\tprint('------*****------')\n",
    "\treturn wrap\n",
    "\n",
    "sayhello = decor(sayhello)\n",
    "sayhello('Balie')"
   ]
  },
  {
   "cell_type": "markdown",
   "metadata": {},
   "source": [
    ":FILE"
   ]
  },
  {
   "cell_type": "code",
   "execution_count": 132,
   "metadata": {
    "scrolled": true
   },
   "outputs": [
    {
     "name": "stdout",
     "output_type": "stream",
     "text": [
      "C:/Python/Data/baliepages\n",
      ".txt\n"
     ]
    }
   ],
   "source": [
    "#Extracting extension from filename in Python\n",
    "import os\n",
    "myDir = \"C:/Python/Data\"\n",
    "myFile = \"baliepages.txt\"\n",
    "myFullPath = \"C:/Python/Data/baliepages.txt\"\n",
    "filename, file_extension = os.path.splitext(myFullPath)\n",
    "print(filename)\n",
    "print(file_extension)\n"
   ]
  },
  {
   "cell_type": "code",
   "execution_count": 133,
   "metadata": {},
   "outputs": [
    {
     "data": {
      "text/plain": [
       "True"
      ]
     },
     "execution_count": 133,
     "metadata": {},
     "output_type": "execute_result"
    }
   ],
   "source": [
    "os.path.isfile(myFullPath)\n",
    "os.path.isfile(myDir)\n",
    "os.path.exists(myFullPath)\n",
    "os.path.exists(myDir)"
   ]
  },
  {
   "cell_type": "code",
   "execution_count": 134,
   "metadata": {
    "scrolled": true
   },
   "outputs": [
    {
     "name": "stdout",
     "output_type": "stream",
     "text": [
      "['Answers.csv', 'baliepages.txt', 'Questions.csv', 'Tags.csv']\n",
      "['C:/Python/Data\\\\Answers.csv', 'C:/Python/Data\\\\baliepages.txt', 'C:/Python/Data\\\\Questions.csv', 'C:/Python/Data\\\\Tags.csv']\n",
      "[WindowsPath('C:/Python/Data/Answers.csv'), WindowsPath('C:/Python/Data/baliepages.txt'), WindowsPath('C:/Python/Data/Questions.csv'), WindowsPath('C:/Python/Data/Tags.csv')]\n",
      "[<DirEntry 'Answers.csv'>, <DirEntry 'baliepages.txt'>, <DirEntry 'Questions.csv'>, <DirEntry 'Tags.csv'>]\n",
      "['Answers.csv', 'baliepages.txt', 'Questions.csv', 'Tags.csv']\n",
      "osWalk Recursive\n",
      "----------------------------------------\n",
      "C:/Python/Data\\Answers.csv\n",
      "C:/Python/Data\\baliepages.txt\n",
      "C:/Python/Data\\Questions.csv\n",
      "C:/Python/Data\\Tags.csv\n"
     ]
    }
   ],
   "source": [
    "#How to list all files of a directory?\n",
    "import os\n",
    "from os import listdir\n",
    "from os.path import isfile, join\n",
    "\n",
    "f1 = [f for f in listdir(myDir) if isfile(join(myDir, f))]\n",
    "print(f1)\n",
    "\n",
    "f2 = [join(myDir, f) for f in listdir(myDir)]\n",
    "print(f2)\n",
    "\n",
    "import pathlib\n",
    "f3 = [f for f in pathlib.Path(myDir).iterdir() if f.is_file()]\n",
    "print(f3)\n",
    "\n",
    "f4 = [f for f in os.scandir(myDir) if f.is_file()]\n",
    "print(f4)\n",
    "\n",
    "f5 = next(os.walk(myDir))[2]\n",
    "print(f5)\n",
    "\n",
    "print('osWalk Recursive')\n",
    "print(\"-\" * 40)\n",
    "\n",
    "for root, dirs, files in os.walk(myDir):\n",
    "    for file in files:\n",
    "        print(os.path.join(root, file))\n",
    "        \n",
    "#Unix Commands\n",
    "#import commands as cmd\n",
    "#(st, output) = cmd.getstatusoutput('ls -a ~')\n",
    "#print ( [f for f in output.split('\\n') if '.' in f ])\n"
   ]
  },
  {
   "cell_type": "code",
   "execution_count": 135,
   "metadata": {
    "scrolled": true
   },
   "outputs": [
    {
     "name": "stdout",
     "output_type": "stream",
     "text": [
      "baliepages.txt\n",
      "C:/Python/Data\\baliepages.txt\n",
      "C:/Python/Data\\baliepages.txt\n"
     ]
    }
   ],
   "source": [
    "\n",
    "#Find all files in a directory with extension .txt\n",
    "\n",
    "#You can use glob:\n",
    "import glob, os\n",
    "os.chdir(myDir)\n",
    "for file in glob.glob(\"*.txt\"):\n",
    "    print(file)\n",
    "    \n",
    "#or simply os.listdir:\n",
    "for file in os.listdir(myDir):\n",
    "    if file.endswith(\".txt\"):\n",
    "        print(os.path.join(myDir, file))\n",
    "        \n",
    "#or if you want to traverse directory, use os.walk:\n",
    "for root, dirs, files in os.walk(myDir):\n",
    "    for file in files:\n",
    "        if file.endswith(\".txt\"):\n",
    "             print(os.path.join(root, file))"
   ]
  },
  {
   "cell_type": "code",
   "execution_count": 136,
   "metadata": {},
   "outputs": [
    {
     "name": "stdout",
     "output_type": "stream",
     "text": [
      "x1 :\n",
      "x2 :\n",
      "x3 :\n",
      "Regular Readlines()\n",
      "[]\n"
     ]
    }
   ],
   "source": [
    "#Predefined Clean-up Actions\n",
    "for line in open(myFullPath):\n",
    "    pass\n",
    "    #print(line, end=\"\")\n",
    "    \n",
    "#The problem with this code is that it leaves the file open for an indeterminate amount of time.\n",
    "#The with statement ensures they are always cleaned up promptly \n",
    "#The file f is always closed, even if a problem was encountered while processing the lines.\n",
    "\n",
    "with open(myFullPath) as f:\n",
    "    x1 = f.read(5)\n",
    "    x2 = f.readline()\n",
    "    x3 = f.read() #will read everything\n",
    "    x7 = f.seek(10)\n",
    "    x8 = f.flush()\n",
    "    print('x1 :' + x1)\n",
    "    print('x2 :' + x2)\n",
    "    print('x3 :' + x3)\n",
    "    \n",
    "    print('Regular Readlines()')\n",
    "    content = f.readlines()\n",
    "    content = [x.strip() for x in content] \n",
    "    print(content)\n",
    "\n",
    "#with open(\"C:/Users/Balie/Downloads/baliepages.txt\", \"a\") as f:\n",
    "    #f.truncate(20)\n",
    "    #f.write(\"\\nSee you soon!\")\n",
    "    #f.writelines([\"\\nIn and Out!\", \"\\nOver and out.\"])\n",
    "\n",
    "    \n",
    "with open(myFullPath) as f:\n",
    "    for line in f:\n",
    "        print(line)\n",
    "        words = set(word for word in line.split())\n",
    "        print(words)"
   ]
  },
  {
   "cell_type": "code",
   "execution_count": 137,
   "metadata": {},
   "outputs": [
    {
     "name": "stdout",
     "output_type": "stream",
     "text": [
      "Folder already Exists\n"
     ]
    }
   ],
   "source": [
    "newDir = \"C:/Python/Data/subfolder\"\n",
    "try:\n",
    "    os.makedirs(myDir)\n",
    "except OSError:\n",
    "    if os.path.exists(myDir):\n",
    "        print('Folder already Exists')\n",
    "        pass\n",
    "    else:\n",
    "        # There was an error on creation, so make sure we know about it\n",
    "        raise\n"
   ]
  },
  {
   "cell_type": "code",
   "execution_count": 138,
   "metadata": {},
   "outputs": [
    {
     "name": "stdout",
     "output_type": "stream",
     "text": [
      "Ignoring error because directory or file is not there\n"
     ]
    }
   ],
   "source": [
    "newFile = \"C:/Python/Data/subfolder/newFile.txt\"\n",
    "import errno\n",
    "import shutil\n",
    "from shutil import copyfile\n",
    "try:\n",
    "    copyfile(myFullPath, newFile)\n",
    "    #copy2 allows dst to be a directory instead of the complete target filename\n",
    "    #in which case the basename of src is used for creating the new file;\n",
    "    shutil.copy2(myFullPath, newFile) \n",
    "    # complete target filename given\n",
    "    shutil.copy2(myFullPath, newDir) \n",
    "    # target filename is /dstdir/file.txt\n",
    "    \n",
    "    cwd = os.getcwd()\n",
    "    dir_path = os.path.dirname(os.path.realpath(myFile))\n",
    "    os.chdir(newDir)   # Change current working directory\n",
    "    os.system('mkdir created')   # Run the command mkdir in the system shell\n",
    "except IOError as error:\n",
    "    if error.errno == errno.ENOENT:\n",
    "        print ('Ignoring error because directory or file is not there')\n",
    "    else:\n",
    "        raise"
   ]
  },
  {
   "cell_type": "code",
   "execution_count": 139,
   "metadata": {},
   "outputs": [
    {
     "name": "stdout",
     "output_type": "stream",
     "text": [
      "Error Disregarded\n"
     ]
    }
   ],
   "source": [
    "from contextlib import suppress\n",
    "noFile = \"C:/Python/Data/idontexist.txt\"\n",
    "with suppress(OSError), open(myFile) as f:\n",
    "    f.read()\n",
    "print('Error Disregarded')"
   ]
  },
  {
   "cell_type": "code",
   "execution_count": 140,
   "metadata": {},
   "outputs": [],
   "source": [
    "#os.remove() will remove a file.\n",
    "#os.rmdir() will remove an empty directory.\n",
    "#shutil.rmtree() will delete a directory and all its contents.\n",
    "\n",
    "if os.path.exists(\"badfile.txt\"):\n",
    "  os.remove(\"badfile.txt\")\n",
    "if os.path.exists(\"baddir\"):\n",
    "  os.rmdir(\"baddir\")\n"
   ]
  },
  {
   "cell_type": "code",
   "execution_count": 141,
   "metadata": {},
   "outputs": [
    {
     "name": "stdout",
     "output_type": "stream",
     "text": [
      "({'var/log/apache': ({}, ['errors.log']), 'home/kane/images/avatars': ({}, ['crusader.png', 'paladin.png']), 'home/jane/documents': ({}, ['diary.txt']), 'home/kane/images': ({}, ['selfie.jpg']), 'var/log': ({}, ['abc.txt']), 'home/kane': ({}, ['.vimrc'])}, [])\n"
     ]
    }
   ],
   "source": [
    "#Preparing File Tree\n",
    "files = [\n",
    "    # full filenames\n",
    "    \"var/log/apache/errors.log\",\n",
    "    \"home/kane/images/avatars/crusader.png\",\n",
    "    \"home/jane/documents/diary.txt\",\n",
    "    \"home/kane/images/selfie.jpg\",\n",
    "    \"var/log/abc.txt\",\n",
    "    \"home/kane/.vimrc\",\n",
    "    \"home/kane/images/avatars/paladin.png\",\n",
    "]\n",
    "\n",
    "# unfolding of plain filename list to file-tree\n",
    "fs_tree = ({}, # dict of folders\n",
    "           []) # list of files\n",
    "for f in files:\n",
    "    path, fn = os.path.split(f)\n",
    "    reduce(\n",
    "        # this fucction walks deep into path\n",
    "        # and creates placeholders for subfolders\n",
    "        lambda d, k: d[0].setdefault(k,         # walk deep\n",
    "                                     ({}, [])), # or create subfolder storage\n",
    "        path.split(os.path.sep),\n",
    "        fs_tree\n",
    "    )[1].append(fn)\n",
    "\n",
    "print (fs_tree)"
   ]
  },
  {
   "cell_type": "markdown",
   "metadata": {},
   "source": [
    ":DB\n",
    ":SQL\n",
    "If mysql Module is not found, try installing \n",
    "mysql-connector-python"
   ]
  },
  {
   "cell_type": "code",
   "execution_count": 142,
   "metadata": {},
   "outputs": [
    {
     "data": {
      "text/plain": [
       "[('PDG', 'xyargbljikabpvbomwjkxivzx', 'P0XYN1QZ61'),\n",
       " ('SQA', 'olkzkohoexcpojpqluiegssqr', 'OZAC7FYA31')]"
      ]
     },
     "execution_count": 142,
     "metadata": {},
     "output_type": "execute_result"
    }
   ],
   "source": [
    "import random\n",
    "import string\n",
    "\n",
    "def generateRcrds():\n",
    "    x = ''.join(random.choices(string.ascii_uppercase, k=3))\n",
    "    y = ''.join(random.choices(string.ascii_lowercase, k=25))\n",
    "    z = ''.join(random.choices(string.ascii_uppercase + string.digits, k=10))\n",
    "    return(x,y,z)\n",
    "l =[]\n",
    "l.append(generateRcrds())\n",
    "l.append(generateRcrds())\n",
    "l"
   ]
  },
  {
   "cell_type": "code",
   "execution_count": 143,
   "metadata": {},
   "outputs": [
    {
     "data": {
      "text/plain": [
       "['PDG']"
      ]
     },
     "execution_count": 143,
     "metadata": {},
     "output_type": "execute_result"
    }
   ],
   "source": [
    "c = [str(list(r)[0]) for r in l][0]\n",
    "parm = (''.join(c)).split()\n",
    "parm\n"
   ]
  },
  {
   "cell_type": "code",
   "execution_count": 144,
   "metadata": {
    "scrolled": true
   },
   "outputs": [
    {
     "name": "stdout",
     "output_type": "stream",
     "text": [
      "Error while connecting to MySQL :  2003: Can't connect to MySQL server on 'localhost:3306' (10061 No connection could be made because the target machine actively refused it)\n",
      "GoodBye\n"
     ]
    }
   ],
   "source": [
    "import mysql\n",
    "import mysql.connector\n",
    "from mysql.connector import Error\n",
    "try:\n",
    "    db = mysql.connector.connect(\n",
    "        host='localhost', \n",
    "        database='baliepages',\n",
    "        user='root', \n",
    "        password='baliepages', \n",
    "        port=3306,\n",
    "        auth_plugin='mysql_native_password')\n",
    "\n",
    "    if db.is_connected():\n",
    "        cursor = db.cursor()       \n",
    "        cursor.execute('use baliepages')   \n",
    "        cursor.execute('SHOW TABLES')\n",
    "        for x in cursor:\n",
    "            print(x)\n",
    "\n",
    "        #sql = 'INSERT INTO country_series (country_code, description, series_code) VALUES (%s, %s, %s)'\n",
    "        #val = l\n",
    "        #cursor.executemany(sql, val)\n",
    "        #db.commit()\n",
    "        #numrows = int(cursor.rowcount)\n",
    "        #print('Number of rows inserted :' + str(numrows))\n",
    "        \n",
    "        sql = 'SELECT * FROM country_series WHERE country_code = %s'\n",
    "        val = parm\n",
    "        cursor.execute(sql, val)\n",
    "        result = cursor.fetchall()\n",
    "        \n",
    "        for x in result:\n",
    "            print(x)\n",
    "\n",
    "except Error as e :\n",
    "    print ('Error while connecting to MySQL : ', e)\n",
    "finally:\n",
    "    #closing database db.\n",
    "    #if(db.is_connected()):\n",
    "        #cursor.close()\n",
    "        #db.close()\n",
    "        #print('MySQL connection is closed')\n",
    "    print('GoodBye')\n"
   ]
  },
  {
   "cell_type": "markdown",
   "metadata": {},
   "source": [
    ":JSON"
   ]
  },
  {
   "cell_type": "code",
   "execution_count": 10,
   "metadata": {},
   "outputs": [
    {
     "name": "stdout",
     "output_type": "stream",
     "text": [
      "{'name': 'John', 'age': 30, 'city': 'New York'}\n",
      "{\"name\": \"John\", \"age\": 30, \"city\": \"New York\"}\n"
     ]
    }
   ],
   "source": [
    "#json to python to json dict:\n",
    "import json\n",
    "x = '{ \"name\":\"John\", \"age\":30, \"city\":\"New York\"}'\n",
    "y = json.loads(x) # parse json object\n",
    "print(y)\n",
    "y['age']\n",
    "z = json.dumps(y) # convert back into json\n",
    "print(z)"
   ]
  },
  {
   "cell_type": "markdown",
   "metadata": {},
   "source": [
    ":REGEX"
   ]
  },
  {
   "cell_type": "code",
   "execution_count": 146,
   "metadata": {},
   "outputs": [
    {
     "name": "stdout",
     "output_type": "stream",
     "text": [
      "YES! We have a match!\n",
      "['a', 'm', 'e', 'i', 'e', 'h', 'e', 'e', 'e', 'l', 'i', 'e', 'i', 'a', 'i']\n",
      "['3', '7']\n",
      "['Spain']\n",
      "['James']\n",
      "[]\n",
      "['three']\n",
      "['three']\n",
      "['Spain']\n",
      "[',', ',']\n",
      "['J', 'a', 'm', 'e', 's', 'i', 's', 'o', 'n', 'e', 't', 'w', 'o', 't', 'h', 'r', 'e', 'e', 'H', 'e', 'l', 'i', 'v', 'e', 's', 'i', 'n', 'S', 'p', 'a', 'i', 'n']\n",
      "['37']\n",
      "['3', '7']\n",
      "['3']\n",
      "['J', 'm', 'e', 's', ' ', 'i', 's', ' ', '3', '7', ',', ' ', 'o', 'e', ' ', 't', 'w', 'o', ' ', 't', 'h', 'e', 'e', ',', ' ', 'H', 'e', ' ', 'l', 'i', 'v', 'e', 's', ' ', 'i', ' ', 'S', 'p', 'i', '.']\n",
      "['a', 'm', 'e', 'i', 'n', 'e', 'h', 'e', 'e', 'e', 'l', 'i', 'e', 'i', 'n', 'a', 'i', 'n']\n",
      "['a', 'n', 'r', 'n', 'a', 'n']\n",
      "The first white-space character is located in position: 5\n",
      "<re.Match object; span=(5, 6), match=' '>\n",
      "['James', 'is', '37,', 'one', 'two', 'three,', 'He', 'lives', 'in', 'Spain.']\n",
      "['James', 'is', '37, one two three, He lives in Spain.']\n",
      "James@is@37,@one@two@three,@He@lives@in@Spain.\n",
      "James@is@37, one two three, He lives in Spain.\n",
      "(40, 45)\n"
     ]
    }
   ],
   "source": [
    "import re\n",
    "\n",
    "#Check if the string starts with 'The' and ends with 'Spain':\n",
    "str = 'James is 37, one two three, He lives in Spain.'\n",
    "x = re.search('^James.*Spain.$', str)\n",
    "\n",
    "if (x):\n",
    "  print('YES! We have a match!')\n",
    "else:\n",
    "  print('No match')\n",
    "\n",
    "re.findall(r'\\bf[a-z]*', 'which foot or hand fell fastest')\n",
    "#['foot', 'fell', 'fastest']\n",
    "#Find all lower case characters alphabetically between 'a' and 'm':\n",
    "x = re.findall('[a-m]', str)\n",
    "print(x)\n",
    "#Find all digit characters:\n",
    "x = re.findall('\\d', str)\n",
    "print(x)\n",
    "#Search for a sequence that starts with 'Sp', followed by two (any) characters, and an 'n':\n",
    "x = re.findall('Sp..n', str)\n",
    "print(x)\n",
    "#Check if the string starts with 'hello':\n",
    "x = re.findall('^James', str)\n",
    "print(x)\n",
    "#Check if the string ends with 'hain':\n",
    "x = re.findall('Sain.$', str)\n",
    "print(x)\n",
    "#Check if the string contains 'th' followed by 1 or more 'e' characters:\n",
    "x = re.findall('thre+', str)\n",
    "print(x)\n",
    "#Check if the string contains 'th' followed by exactly two 'e' characters:\n",
    "x = re.findall('thre{2}', str)\n",
    "print(x)\n",
    "#Check if the string contains either 'India' or 'Spain':\n",
    "x = re.findall('India|Spain', str)\n",
    "print(x)\n",
    "#Check if the string has any + characters:\n",
    "x = re.findall('[,]', str)\n",
    "print(x)\n",
    "#Check if the string has any characters from a to z lower case, and A to Z upper case:\n",
    "x = re.findall('[a-zA-Z]', str)\n",
    "print(x)\n",
    "#Check if the string has any two-digit numbers, from 00 to 59:\n",
    "x = re.findall('[0-5][0-9]', str)\n",
    "print(x)\n",
    "#Check if the string has any digits:\n",
    "x = re.findall('[0-9]', str)\n",
    "print(x)\n",
    "#Check if the string has any 0, 1, 2, or 3 digits:\n",
    "x = re.findall('[0123]', str)\n",
    "print(x)\n",
    "#Check if the string has other characters than a, r, or n:\n",
    "x = re.findall('[^arn]', str)\n",
    "print(x)\n",
    "#Check if the string has any characters between a and n:\n",
    "x = re.findall('[a-n]', str)\n",
    "print(x)\n",
    "#Check if the string has any a, r, or n characters:\n",
    "x = re.findall('[arn]', str)\n",
    "print(x)\n",
    "#First space position\n",
    "x = re.search('\\s', str)\n",
    "print('The first white-space character is located in position:', x.start()) \n",
    "print(x)\n",
    "#Split the string at every white-space character:\n",
    "x = re.split('\\s', str)\n",
    "print(x)\n",
    "#Split the string at the first white-space character:\n",
    "x = re.split('\\s', str, 2)\n",
    "print(x)\n",
    "#Replace all white-space characters with the digit '9':\n",
    "x = re.sub('\\s', '@', str)\n",
    "print(x)\n",
    "#Replace the first two occurrences of a white-space character with the digit 9:\n",
    "x = re.sub('\\s', '@', str, 2)\n",
    "print(x)\n",
    "#Search for an upper case 'S' character in the beginning of a word, and print its position:\n",
    "x = re.search(r'\\bS\\w+', str)\n",
    "print(x.span())"
   ]
  },
  {
   "cell_type": "markdown",
   "metadata": {},
   "source": [
    ":CODE Runtime"
   ]
  },
  {
   "cell_type": "code",
   "execution_count": 147,
   "metadata": {},
   "outputs": [
    {
     "name": "stdout",
     "output_type": "stream",
     "text": [
      "55\n",
      "88\n",
      "55\n",
      "John\n"
     ]
    }
   ],
   "source": [
    "#Code\n",
    "# The compile() function returns the specified source as a code object, ready to be executed.\n",
    "x = compile('print(55)\\nprint(88)', 'test', 'exec') \n",
    "exec(x)\n",
    "\n",
    "# The eval() function evaluates the specified expression, if the expression is a legal Python statement, it will be executed.\n",
    "x = 'print(55)'\n",
    "eval(x) \n",
    "\n",
    "# The exec() function executes the specified Python code.\n",
    "x = 'name = \"John\"\\nprint(name)'\n",
    "exec(x) \n",
    "\n",
    "#The exec() function accepts large blocks of code, unlike the eval() function which only accepts a single expression"
   ]
  },
  {
   "cell_type": "markdown",
   "metadata": {},
   "source": [
    ":REQUESTS"
   ]
  },
  {
   "cell_type": "code",
   "execution_count": 148,
   "metadata": {},
   "outputs": [
    {
     "name": "stdout",
     "output_type": "stream",
     "text": [
      "requests file: c:\\python\\lib\\site-packages\\requests\\__init__.py\n"
     ]
    },
    {
     "data": {
      "text/plain": [
       "'<!DOCTYPE html>\\n<html lang=\\'ta\\' xmlns=\\'http://www.w3.org/1999/xhtml\\' xmlns:b=\\'http://www.google.com/2005/gml/b\\' xmlns:data=\\'http://www.google.com/2005/gml/data\\' xmlns:expr=\\'http://www.google.com/2005/gml/expr\\'>\\n<head>\\n<link href=\\'https://www.blogger.com/static/v1/widgets/3597120983-css_bundle_v2.css\\' rel=\\'stylesheet\\' type=\\'text/css\\'/>\\n<meta content=\\'4YY2bGSQtqADMcJqRfZdBySf48er4p7a11YMoFxGyGs\\' name=\\'google-site-verification\\'/>\\n<meta charset=\\'utf-8\\'/>\\n<meta content=\\'width=device-width, initial-scale=1.0, user-scalable=no\\' name=\\'viewport\\'/>\\n<meta content=\\'text/html; charset=UTF-8\\' http-equiv=\\'Content-Type\\'/>\\n<meta content=\\'WebMinnal\\' name=\\'title\\'/>\\n<meta content=\\'A clean and simple blog that provides digital content in a clean format optimized for mobile.\\' name=\\'description\\'/>\\n<meta content=\\'\\' name=\\'blog-description\\'/>\\n<meta content=\\'noindex,follow\\' name=\\'robots\\'/>\\n<title>\\nWebMinnal\\n</title>\\n<link href=\\'\\' rel=\\'canonical\\'/>\\n<link href=\\'http://webminnal.blogspot.com/favicon.ico\\' rel=\\'icon\\' type=\\'image/x-icon\\'/>\\n<link href=\\'http://webminnal.blogspot.com/feeds/posts/default\\' rel=\\'alternate\\' title=\\'web minnal - Atom\\' type=\\'application/atom+xml\\'/>\\n<link href=\\'http://webminnal.blogspot.com/feeds/posts/default?alt=rss\\' rel=\\'alternate\\' title=\\'web minnal - RSS\\' type=\\'application/rss+xml\\'/>\\n<link href=\\'http://www.blogger.com/feeds/8910150543765894086/posts/default\\' rel=\\'service.post\\' title=\\'web minnal - Atom\\' type=\\'application/atom+xml\\'/>\\n<link href=\\'//fonts.googleapis.com/icon?family=Material+Icons\\' media=\\'all\\' rel=\\'stylesheet\\' type=\\'text/css\\'/>\\n<link href=\\'//fonts.googleapis.com/icon?family=Roboto\\' rel=\\'stylesheet\\'/>\\n<link href=\\'//cdnjs.cloudflare.com/ajax/libs/materialize/1.0.0/css/materialize.min.css\\' media=\\'all\\' rel=\\'stylesheet\\' type=\\'text/css\\'/>\\n<link href=\\'http://gmpg.org/xfn/11\\' rel=\\'profile\\'/>\\n<link href=\\'//cdnjs.cloudflare.com\\' rel=\\'dns-prefetch\\'/>\\n<link href=\\'//fonts.googleapis.com\\' rel=\\'dns-prefetch\\'/>\\n<link href=\\'//s.w.org\\' rel=\\'dns-prefetch\\'/>\\n<style id=\\'page-skin-1\\' type=\\'text/css\\'><!--\\n/*\\n---------------------------------------------------\\nBlogger Template Style\\n---------------------------------------------------\\nName : BloggerMaterializeCss\\nAuthor : webminnal\\nAuthor URL : http://webminnal.blogspot.com/\\nDate : Jan, 2017\\n-------------------------------------------------\\nCustom CSS\\n-------------------------------------------------*/\\n/*html*/\\nbody {\\noverflow-wrap: break-word!important;\\n/*word-break: break-all!important;*/\\nword-wrap: break-word!important;\\n}\\nhtml * {\\nfont-family: \\'Roboto\\', sans-serif;\\n}\\n/*blogger*/\\n.section {padding:0; margin:5px;}\\n.widget {padding: 0; margin:0;}\\n/*MaterializeCss*/\\n.btn,\\n.btn-flat { border-radius: 0.25em; }\\n/*utils*/\\n._wm_top { top:1rem; }\\n._wm_bottom { bottom:1rem; }\\n._wm_left { left:1rem; }\\n._wm_right { right:1rem; }\\n._wm_biggerText { font-size:1.25rem; }\\n._wm_wideContainer {width: 95%; margin:20px;}\\n/*navbar*/\\nnav .brand-logo {left: 43%; font-weight: 350;}\\n/*feed*/\\n._wm_feed .card-image {\\noverflow: hidden;\\nmax-height: 16rem;!important;\\n}\\n._wm_imgSpace { min-height: 10rem; }\\n._wm_feed .card-title {\\nmax-height: 6.8rem;\\noverflow: hidden;\\nfont-size: 21px!important;\\nmargin-bottom: 0!important;\\n}\\n._wm_labelWrapper {\\nposition:absolute;\\nleft:1rem;\\n}\\n/*story*/\\n._wm_story .card-content { padding: 15px;!important; }\\n.post-content {line-height: 2.5rem; }\\n.post-content div, p { margin-bottom: 1rem; }\\n.post-content h1, h2, h3, h4, h5, h6 {\\nfont-weight: normal;\\nfont-size: 1.25rem!important;\\n}\\n.post-content img {width: 100%!important; display: block;}\\n.post-content a {\\npointer-events: none!important;\\ncursor: default!important;\\n}\\n.post-content iframe {\\nborder: 0px;\\npointer-events: auto!important;\\ncursor: auto!important;\\n}\\n.post-content > br,\\n.post-content div > br,\\n.post-content p > br,\\n.post-content > br + br {\\ndisplay: none;\\n}\\n._floatLabel {\\nposition: fixed;\\nright: 85px;\\nbottom: 33px;\\nz-index: 991;\\n}\\n/*modal*/\\n._wm_modalItem {\\ntext-transform: uppercase;\\npadding:2.5rem!important;\\n}\\n.widget li {padding: 1rem 0;}\\n#_wm_fixedVideoBox {\\nposition: fixed;\\nleft: 0px!important;\\nright: 0px!important;\\nbottom: 0px!important;\\npadding-bottom: 57.5%;\\nheight: 0;\\noverflow: hidden;\\npointer-events: auto!important;\\ncursor: auto!important;\\nz-index: 990!important;\\nmargin-bottom: 0!important;\\n}\\n#_wm_VideoBox {\\npadding-bottom: 57.5%;\\nheight: 0;\\noverflow: hidden;\\npointer-events: auto!important;\\ncursor: auto!important;\\nz-index: 990!important;\\n}\\n\\n--></style>\\n<link href=\\'https://www.blogger.com/dyn-css/authorization.css?targetBlogID=8910150543765894086&amp;zx=ac2e6f32-a9b3-4274-8498-8fe07e59c89b\\' media=\\'none\\' onload=\\'if(media!=&#39;all&#39;)media=&#39;all&#39;\\' rel=\\'stylesheet\\'/><noscript><link href=\\'https://www.blogger.com/dyn-css/authorization.css?targetBlogID=8910150543765894086&amp;zx=ac2e6f32-a9b3-4274-8498-8fe07e59c89b\\' rel=\\'stylesheet\\'/></noscript>\\n\\n</head>\\n<body class=\\'main-body flow-text\\'>\\n<script src=\\'//code.jquery.com/jquery-3.4.1.min.js\\' type=\\'text/javascript\\'></script>\\n<script src=\\'//cdnjs.cloudflare.com/ajax/libs/materialize/1.0.0/js/materialize.min.js\\'></script>\\n<!-- navBar -->\\n<div class=\\'navbar-fixed\\' id=\\'_wm_navBar\\'>\\n<nav class=\\'indigo darken-3\\'>\\n<div class=\\'container\\'>\\n<a class=\\'brand-logo\\' href=\\'http://webminnal.blogspot.com/\\'>\\n<span class=\\'red-text\\'> வ&#3014;ப&#3021; </span> ம&#3007;ன&#3021;னல&#3021; </a>\\n</div>\\n</nav>\\n</div>\\n<div class=\\'main section\\' id=\\'main\\' name=\\'Main\\'><div class=\\'widget Blog\\' data-version=\\'1\\' id=\\'Blog1\\'>\\n<div class=\\'_wm_feed card hoverable\\'>\\n<div class=\\'_wm_labelWrapper\\'>\\n<div class=\\'_wm_top waves-effect lighten-1 btn-flat indigo\\' id=\\'_label_0\\'>\\n<a class=\\'label-text white-text\\' href=\\'http://webminnal.blogspot.com/search/label/Sports\\' rel=\\'tag\\'>\\nSports\\n</a>\\n</div>\\n</div>\\n<div class=\\'card-image _wm_imgSpace grey lighten-3\\'>\\n<a href=\\'http://webminnal.blogspot.com/2019/07/5.html\\'>\\n<img src=\\'https://i4.ytimg.com/vi/O5HaLpWLmjE/hqdefault.jpg\\'/>\\n</a>\\n</div>\\n<div class=\\'card-content\\'>\\n<div class=\\'card-title\\'>\\n<a class=\\'indigo-text\\' href=\\'http://webminnal.blogspot.com/2019/07/5.html\\'>\\nஉலகக&#3021;க&#3019;ப&#3021;ப&#3016; ல&#3008;க&#3021; ச&#3009;ற&#3021;ற&#3009;கள&#3021; ம&#3009;ட&#3007;வ&#3007;ல&#3021; அத&#3007;க ரன&#3021;கள&#3021;, வ&#3007;க&#3021;க&#3014;ட&#3021;கள&#3021; எட&#3009;த&#3021;த ட&#3006;ப&#3021;-5 வ&#3008;ரர&#3021;கள&#3021;!\\n</a>\\n</div>\\n</div>\\n</div>\\n<div class=\\'_wm_feed card hoverable\\'>\\n<div class=\\'_wm_labelWrapper\\'>\\n<div class=\\'_wm_top waves-effect lighten-1 btn-flat indigo\\' id=\\'_label_1\\'>\\n<a class=\\'label-text white-text\\' href=\\'http://webminnal.blogspot.com/search/label/Health\\' rel=\\'tag\\'>\\nHealth\\n</a>\\n</div>\\n</div>\\n<div class=\\'card-image _wm_imgSpace grey lighten-3\\'>\\n<a href=\\'http://webminnal.blogspot.com/2019/07/parotta-heart-attack.html\\'>\\n<img src=\\'https://i4.ytimg.com/vi/KhUV9z1Saos/hqdefault.jpg\\'/>\\n</a>\\n</div>\\n<div class=\\'card-content\\'>\\n<div class=\\'card-title\\'>\\n<a class=\\'indigo-text\\' href=\\'http://webminnal.blogspot.com/2019/07/parotta-heart-attack.html\\'>\\nபர&#3019;ட&#3021;ட&#3006; ச&#3006;ப&#3021;ப&#3007;ட&#3021;ட&#3006;ல&#3021; இவ&#3021;வளவ&#3009; ப&#3007;ரச&#3021;ன&#3016;கள&#3021; வர&#3009;ம&#3006;? - மர&#3009;த&#3021;த&#3009;வர&#3021; வ&#3007;ளக&#3021;கம&#3021; | Parotta | Heart Attack\\n</a>\\n</div>\\n</div>\\n</div>\\n<div class=\\'_wm_feed card hoverable\\'>\\n<div class=\\'_wm_labelWrapper\\'>\\n<div class=\\'_wm_top waves-effect lighten-1 btn-flat indigo\\' id=\\'_label_2\\'>\\n<a class=\\'label-text white-text\\' href=\\'http://webminnal.blogspot.com/search/label/Health\\' rel=\\'tag\\'>\\nHealth\\n</a>\\n</div>\\n</div>\\n<div class=\\'card-image _wm_imgSpace grey lighten-3\\'>\\n<a href=\\'http://webminnal.blogspot.com/2019/07/blog-post_9.html\\'>\\n<img src=\\'http://2.bp.blogspot.com/-euQRwD--H_0/U2O59lStwEI/AAAAAAAAAik/7M-3MYPFNWA/w1200-h630-p-k-no-nu/22-1369202927-5-depression.jpg\\'/>\\n</a>\\n</div>\\n<div class=\\'card-content\\'>\\n<div class=\\'card-title\\'>\\n<a class=\\'indigo-text\\' href=\\'http://webminnal.blogspot.com/2019/07/blog-post_9.html\\'>\\nப&#3014;ண&#3021;கள&#3007;ன&#3021; ம&#3006;தவ&#3007;ட&#3006;ய&#3021; ப&#3007;ரச&#3021;சன&#3016;கள&#3009;க&#3021;க&#3009;\\n</a>\\n</div>\\n</div>\\n</div>\\n<div class=\\'_wm_feed card hoverable\\'>\\n<div class=\\'_wm_labelWrapper\\'>\\n<div class=\\'_wm_top waves-effect lighten-1 btn-flat indigo\\' id=\\'_label_3\\'>\\n<a class=\\'label-text white-text\\' href=\\'http://webminnal.blogspot.com/search/label/News\\' rel=\\'tag\\'>\\nNews\\n</a>\\n</div>\\n</div>\\n<div class=\\'card-image _wm_imgSpace grey lighten-3\\'>\\n<a href=\\'http://webminnal.blogspot.com/2019/04/worlds-biggest-airplane-takes-flight.html\\'>\\n<img src=\\'https://cdn.vox-cdn.com/thumbor/zSLSgPU6gNMmZujsGn6B39LT3-Y=/94x0:1107x675/1310x873/cdn.vox-cdn.com/uploads/chorus_image/image/63404212/drone1_website.0.png\\'/>\\n</a>\\n</div>\\n<div class=\\'card-content\\'>\\n<div class=\\'card-title\\'>\\n<a class=\\'indigo-text\\' href=\\'http://webminnal.blogspot.com/2019/04/worlds-biggest-airplane-takes-flight.html\\'>\\nWorld&#8217;s biggest airplane takes flight for the first time ever\\n</a>\\n</div>\\n</div>\\n</div>\\n<div class=\\'_wm_feed card hoverable\\'>\\n<div class=\\'_wm_labelWrapper\\'>\\n<div class=\\'_wm_top waves-effect lighten-1 btn-flat indigo\\' id=\\'_label_4\\'>\\n<a class=\\'label-text white-text\\' href=\\'http://webminnal.blogspot.com/search/label/News\\' rel=\\'tag\\'>\\nNews\\n</a>\\n</div>\\n</div>\\n<div class=\\'card-image _wm_imgSpace grey lighten-3\\'>\\n<a href=\\'http://webminnal.blogspot.com/2019/04/blog-post_13.html\\'>\\n<img/>\\n</a>\\n</div>\\n<div class=\\'card-content\\'>\\n<div class=\\'card-title\\'>\\n<a class=\\'indigo-text\\' href=\\'http://webminnal.blogspot.com/2019/04/blog-post_13.html\\'>\\nம&#3007;ன&#3021;னம&#3021;பலம&#3021;:ச&#3014;ன&#3021;ன&#3016; தப&#3006;ல&#3021; வ&#3006;க&#3021;க&#3009;ப&#3021;பத&#3007;வ&#3007;ல&#3021; த&#3006;மதம&#3021;!\\n</a>\\n</div>\\n</div>\\n</div>\\n<div class=\\'_wm_feed card hoverable\\'>\\n<div class=\\'_wm_labelWrapper\\'>\\n<div class=\\'_wm_top waves-effect lighten-1 btn-flat indigo\\' id=\\'_label_5\\'>\\n<a class=\\'label-text white-text\\' href=\\'http://webminnal.blogspot.com/search/label/Politics\\' rel=\\'tag\\'>\\nPolitics\\n</a>\\n</div>\\n</div>\\n<div class=\\'card-image _wm_imgSpace grey lighten-3\\'>\\n<a href=\\'http://webminnal.blogspot.com/2019/04/3.html\\'>\\n<img src=\\'https://3.bp.blogspot.com/-A9buRSfZomM/XK_LbI9QqlI/AAAAAAABV5c/E5S6ty3FIDskng1fXE08OxFHxRApIBq1gCLcBGAs/s400/%25E0%25AE%25AF%25E0%25AF%2582%25E0%25AE%25B8%25E0%25AF%258D.jpg\\'/>\\n</a>\\n</div>\\n<div class=\\'card-content\\'>\\n<div class=\\'card-title\\'>\\n<a class=\\'indigo-text\\' href=\\'http://webminnal.blogspot.com/2019/04/3.html\\'>\\nபணமத&#3007;ப&#3021;ப&#3007;ழப&#3021;ப&#3007;ல&#3021; 3லட&#3021;சம&#3021; க&#3019;ட&#3007; ர&#3010;ப&#3006;ய&#3021;.ஊழல&#3021; . ப&#3006;ஜகவ&#3007;னர&#3021; கம&#3007;ஷன&#3021; வ&#3006;ங&#3021;க&#3007; க&#3018;ண&#3021;ட&#3009; பணமத&#3007;ப&#3021;ப&#3009; இழப&#3021;ப&#3016; அற&#3007;வ&#3007;த&#3021;த&#3007;ர&#3009;க&#3021;க&#3007;ற&#3006;ர&#3021;கள&#3021;\\n</a>\\n</div>\\n</div>\\n</div>\\n<div class=\\'_wm_feed card hoverable\\'>\\n<div class=\\'_wm_labelWrapper\\'>\\n<div class=\\'_wm_top waves-effect lighten-1 btn-flat indigo\\' id=\\'_label_6\\'>\\n<a class=\\'label-text white-text\\' href=\\'http://webminnal.blogspot.com/search/label/Medicine\\' rel=\\'tag\\'>\\nMedicine\\n</a>\\n</div>\\n</div>\\n<div class=\\'card-image _wm_imgSpace grey lighten-3\\'>\\n<a href=\\'http://webminnal.blogspot.com/2019/04/blog-post_12.html\\'>\\n<img src=\\'https://1.bp.blogspot.com/-XF1zI23B3PI/VTNJyMpL4hI/AAAAAAAAGD0/prRGUtvnm7A/s1600/noongu%2Bcopy.jpg\\'/>\\n</a>\\n</div>\\n<div class=\\'card-content\\'>\\n<div class=\\'card-title\\'>\\n<a class=\\'indigo-text\\' href=\\'http://webminnal.blogspot.com/2019/04/blog-post_12.html\\'>\\nந&#3009;ங&#3021;க&#3007;ல&#3021; உள&#3021;ள மர&#3009;த&#3021;த&#3009;வ க&#3009;ணங&#3021;கள&#3021; பற&#3021;ற&#3007; உங&#3021;கள&#3009;க&#3021;க&#3009;த&#3021;த&#3014;ர&#3007;ய&#3009;ம&#3006;!?\\n</a>\\n</div>\\n</div>\\n</div>\\n<div class=\\'_wm_feed card hoverable\\'>\\n<div class=\\'_wm_labelWrapper\\'>\\n<div class=\\'_wm_top waves-effect lighten-1 btn-flat indigo\\' id=\\'_label_7\\'>\\n<a class=\\'label-text white-text\\' href=\\'http://webminnal.blogspot.com/search/label/Medicine\\' rel=\\'tag\\'>\\nMedicine\\n</a>\\n</div>\\n</div>\\n<div class=\\'card-image _wm_imgSpace grey lighten-3\\'>\\n<a href=\\'http://webminnal.blogspot.com/2019/04/blog-post_65.html\\'>\\n<img src=\\'http://3.bp.blogspot.com/-shFgmkZ5vsY/VewBg1kOiBI/AAAAAAAAGUs/HC27kPS6ui8/s640/Desktop.jpg\\'/>\\n</a>\\n</div>\\n<div class=\\'card-content\\'>\\n<div class=\\'card-title\\'>\\n<a class=\\'indigo-text\\' href=\\'http://webminnal.blogspot.com/2019/04/blog-post_65.html\\'>\\nம&#3009;ர&#3009;ங&#3021;க&#3016;ய&#3007;ன&#3021; மர&#3009;த&#3021;த&#3009;வ மக&#3007;ம&#3016;... | தகவல&#3021;தளம&#3021;\\n</a>\\n</div>\\n</div>\\n</div>\\n<div class=\\'_wm_feed card hoverable\\'>\\n<div class=\\'_wm_labelWrapper\\'>\\n</div>\\n<div class=\\'card-image _wm_imgSpace grey lighten-3\\'>\\n<a href=\\'http://webminnal.blogspot.com/2019/04/blog-post_26.html\\'>\\n<img src=\\'http://2.bp.blogspot.com/-E6IBmOvCBl0/U2ezdVEHXCI/AAAAAAAAFS8/duPm0hax6oQ/s1600/8979612_orig.jpg\\'/>\\n</a>\\n</div>\\n<div class=\\'card-content\\'>\\n<div class=\\'card-title\\'>\\n<a class=\\'indigo-text\\' href=\\'http://webminnal.blogspot.com/2019/04/blog-post_26.html\\'>\\nதகவல&#3021;தளம&#3021;: ச&#3007;த&#3021;த மர&#3009;த&#3021;த&#3009;வ க&#3009;ற&#3007;ப&#3021;ப&#3009;கள&#3021; ச&#3007;ல ட&#3007;ப&#3021;ஸ&#3021;!..\\n</a>\\n</div>\\n</div>\\n</div>\\n<div class=\\'_wm_feed card hoverable\\'>\\n<div class=\\'_wm_labelWrapper\\'>\\n<div class=\\'_wm_top waves-effect lighten-1 btn-flat indigo\\' id=\\'_label_9\\'>\\n<a class=\\'label-text white-text\\' href=\\'http://webminnal.blogspot.com/search/label/Article\\' rel=\\'tag\\'>\\nArticle\\n</a>\\n</div>\\n</div>\\n<div class=\\'card-image _wm_imgSpace grey lighten-3\\'>\\n<a href=\\'http://webminnal.blogspot.com/2019/04/blog-post_66.html\\'>\\n<img src=\\'https://3.bp.blogspot.com/-7-DPRSgfeKA/VOgTHzqKxKI/AAAAAAAAF74/W6MPJz6LFsA4SJiHCV2hLPinFnd_1Fn3QCPcBGAYYCw/s640/%25E0%25AE%258F%25E0%25AE%25B2%25E0%25AE%2595%25E0%25AF%258D%25E0%25AE%2595%25E0%25AE%25BE%25E0%25AE%25AF%25E0%25AF%258D.jpg\\'/>\\n</a>\\n</div>\\n<div class=\\'card-content\\'>\\n<div class=\\'card-title\\'>\\n<a class=\\'indigo-text\\' href=\\'http://webminnal.blogspot.com/2019/04/blog-post_66.html\\'>\\nவர&#3009;ம&#3021; தல&#3016;ம&#3009;ற&#3016;க&#3021;க&#3009; ச&#3018;த&#3021;த&#3009; மட&#3021;ட&#3009;ம&#3021; ச&#3015;ர&#3021;த&#3021;த&#3006; ப&#3019;ற&#3006;த&#3009;!! மரங&#3021;கள&#3016; வளர&#3021;ப&#3021;ப&#3019;ம&#3021;..\\n</a>\\n</div>\\n</div>\\n</div>\\n<div class=\\'_wm_feed card hoverable\\'>\\n<div class=\\'_wm_labelWrapper\\'>\\n<div class=\\'_wm_top waves-effect lighten-1 btn-flat indigo\\' id=\\'_label_10\\'>\\n<a class=\\'label-text white-text\\' href=\\'http://webminnal.blogspot.com/search/label/Politics\\' rel=\\'tag\\'>\\nPolitics\\n</a>\\n</div>\\n</div>\\n<div class=\\'card-image _wm_imgSpace grey lighten-3\\'>\\n<a href=\\'http://webminnal.blogspot.com/2019/04/15.html\\'>\\n<img src=\\'https://othisaivu.files.wordpress.com/2019/04/screenshot_2019-04-06-rahul-roushan-on-twitter-e0a487e0a4b8e0a495e0a58b-e0a4abe0a582e0a482e0a495e0a4a8e0a587-e0a495e0a4be-e0a4aee0a4bee0a4b2-e0a4b8e0a580e0a4a7e0a4be-e0a48fe0a4afe0a4b0e0.png\\'/>\\n</a>\\n</div>\\n<div class=\\'card-content\\'>\\n<div class=\\'card-title\\'>\\n<a class=\\'indigo-text\\' href=\\'http://webminnal.blogspot.com/2019/04/15.html\\'>\\n[15 க&#3006;ரணங&#3021;கள&#3021;] ந&#3006;ன&#3021; ஏன&#3021; ர&#3006;ஹ&#3009;ல&#3021;க&#3006;ந&#3021;த&#3007;ய&#3016; ஆதர&#3007;க&#3021;க&#3007;ற&#3015;ன&#3021;?\\n</a>\\n</div>\\n</div>\\n</div>\\n<div class=\\'_wm_feed card hoverable\\'>\\n<div class=\\'_wm_labelWrapper\\'>\\n<div class=\\'_wm_top waves-effect lighten-1 btn-flat indigo\\' id=\\'_label_11\\'>\\n<a class=\\'label-text white-text\\' href=\\'http://webminnal.blogspot.com/search/label/Editors%20Choice\\' rel=\\'tag\\'>\\nEditors Choice\\n</a>\\n</div>\\n</div>\\n<div class=\\'card-image _wm_imgSpace grey lighten-3\\'>\\n<a href=\\'http://webminnal.blogspot.com/2019/04/blog-post_10.html\\'>\\n<img src=\\'https://4.bp.blogspot.com/-rfwKu4Q-BX8/XCENfiVN2mI/AAAAAAAAHjE/0mo0Syqau5wvGLZ52lTDZZEU0dVQK1FsgCLcBGAs/s320/karur%2B1.jpg\\'/>\\n</a>\\n</div>\\n<div class=\\'card-content\\'>\\n<div class=\\'card-title\\'>\\n<a class=\\'indigo-text\\' href=\\'http://webminnal.blogspot.com/2019/04/blog-post_10.html\\'>\\nபன&#3021;ம&#3009;கந&#3019;க&#3021;க&#3007;ல&#3021; கல&#3021;வ&#3007;ச&#3021;ச&#3007;ந&#3021;தன&#3016;கள&#3021;.\\n</a>\\n</div>\\n</div>\\n</div>\\n<div class=\\'row\\'>\\n<a class=\\'_wm_biggerText left _wm_left waves-effect red lighten-1 white-text btn-flat\\' href=\\'http://webminnal.blogspot.com/search?updated-max=2019-04-06T22:29:00-04:00&amp;max-results=12\\'> Older </a>\\n</div>\\n</div><div class=\\'widget Label\\' data-version=\\'1\\' id=\\'Label1\\'>\\n<div class=\\'modal\\' id=\\'_wm_float\\'>\\n<div class=\\'modal-content\\'>\\n<ul class=\\'right-align\\'>\\n<li>\\n<a class=\\'_wm_modalItem red-text text-darken-5\\' dir=\\'ltr\\' href=\\'http://webminnal.blogspot.com/search/label/10\\'>\\n<span class=\\'indigo-text\\' dir=\\'ltr\\'>(1)</span>\\n10\\n</a>\\n</li>\\n<li>\\n<a class=\\'_wm_modalItem red-text text-darken-5\\' dir=\\'ltr\\' href=\\'http://webminnal.blogspot.com/search/label/AdultsOnly\\'>\\n<span class=\\'indigo-text\\' dir=\\'ltr\\'>(2)</span>\\nAdultsOnly\\n</a>\\n</li>\\n<li>\\n<a class=\\'_wm_modalItem red-text text-darken-5\\' dir=\\'ltr\\' href=\\'http://webminnal.blogspot.com/search/label/Agri\\'>\\n<span class=\\'indigo-text\\' dir=\\'ltr\\'>(25)</span>\\nAgri\\n</a>\\n</li>\\n<li>\\n<a class=\\'_wm_modalItem red-text text-darken-5\\' dir=\\'ltr\\' href=\\'http://webminnal.blogspot.com/search/label/Android\\'>\\n<span class=\\'indigo-text\\' dir=\\'ltr\\'>(6)</span>\\nAndroid\\n</a>\\n</li>\\n<li>\\n<a class=\\'_wm_modalItem red-text text-darken-5\\' dir=\\'ltr\\' href=\\'http://webminnal.blogspot.com/search/label/Apk\\'>\\n<span class=\\'indigo-text\\' dir=\\'ltr\\'>(10)</span>\\nApk\\n</a>\\n</li>\\n<li>\\n<a class=\\'_wm_modalItem red-text text-darken-5\\' dir=\\'ltr\\' href=\\'http://webminnal.blogspot.com/search/label/Article\\'>\\n<span class=\\'indigo-text\\' dir=\\'ltr\\'>(91)</span>\\nArticle\\n</a>\\n</li>\\n<li>\\n<a class=\\'_wm_modalItem red-text text-darken-5\\' dir=\\'ltr\\' href=\\'http://webminnal.blogspot.com/search/label/Celebrity\\'>\\n<span class=\\'indigo-text\\' dir=\\'ltr\\'>(13)</span>\\nCelebrity\\n</a>\\n</li>\\n<li>\\n<a class=\\'_wm_modalItem red-text text-darken-5\\' dir=\\'ltr\\' href=\\'http://webminnal.blogspot.com/search/label/Cinema\\'>\\n<span class=\\'indigo-text\\' dir=\\'ltr\\'>(114)</span>\\nCinema\\n</a>\\n</li>\\n<li>\\n<a class=\\'_wm_modalItem red-text text-darken-5\\' dir=\\'ltr\\' href=\\'http://webminnal.blogspot.com/search/label/Crime\\'>\\n<span class=\\'indigo-text\\' dir=\\'ltr\\'>(4)</span>\\nCrime\\n</a>\\n</li>\\n<li>\\n<a class=\\'_wm_modalItem red-text text-darken-5\\' dir=\\'ltr\\' href=\\'http://webminnal.blogspot.com/search/label/Critic\\'>\\n<span class=\\'indigo-text\\' dir=\\'ltr\\'>(3)</span>\\nCritic\\n</a>\\n</li>\\n<li>\\n<a class=\\'_wm_modalItem red-text text-darken-5\\' dir=\\'ltr\\' href=\\'http://webminnal.blogspot.com/search/label/Deal\\'>\\n<span class=\\'indigo-text\\' dir=\\'ltr\\'>(4)</span>\\nDeal\\n</a>\\n</li>\\n<li>\\n<a class=\\'_wm_modalItem red-text text-darken-5\\' dir=\\'ltr\\' href=\\'http://webminnal.blogspot.com/search/label/Debate\\'>\\n<span class=\\'indigo-text\\' dir=\\'ltr\\'>(3)</span>\\nDebate\\n</a>\\n</li>\\n<li>\\n<a class=\\'_wm_modalItem red-text text-darken-5\\' dir=\\'ltr\\' href=\\'http://webminnal.blogspot.com/search/label/Editors%20Choice\\'>\\n<span class=\\'indigo-text\\' dir=\\'ltr\\'>(1)</span>\\nEditors Choice\\n</a>\\n</li>\\n<li>\\n<a class=\\'_wm_modalItem red-text text-darken-5\\' dir=\\'ltr\\' href=\\'http://webminnal.blogspot.com/search/label/English\\'>\\n<span class=\\'indigo-text\\' dir=\\'ltr\\'>(1)</span>\\nEnglish\\n</a>\\n</li>\\n<li>\\n<a class=\\'_wm_modalItem red-text text-darken-5\\' dir=\\'ltr\\' href=\\'http://webminnal.blogspot.com/search/label/Flashback\\'>\\n<span class=\\'indigo-text\\' dir=\\'ltr\\'>(2)</span>\\nFlashback\\n</a>\\n</li>\\n<li>\\n<a class=\\'_wm_modalItem red-text text-darken-5\\' dir=\\'ltr\\' href=\\'http://webminnal.blogspot.com/search/label/Fun\\'>\\n<span class=\\'indigo-text\\' dir=\\'ltr\\'>(9)</span>\\nFun\\n</a>\\n</li>\\n<li>\\n<a class=\\'_wm_modalItem red-text text-darken-5\\' dir=\\'ltr\\' href=\\'http://webminnal.blogspot.com/search/label/Health\\'>\\n<span class=\\'indigo-text\\' dir=\\'ltr\\'>(51)</span>\\nHealth\\n</a>\\n</li>\\n<li>\\n<a class=\\'_wm_modalItem red-text text-darken-5\\' dir=\\'ltr\\' href=\\'http://webminnal.blogspot.com/search/label/Ilaiyaraja\\'>\\n<span class=\\'indigo-text\\' dir=\\'ltr\\'>(1)</span>\\nIlaiyaraja\\n</a>\\n</li>\\n<li>\\n<a class=\\'_wm_modalItem red-text text-darken-5\\' dir=\\'ltr\\' href=\\'http://webminnal.blogspot.com/search/label/Infertility\\'>\\n<span class=\\'indigo-text\\' dir=\\'ltr\\'>(7)</span>\\nInfertility\\n</a>\\n</li>\\n<li>\\n<a class=\\'_wm_modalItem red-text text-darken-5\\' dir=\\'ltr\\' href=\\'http://webminnal.blogspot.com/search/label/Interesting\\'>\\n<span class=\\'indigo-text\\' dir=\\'ltr\\'>(20)</span>\\nInteresting\\n</a>\\n</li>\\n<li>\\n<a class=\\'_wm_modalItem red-text text-darken-5\\' dir=\\'ltr\\' href=\\'http://webminnal.blogspot.com/search/label/Internet\\'>\\n<span class=\\'indigo-text\\' dir=\\'ltr\\'>(1)</span>\\nInternet\\n</a>\\n</li>\\n<li>\\n<a class=\\'_wm_modalItem red-text text-darken-5\\' dir=\\'ltr\\' href=\\'http://webminnal.blogspot.com/search/label/IT\\'>\\n<span class=\\'indigo-text\\' dir=\\'ltr\\'>(2)</span>\\nIT\\n</a>\\n</li>\\n<li>\\n<a class=\\'_wm_modalItem red-text text-darken-5\\' dir=\\'ltr\\' href=\\'http://webminnal.blogspot.com/search/label/Jallikattu\\'>\\n<span class=\\'indigo-text\\' dir=\\'ltr\\'>(14)</span>\\nJallikattu\\n</a>\\n</li>\\n<li>\\n<a class=\\'_wm_modalItem red-text text-darken-5\\' dir=\\'ltr\\' href=\\'http://webminnal.blogspot.com/search/label/Kids\\'>\\n<span class=\\'indigo-text\\' dir=\\'ltr\\'>(14)</span>\\nKids\\n</a>\\n</li>\\n<li>\\n<a class=\\'_wm_modalItem red-text text-darken-5\\' dir=\\'ltr\\' href=\\'http://webminnal.blogspot.com/search/label/Lifestyle\\'>\\n<span class=\\'indigo-text\\' dir=\\'ltr\\'>(40)</span>\\nLifestyle\\n</a>\\n</li>\\n<li>\\n<a class=\\'_wm_modalItem red-text text-darken-5\\' dir=\\'ltr\\' href=\\'http://webminnal.blogspot.com/search/label/Literature\\'>\\n<span class=\\'indigo-text\\' dir=\\'ltr\\'>(19)</span>\\nLiterature\\n</a>\\n</li>\\n<li>\\n<a class=\\'_wm_modalItem red-text text-darken-5\\' dir=\\'ltr\\' href=\\'http://webminnal.blogspot.com/search/label/Lyrics\\'>\\n<span class=\\'indigo-text\\' dir=\\'ltr\\'>(29)</span>\\nLyrics\\n</a>\\n</li>\\n<li>\\n<a class=\\'_wm_modalItem red-text text-darken-5\\' dir=\\'ltr\\' href=\\'http://webminnal.blogspot.com/search/label/Medicine\\'>\\n<span class=\\'indigo-text\\' dir=\\'ltr\\'>(2)</span>\\nMedicine\\n</a>\\n</li>\\n<li>\\n<a class=\\'_wm_modalItem red-text text-darken-5\\' dir=\\'ltr\\' href=\\'http://webminnal.blogspot.com/search/label/Misc\\'>\\n<span class=\\'indigo-text\\' dir=\\'ltr\\'>(13)</span>\\nMisc\\n</a>\\n</li>\\n<li>\\n<a class=\\'_wm_modalItem red-text text-darken-5\\' dir=\\'ltr\\' href=\\'http://webminnal.blogspot.com/search/label/Movie\\'>\\n<span class=\\'indigo-text\\' dir=\\'ltr\\'>(3)</span>\\nMovie\\n</a>\\n</li>\\n<li>\\n<a class=\\'_wm_modalItem red-text text-darken-5\\' dir=\\'ltr\\' href=\\'http://webminnal.blogspot.com/search/label/Music\\'>\\n<span class=\\'indigo-text\\' dir=\\'ltr\\'>(14)</span>\\nMusic\\n</a>\\n</li>\\n<li>\\n<a class=\\'_wm_modalItem red-text text-darken-5\\' dir=\\'ltr\\' href=\\'http://webminnal.blogspot.com/search/label/News\\'>\\n<span class=\\'indigo-text\\' dir=\\'ltr\\'>(32)</span>\\nNews\\n</a>\\n</li>\\n<li>\\n<a class=\\'_wm_modalItem red-text text-darken-5\\' dir=\\'ltr\\' href=\\'http://webminnal.blogspot.com/search/label/Photo\\'>\\n<span class=\\'indigo-text\\' dir=\\'ltr\\'>(2)</span>\\nPhoto\\n</a>\\n</li>\\n<li>\\n<a class=\\'_wm_modalItem red-text text-darken-5\\' dir=\\'ltr\\' href=\\'http://webminnal.blogspot.com/search/label/Places\\'>\\n<span class=\\'indigo-text\\' dir=\\'ltr\\'>(1)</span>\\nPlaces\\n</a>\\n</li>\\n<li>\\n<a class=\\'_wm_modalItem red-text text-darken-5\\' dir=\\'ltr\\' href=\\'http://webminnal.blogspot.com/search/label/Politics\\'>\\n<span class=\\'indigo-text\\' dir=\\'ltr\\'>(63)</span>\\nPolitics\\n</a>\\n</li>\\n<li>\\n<a class=\\'_wm_modalItem red-text text-darken-5\\' dir=\\'ltr\\' href=\\'http://webminnal.blogspot.com/search/label/Recipe\\'>\\n<span class=\\'indigo-text\\' dir=\\'ltr\\'>(14)</span>\\nRecipe\\n</a>\\n</li>\\n<li>\\n<a class=\\'_wm_modalItem red-text text-darken-5\\' dir=\\'ltr\\' href=\\'http://webminnal.blogspot.com/search/label/RemoveThumbnail\\'>\\n<span class=\\'indigo-text\\' dir=\\'ltr\\'>(1)</span>\\nRemoveThumbnail\\n</a>\\n</li>\\n<li>\\n<a class=\\'_wm_modalItem red-text text-darken-5\\' dir=\\'ltr\\' href=\\'http://webminnal.blogspot.com/search/label/Republish\\'>\\n<span class=\\'indigo-text\\' dir=\\'ltr\\'>(63)</span>\\nRepublish\\n</a>\\n</li>\\n<li>\\n<a class=\\'_wm_modalItem red-text text-darken-5\\' dir=\\'ltr\\' href=\\'http://webminnal.blogspot.com/search/label/Review\\'>\\n<span class=\\'indigo-text\\' dir=\\'ltr\\'>(44)</span>\\nReview\\n</a>\\n</li>\\n<li>\\n<a class=\\'_wm_modalItem red-text text-darken-5\\' dir=\\'ltr\\' href=\\'http://webminnal.blogspot.com/search/label/Science\\'>\\n<span class=\\'indigo-text\\' dir=\\'ltr\\'>(1)</span>\\nScience\\n</a>\\n</li>\\n<li>\\n<a class=\\'_wm_modalItem red-text text-darken-5\\' dir=\\'ltr\\' href=\\'http://webminnal.blogspot.com/search/label/Serial\\'>\\n<span class=\\'indigo-text\\' dir=\\'ltr\\'>(5)</span>\\nSerial\\n</a>\\n</li>\\n<li>\\n<a class=\\'_wm_modalItem red-text text-darken-5\\' dir=\\'ltr\\' href=\\'http://webminnal.blogspot.com/search/label/Social\\'>\\n<span class=\\'indigo-text\\' dir=\\'ltr\\'>(29)</span>\\nSocial\\n</a>\\n</li>\\n<li>\\n<a class=\\'_wm_modalItem red-text text-darken-5\\' dir=\\'ltr\\' href=\\'http://webminnal.blogspot.com/search/label/SocialMedia\\'>\\n<span class=\\'indigo-text\\' dir=\\'ltr\\'>(8)</span>\\nSocialMedia\\n</a>\\n</li>\\n<li>\\n<a class=\\'_wm_modalItem red-text text-darken-5\\' dir=\\'ltr\\' href=\\'http://webminnal.blogspot.com/search/label/Sports\\'>\\n<span class=\\'indigo-text\\' dir=\\'ltr\\'>(7)</span>\\nSports\\n</a>\\n</li>\\n<li>\\n<a class=\\'_wm_modalItem red-text text-darken-5\\' dir=\\'ltr\\' href=\\'http://webminnal.blogspot.com/search/label/Story\\'>\\n<span class=\\'indigo-text\\' dir=\\'ltr\\'>(6)</span>\\nStory\\n</a>\\n</li>\\n<li>\\n<a class=\\'_wm_modalItem red-text text-darken-5\\' dir=\\'ltr\\' href=\\'http://webminnal.blogspot.com/search/label/Success\\'>\\n<span class=\\'indigo-text\\' dir=\\'ltr\\'>(5)</span>\\nSuccess\\n</a>\\n</li>\\n<li>\\n<a class=\\'_wm_modalItem red-text text-darken-5\\' dir=\\'ltr\\' href=\\'http://webminnal.blogspot.com/search/label/Tamil\\'>\\n<span class=\\'indigo-text\\' dir=\\'ltr\\'>(11)</span>\\nTamil\\n</a>\\n</li>\\n<li>\\n<a class=\\'_wm_modalItem red-text text-darken-5\\' dir=\\'ltr\\' href=\\'http://webminnal.blogspot.com/search/label/Tech\\'>\\n<span class=\\'indigo-text\\' dir=\\'ltr\\'>(9)</span>\\nTech\\n</a>\\n</li>\\n<li>\\n<a class=\\'_wm_modalItem red-text text-darken-5\\' dir=\\'ltr\\' href=\\'http://webminnal.blogspot.com/search/label/Trending\\'>\\n<span class=\\'indigo-text\\' dir=\\'ltr\\'>(3)</span>\\nTrending\\n</a>\\n</li>\\n<li>\\n<a class=\\'_wm_modalItem red-text text-darken-5\\' dir=\\'ltr\\' href=\\'http://webminnal.blogspot.com/search/label/TV\\'>\\n<span class=\\'indigo-text\\' dir=\\'ltr\\'>(7)</span>\\nTV\\n</a>\\n</li>\\n<li>\\n<a class=\\'_wm_modalItem red-text text-darken-5\\' dir=\\'ltr\\' href=\\'http://webminnal.blogspot.com/search/label/Useful\\'>\\n<span class=\\'indigo-text\\' dir=\\'ltr\\'>(3)</span>\\nUseful\\n</a>\\n</li>\\n<li>\\n<a class=\\'_wm_modalItem red-text text-darken-5\\' dir=\\'ltr\\' href=\\'http://webminnal.blogspot.com/search/label/Video\\'>\\n<span class=\\'indigo-text\\' dir=\\'ltr\\'>(19)</span>\\nVideo\\n</a>\\n</li>\\n<li>\\n<a class=\\'_wm_modalItem red-text text-darken-5\\' dir=\\'ltr\\' href=\\'http://webminnal.blogspot.com/search/label/Women\\'>\\n<span class=\\'indigo-text\\' dir=\\'ltr\\'>(1)</span>\\nWomen\\n</a>\\n</li>\\n<li>\\n<a class=\\'_wm_modalItem red-text text-darken-5\\' dir=\\'ltr\\' href=\\'http://webminnal.blogspot.com/search/label/Youth\\'>\\n<span class=\\'indigo-text\\' dir=\\'ltr\\'>(3)</span>\\nYouth\\n</a>\\n</li>\\n</ul>\\n</div>\\n</div>\\n<div class=\\'fixed-action-btn\\'>\\n<a class=\\'modal-trigger btn-floating btn-large red\\' data-target=\\'_wm_float\\'>\\n<i class=\\'large material-icons\\'>menu</i>\\n</a>\\n</div>\\n</div></div>\\n<!-- footer -->\\n<footer class=\\'indigo page-footer\\'>\\n<div class=\\'_wm_wideContainer\\'>\\n<span class=\\'white-text\\'>Disclaimer </span>\\n<p class=\\'grey-text text-lighten-4\\'>We do not host any of the content listed on this website. We curate and share digital content that can easily be found on the internet. All credits go to original content creators.\\n         </p>\\n</div>\\n<div class=\\'indigo lighten-1 footer-copyright\\'>\\n<div class=\\'_wm_wideContainer\\'> Powered by web minnal &#169;\\n         </div>\\n</div>\\n</footer>\\n<!-- jQuery magic -->\\n<script type=\\'text/javascript\\'>\\n         //<![CDATA[\\n         (function($) {\\n           $(function() {\\n         \\n// Initialize\\n             try { \\n               $(\\'.modal\\').modal();\\n\\n             } catch (e) {\\n               console.log(\\' _wm_err : Initialization\\');\\n             }         \\n\\n// Duplicate Images\\n             try {\\n              var seen = {};\\n              $(\\'._wm_story img\\').each(function() {\\n                var imgUrl = $(this).attr(\\'src\\');\\n                if (seen[imgUrl])\\n                  $(this).closest(\\'img\\').remove();\\n                else\\n                  seen[imgUrl] = true;\\n              });\\n\\n             } catch (e) {\\n               console.log(\\' _wm_err : Identifying Duplicate Images\\');\\n             }     \\n         \\n// Label Coloring\\n             try { \\n             $(\\'#_label_0\\').addClass(\\'blue\\').removeClass(\\'indigo\\');\\n             $(\\'#_label_1\\').addClass(\\'green\\').removeClass(\\'indigo\\');\\n             $(\\'#_label_2\\').addClass(\\'orange\\').removeClass(\\'indigo\\');\\n             $(\\'#_label_3\\').addClass(\\'teal\\').removeClass(\\'indigo\\');\\n             $(\\'#_label_4\\').addClass(\\'red\\').removeClass(\\'indigo\\');\\n             $(\\'#_label_5\\').addClass(\\'blue\\').removeClass(\\'indigo\\');\\n             $(\\'#_label_6\\').addClass(\\'green\\').removeClass(\\'indigo\\');\\n             $(\\'#_label_7\\').addClass(\\'orange\\').removeClass(\\'indigo\\');\\n             $(\\'#_label_8\\').addClass(\\'teal\\').removeClass(\\'indigo\\');\\n             $(\\'#_label_9\\').addClass(\\'red\\').removeClass(\\'indigo\\');\\n         \\n           } catch (e) {\\n             console.log(\\' _wm_err : Label coloring\\');\\n           }\\n\\n// Toggle navbar\\n            try { \\n            var previousScroll = 0;\\n            $(window).scroll(function() {\\n                var currentScroll = $(this).scrollTop();\\n                if (currentScroll > 0 && currentScroll < $(document).height() - $(window).height()) {\\n                    if (currentScroll > previousScroll) {\\n                        $(\\'#_wm_navBar\\').removeClass(\\'navbar-fixed\\').addClass(\\'navbar\\');\\n                    } else {\\n                        $(\\'#_wm_navBar\\').addClass(\\'navbar-fixed\\').removeClass(\\'navbar\\');\\n                        $(\\'#_floating_menu\\').removeClass(\\'hide\\').addClass(\\'show\\');\\n                    }\\n                    previousScroll = currentScroll;\\n                }\\n            });\\n            if (typeof document.onselectstart != \"undefined\") {\\n                document.onselectstart = new Function(\"return false\");\\n            } else {\\n                document.onmousedown = new Function(\"return false\");\\n                document.onmouseup = new Function(\"return true\");\\n            }\\n            } catch (e) {\\n                console.log(\\' _wm_err : Toggle navBar\\');\\n            }\\n\\n// Fix iframes\\n          try { \\n            if ($(this).find(\\'iframe\\').length) {\\n              if ($(this).find(\\'iframe\\').length == 1) {\\n                      $(this).find(\\'iframe\\').wrap(\\'<div id=\"_wm_fixedVideoBox\" class=\"video-container\"></div>\\');\\n              } else  $(this).find(\\'iframe\\').wrap(\\'<div id=\"_wm_videoBox\" class=\"video-container\"></div>\\');\\n            }\\n          } catch (e) {\\n            console.log(\\' _wm_err : iframe Handling\\');\\n          }\\n\\n// Credits\\n\\n            function extractDomain(url) {\\n              var domain;\\n              if (url.indexOf(\\'://\\') > -1) {\\n                domain = url.split(\\'/\\')[2];\\n              } else {\\n                domain = url.split(\\'/\\')[0];\\n              }\\n              domain = domain.split(\\':\\')[0];\\n              return domain;\\n            }\\n\\n          try {\\n              var source_url = $(\\'#_credit\\').text();\\n              var hostname = $.trim(extractDomain(source_url));\\n              var hostname_inner_html = \\'<br/><blockquote><div id=\"_credit\" ><a href=\\' + source_url + \\'> </a></div></blockquote> \\'\\n              $(\\'#_credit\\').replaceWith(hostname_inner_html);\\n              $(\\'#_credit a\\').text(hostname);\\n          } catch (e) {\\n            console.log(\\' _wm_err : credit Handling\\');\\n          }\\n\\n         \\n            });\\n         })(jQuery);\\n         //]]>\\n      </script>\\n\\n<script type=\"text/javascript\" src=\"https://www.blogger.com/static/v1/widgets/2374701131-widgets.js\"></script>\\n<script type=\\'text/javascript\\'>\\nwindow[\\'__wavt\\'] = \\'AOuZoY50WJFSheTwBNTa5Tgw5PnndS9AxA:1564440686255\\';_WidgetManager._Init(\\'//www.blogger.com/rearrange?blogID\\\\x3d8910150543765894086\\',\\'//webminnal.blogspot.com/\\',\\'8910150543765894086\\');\\n_WidgetManager._SetDataContext([{\\'name\\': \\'blog\\', \\'data\\': {\\'blogId\\': \\'8910150543765894086\\', \\'title\\': \\'WebMinnal\\', \\'url\\': \\'http://webminnal.blogspot.com/\\', \\'canonicalUrl\\': \\'http://webminnal.blogspot.com/\\', \\'homepageUrl\\': \\'http://webminnal.blogspot.com/\\', \\'searchUrl\\': \\'http://webminnal.blogspot.com/search\\', \\'canonicalHomepageUrl\\': \\'http://webminnal.blogspot.com/\\', \\'blogspotFaviconUrl\\': \\'http://webminnal.blogspot.com/favicon.ico\\', \\'bloggerUrl\\': \\'https://www.blogger.com\\', \\'hasCustomDomain\\': false, \\'httpsEnabled\\': true, \\'enabledCommentProfileImages\\': true, \\'gPlusViewType\\': \\'FILTERED_POSTMOD\\', \\'adultContent\\': false, \\'analyticsAccountNumber\\': \\'UA-90663143-1\\', \\'encoding\\': \\'UTF-8\\', \\'locale\\': \\'en\\', \\'localeUnderscoreDelimited\\': \\'en\\', \\'languageDirection\\': \\'ltr\\', \\'isPrivate\\': false, \\'isMobile\\': false, \\'isMobileRequest\\': false, \\'mobileClass\\': \\'\\', \\'isPrivateBlog\\': false, \\'feedLinks\\': \\'\\\\x3clink rel\\\\x3d\\\\x22alternate\\\\x22 type\\\\x3d\\\\x22application/atom+xml\\\\x22 title\\\\x3d\\\\x22WebMinnal - Atom\\\\x22 href\\\\x3d\\\\x22http://webminnal.blogspot.com/feeds/posts/default\\\\x22 /\\\\x3e\\\\n\\\\x3clink rel\\\\x3d\\\\x22alternate\\\\x22 type\\\\x3d\\\\x22application/rss+xml\\\\x22 title\\\\x3d\\\\x22WebMinnal - RSS\\\\x22 href\\\\x3d\\\\x22http://webminnal.blogspot.com/feeds/posts/default?alt\\\\x3drss\\\\x22 /\\\\x3e\\\\n\\\\x3clink rel\\\\x3d\\\\x22service.post\\\\x22 type\\\\x3d\\\\x22application/atom+xml\\\\x22 title\\\\x3d\\\\x22WebMinnal - Atom\\\\x22 href\\\\x3d\\\\x22https://www.blogger.com/feeds/8910150543765894086/posts/default\\\\x22 /\\\\x3e\\\\n\\', \\'meTag\\': \\'\\\\x3clink rel\\\\x3d\\\\x22me\\\\x22 href\\\\x3d\\\\x22https://www.blogger.com/profile/12346594297364791746\\\\x22 /\\\\x3e\\\\n\\', \\'adsenseHostId\\': \\'ca-host-pub-1556223355139109\\', \\'adsenseHasAds\\': false, \\'ieCssRetrofitLinks\\': \\'\\\\x3c!--[if IE]\\\\x3e\\\\x3cscript type\\\\x3d\\\\x22text/javascript\\\\x22 src\\\\x3d\\\\x22https://www.blogger.com/static/v1/jsbin/1888308728-ieretrofit.js\\\\x22\\\\x3e\\\\x3c/script\\\\x3e\\\\n\\\\x3c![endif]--\\\\x3e\\', \\'view\\': \\'\\', \\'dynamicViewsCommentsSrc\\': \\'//www.blogblog.com/dynamicviews/4224c15c4e7c9321/js/comments.js\\', \\'dynamicViewsScriptSrc\\': \\'//www.blogblog.com/dynamicviews/b9280c45c3eb34af\\', \\'plusOneApiSrc\\': \\'https://apis.google.com/js/plusone.js\\', \\'disableGComments\\': true, \\'sharing\\': {\\'platforms\\': [{\\'name\\': \\'Get link\\', \\'key\\': \\'link\\', \\'shareMessage\\': \\'Get link\\', \\'target\\': \\'\\'}, {\\'name\\': \\'Facebook\\', \\'key\\': \\'facebook\\', \\'shareMessage\\': \\'Share to Facebook\\', \\'target\\': \\'facebook\\'}, {\\'name\\': \\'BlogThis!\\', \\'key\\': \\'blogThis\\', \\'shareMessage\\': \\'BlogThis!\\', \\'target\\': \\'blog\\'}, {\\'name\\': \\'Twitter\\', \\'key\\': \\'twitter\\', \\'shareMessage\\': \\'Share to Twitter\\', \\'target\\': \\'twitter\\'}, {\\'name\\': \\'Pinterest\\', \\'key\\': \\'pinterest\\', \\'shareMessage\\': \\'Share to Pinterest\\', \\'target\\': \\'pinterest\\'}, {\\'name\\': \\'Email\\', \\'key\\': \\'email\\', \\'shareMessage\\': \\'Email\\', \\'target\\': \\'email\\'}], \\'disableGooglePlus\\': true, \\'googlePlusShareButtonWidth\\': 300, \\'googlePlusBootstrap\\': \\'\\\\x3cscript type\\\\x3d\\\\x22text/javascript\\\\x22\\\\x3ewindow.___gcfg \\\\x3d {\\\\x27lang\\\\x27: \\\\x27en\\\\x27};\\\\x3c/script\\\\x3e\\'}, \\'hasCustomJumpLinkMessage\\': false, \\'jumpLinkMessage\\': \\'Read more\\', \\'pageType\\': \\'index\\', \\'pageName\\': \\'\\', \\'pageTitle\\': \\'WebMinnal\\', \\'metaDescription\\': \\'A clean and simple blog that provides digital content in a clean format optimized for mobile.\\'}}, {\\'name\\': \\'features\\', \\'data\\': {\\'sharing_get_link_dialog\\': \\'true\\', \\'sharing_native\\': \\'false\\'}}, {\\'name\\': \\'messages\\', \\'data\\': {\\'edit\\': \\'Edit\\', \\'linkCopiedToClipboard\\': \\'Link copied to clipboard!\\', \\'ok\\': \\'Ok\\', \\'postLink\\': \\'Post Link\\'}}, {\\'name\\': \\'template\\', \\'data\\': {\\'name\\': \\'custom\\', \\'localizedName\\': \\'Custom\\', \\'isResponsive\\': false, \\'isAlternateRendering\\': false, \\'isCustom\\': true}}, {\\'name\\': \\'view\\', \\'data\\': {\\'classic\\': {\\'name\\': \\'classic\\', \\'url\\': \\'?view\\\\x3dclassic\\'}, \\'flipcard\\': {\\'name\\': \\'flipcard\\', \\'url\\': \\'?view\\\\x3dflipcard\\'}, \\'magazine\\': {\\'name\\': \\'magazine\\', \\'url\\': \\'?view\\\\x3dmagazine\\'}, \\'mosaic\\': {\\'name\\': \\'mosaic\\', \\'url\\': \\'?view\\\\x3dmosaic\\'}, \\'sidebar\\': {\\'name\\': \\'sidebar\\', \\'url\\': \\'?view\\\\x3dsidebar\\'}, \\'snapshot\\': {\\'name\\': \\'snapshot\\', \\'url\\': \\'?view\\\\x3dsnapshot\\'}, \\'timeslide\\': {\\'name\\': \\'timeslide\\', \\'url\\': \\'?view\\\\x3dtimeslide\\'}, \\'isMobile\\': false, \\'title\\': \\'WebMinnal\\', \\'description\\': \\'A clean and simple blog that provides digital content in a clean format optimized for mobile.\\', \\'url\\': \\'http://webminnal.blogspot.com/\\', \\'type\\': \\'feed\\', \\'isSingleItem\\': false, \\'isMultipleItems\\': true, \\'isError\\': false, \\'isPage\\': false, \\'isPost\\': false, \\'isHomepage\\': true, \\'isArchive\\': false, \\'isLabelSearch\\': false}}]);\\n_WidgetManager._RegisterWidget(\\'_BlogView\\', new _WidgetInfo(\\'Blog1\\', \\'main\\', document.getElementById(\\'Blog1\\'), {\\'cmtInteractionsEnabled\\': false, \\'lightboxEnabled\\': true, \\'lightboxModuleUrl\\': \\'https://www.blogger.com/static/v1/jsbin/1388815452-lbx.js\\', \\'lightboxCssUrl\\': \\'https://www.blogger.com/static/v1/v-css/368954415-lightbox_bundle.css\\'}, \\'displayModeFull\\'));\\n_WidgetManager._RegisterWidget(\\'_LabelView\\', new _WidgetInfo(\\'Label1\\', \\'main\\', document.getElementById(\\'Label1\\'), {}, \\'displayModeFull\\'));\\n</script>\\n</body>\\n</html>'"
      ]
     },
     "execution_count": 148,
     "metadata": {},
     "output_type": "execute_result"
    }
   ],
   "source": [
    "import requests\n",
    "print(\"requests file:\", requests.__file__)\n",
    "\n",
    "#the required first parameter of the 'get' method is the 'url':\n",
    "x = requests.get('http://webminnal.blogspot.com')\n",
    "y = x.text\n",
    "y"
   ]
  },
  {
   "cell_type": "code",
   "execution_count": 149,
   "metadata": {},
   "outputs": [
    {
     "name": "stdout",
     "output_type": "stream",
     "text": [
      "<BR>Jul. 30, 07:19:29 PM EDT\t\tEastern Time\n",
      "\n"
     ]
    }
   ],
   "source": [
    "from urllib.request import urlopen\n",
    "with urlopen('http://tycho.usno.navy.mil/cgi-bin/timer.pl') as response:\n",
    "     for line in response:\n",
    "         line = line.decode('utf-8')  # Decoding the binary data to text.\n",
    "         if 'EST' in line or 'EDT' in line:  # look for Eastern Time\n",
    "             print(line)"
   ]
  },
  {
   "cell_type": "code",
   "execution_count": 150,
   "metadata": {},
   "outputs": [
    {
     "data": {
      "text/plain": [
       "{'message': 'Hello there, wayfaring stranger. If you’re reading this then you probably didn’t see our blog post a couple of years back announcing that this API would go away: http://git.io/17AROg Fear not, you should be able to get what you need from the shiny new Events API instead.',\n",
       " 'documentation_url': 'https://developer.github.com/v3/activity/events/#list-public-events'}"
      ]
     },
     "execution_count": 150,
     "metadata": {},
     "output_type": "execute_result"
    }
   ],
   "source": [
    "import requests\n",
    "r = requests.get('https://github.com/timeline.json')\n",
    "r.json()"
   ]
  },
  {
   "cell_type": "code",
   "execution_count": 151,
   "metadata": {},
   "outputs": [
    {
     "data": {
      "text/plain": [
       "<Response [200]>"
      ]
     },
     "execution_count": 151,
     "metadata": {},
     "output_type": "execute_result"
    }
   ],
   "source": [
    "headers = {'Content-type': 'application/json',}\n",
    "data = '{\"text\":\"Hello, World!\"}'\n",
    "response = requests.post('https://hooks.slack.com/services/asdfasdfasdf', headers=headers, data=data)\n",
    "response"
   ]
  },
  {
   "cell_type": "markdown",
   "metadata": {},
   "source": [
    ":NUMPY"
   ]
  },
  {
   "cell_type": "code",
   "execution_count": 2,
   "metadata": {},
   "outputs": [
    {
     "data": {
      "text/plain": [
       "[5.0, 3.75, 4.0, 8.0]"
      ]
     },
     "execution_count": 2,
     "metadata": {},
     "output_type": "execute_result"
    }
   ],
   "source": [
    "distance = [10, 15, 12, 8]\n",
    "time = [2, 4, 3, 1]\n",
    "speed = [d/t for d,t in zip(distance, time)]\n",
    "speed"
   ]
  },
  {
   "cell_type": "code",
   "execution_count": 153,
   "metadata": {},
   "outputs": [
    {
     "data": {
      "text/plain": [
       "[5.0, 3.75, 4.0, 8.0]"
      ]
     },
     "execution_count": 153,
     "metadata": {},
     "output_type": "execute_result"
    }
   ],
   "source": [
    "speed = []\n",
    "for i in range(len(distance)):\n",
    "    speed.append(distance[i]/time[i])\n",
    "speed"
   ]
  },
  {
   "cell_type": "code",
   "execution_count": 4,
   "metadata": {},
   "outputs": [
    {
     "data": {
      "text/plain": [
       "74"
      ]
     },
     "execution_count": 4,
     "metadata": {},
     "output_type": "execute_result"
    }
   ],
   "source": [
    "qty = [13, 2, 11, 4]\n",
    "price = [3, 2, 1, 5]\n",
    "total = sum(q*p for q, p in zip(qty, price))\n",
    "total"
   ]
  },
  {
   "cell_type": "code",
   "execution_count": 5,
   "metadata": {},
   "outputs": [
    {
     "data": {
      "text/plain": [
       "numpy.ndarray"
      ]
     },
     "execution_count": 5,
     "metadata": {},
     "output_type": "execute_result"
    }
   ],
   "source": [
    "import numpy as np\n",
    "distance = np.array(distance)\n",
    "time = np.array(time)\n",
    "qty = np.array(qty)\n",
    "price = np.array(price)\n",
    "\n",
    "distance\n",
    "type(distance)"
   ]
  },
  {
   "cell_type": "markdown",
   "metadata": {},
   "source": [
    ":np.dot"
   ]
  },
  {
   "cell_type": "code",
   "execution_count": 13,
   "metadata": {},
   "outputs": [
    {
     "name": "stdout",
     "output_type": "stream",
     "text": [
      "[[ 37  40]\n",
      " [ 85  92]\n",
      " [133 144]]\n",
      "(3, 2)\n"
     ]
    },
    {
     "data": {
      "text/plain": [
       "' dot product is calculated as [[1*11+2*13, 1*12+2*14],[3*11+4*13, 3*12+4*14]]'"
      ]
     },
     "execution_count": 13,
     "metadata": {},
     "output_type": "execute_result"
    }
   ],
   "source": [
    "a = np.array([[1,2],[3,4],[5,6]]) \n",
    "b = np.array([[11,12],[13,14]]) \n",
    "dp = np.dot(a,b)\n",
    "print(dp)\n",
    "print(dp.shape)\n",
    "\"\"\" dot product is calculated as [[1*11+2*13, 1*12+2*14],[3*11+4*13, 3*12+4*14]]\"\"\""
   ]
  },
  {
   "cell_type": "code",
   "execution_count": 8,
   "metadata": {},
   "outputs": [
    {
     "data": {
      "text/plain": [
       "124"
      ]
     },
     "execution_count": 8,
     "metadata": {},
     "output_type": "execute_result"
    }
   ],
   "source": [
    "dp = np.dot(distance, time)\n",
    "dp"
   ]
  },
  {
   "cell_type": "markdown",
   "metadata": {},
   "source": [
    ":np.reshape"
   ]
  },
  {
   "cell_type": "code",
   "execution_count": 16,
   "metadata": {},
   "outputs": [
    {
     "name": "stdout",
     "output_type": "stream",
     "text": [
      "1\n",
      "[[[ 0  1  2]\n",
      "  [ 3  4  5]\n",
      "  [ 6  7  8]\n",
      "  [ 9 10 11]]\n",
      "\n",
      " [[12 13 14]\n",
      "  [15 16 17]\n",
      "  [18 19 20]\n",
      "  [21 22 23]]]\n"
     ]
    }
   ],
   "source": [
    "# this is one dimensional array \n",
    "import numpy as np \n",
    "a = np.arange(24) \n",
    "print(a.ndim)\n",
    "\n",
    "# now reshape it \n",
    "b = a.reshape(2,4,3) \n",
    "print (b)\n",
    "# b is having three dimensions"
   ]
  },
  {
   "cell_type": "code",
   "execution_count": 156,
   "metadata": {},
   "outputs": [
    {
     "data": {
      "text/plain": [
       "array([[1, 2],\n",
       "       [3, 4]])"
      ]
     },
     "execution_count": 156,
     "metadata": {},
     "output_type": "execute_result"
    }
   ],
   "source": [
    "arr1 = np.array([[1,2], [3,4]])\n",
    "arr1"
   ]
  },
  {
   "cell_type": "code",
   "execution_count": 157,
   "metadata": {},
   "outputs": [
    {
     "data": {
      "text/plain": [
       "array([0, 0, 0, 0, 0, 0, 0, 0, 0, 0])"
      ]
     },
     "execution_count": 157,
     "metadata": {},
     "output_type": "execute_result"
    }
   ],
   "source": [
    "arr2 = np.zeros(10, dtype=int)\n",
    "arr2"
   ]
  },
  {
   "cell_type": "code",
   "execution_count": 158,
   "metadata": {},
   "outputs": [
    {
     "data": {
      "text/plain": [
       "array([[1., 1., 1., 1., 1.],\n",
       "       [1., 1., 1., 1., 1.],\n",
       "       [1., 1., 1., 1., 1.]])"
      ]
     },
     "execution_count": 158,
     "metadata": {},
     "output_type": "execute_result"
    }
   ],
   "source": [
    "arr3 = np.ones(shape=(3,5), dtype=float)\n",
    "arr3"
   ]
  },
  {
   "cell_type": "code",
   "execution_count": 159,
   "metadata": {},
   "outputs": [
    {
     "data": {
      "text/plain": [
       "array([ 0,  2,  4,  6,  8, 10, 12, 14, 16, 18])"
      ]
     },
     "execution_count": 159,
     "metadata": {},
     "output_type": "execute_result"
    }
   ],
   "source": [
    "arr4 = np.arange(start=0, stop=20, step=2)\n",
    "arr4"
   ]
  },
  {
   "cell_type": "code",
   "execution_count": 160,
   "metadata": {},
   "outputs": [
    {
     "data": {
      "text/plain": [
       "array([0.        , 0.05263158, 0.10526316, 0.15789474, 0.21052632,\n",
       "       0.26315789, 0.31578947, 0.36842105, 0.42105263, 0.47368421,\n",
       "       0.52631579, 0.57894737, 0.63157895, 0.68421053, 0.73684211,\n",
       "       0.78947368, 0.84210526, 0.89473684, 0.94736842, 1.        ])"
      ]
     },
     "execution_count": 160,
     "metadata": {},
     "output_type": "execute_result"
    }
   ],
   "source": [
    "arr5 = np.linspace(0, 1, 20)\n",
    "arr5"
   ]
  },
  {
   "cell_type": "code",
   "execution_count": 161,
   "metadata": {},
   "outputs": [
    {
     "data": {
      "text/plain": [
       "(2, 2)"
      ]
     },
     "execution_count": 161,
     "metadata": {},
     "output_type": "execute_result"
    }
   ],
   "source": [
    "arr1.shape"
   ]
  },
  {
   "cell_type": "code",
   "execution_count": 162,
   "metadata": {},
   "outputs": [
    {
     "data": {
      "text/plain": [
       "4"
      ]
     },
     "execution_count": 162,
     "metadata": {},
     "output_type": "execute_result"
    }
   ],
   "source": [
    "arr1.size"
   ]
  },
  {
   "cell_type": "code",
   "execution_count": 163,
   "metadata": {},
   "outputs": [
    {
     "data": {
      "text/plain": [
       "2"
      ]
     },
     "execution_count": 163,
     "metadata": {},
     "output_type": "execute_result"
    }
   ],
   "source": [
    "arr1.ndim"
   ]
  },
  {
   "cell_type": "code",
   "execution_count": 164,
   "metadata": {},
   "outputs": [
    {
     "data": {
      "text/plain": [
       "array([5.  , 3.75, 4.  , 8.  ])"
      ]
     },
     "execution_count": 164,
     "metadata": {},
     "output_type": "execute_result"
    }
   ],
   "source": [
    "speed = distance/time\n",
    "speed"
   ]
  },
  {
   "cell_type": "code",
   "execution_count": 165,
   "metadata": {},
   "outputs": [
    {
     "data": {
      "text/plain": [
       "74"
      ]
     },
     "execution_count": 165,
     "metadata": {},
     "output_type": "execute_result"
    }
   ],
   "source": [
    "total = (qty * price).sum()\n",
    "total"
   ]
  },
  {
   "cell_type": "markdown",
   "metadata": {},
   "source": [
    ":np.Transpose"
   ]
  },
  {
   "cell_type": "code",
   "execution_count": null,
   "metadata": {},
   "outputs": [],
   "source": [
    "B = np.array([[5,3],[-2,4]])\n",
    "B\n",
    "B.T"
   ]
  },
  {
   "cell_type": "markdown",
   "metadata": {},
   "source": [
    ":np.take\n",
    ":np.skip"
   ]
  },
  {
   "cell_type": "code",
   "execution_count": 5,
   "metadata": {
    "scrolled": true
   },
   "outputs": [
    {
     "data": {
      "text/plain": [
       "array([4, 3, 6])"
      ]
     },
     "execution_count": 5,
     "metadata": {},
     "output_type": "execute_result"
    }
   ],
   "source": [
    "import numpy as np\n",
    "a = [4, 3, 5, 7, 6, 8]\n",
    "indices = [0, 1, 4]\n",
    "np.take(a, indices)"
   ]
  },
  {
   "cell_type": "code",
   "execution_count": null,
   "metadata": {},
   "outputs": [],
   "source": []
  },
  {
   "cell_type": "code",
   "execution_count": 3,
   "metadata": {},
   "outputs": [
    {
     "data": {
      "image/png": "[encoded data removed]",
      "text/plain": [
       "<Figure size 432x288 with 1 Axes>"
      ]
     },
     "metadata": {
      "needs_background": "light"
     },
     "output_type": "display_data"
    }
   ],
   "source": [
    "def display_sinusoid():\n",
    "  X = range(180)\n",
    "  Y = [math.sin(x/10.0) for x in X]\n",
    "  plt.plot(X, Y)\n",
    "\n",
    "display_sinusoid()"
   ]
  },
  {
   "cell_type": "code",
   "execution_count": 3,
   "metadata": {},
   "outputs": [
    {
     "name": "stdout",
     "output_type": "stream",
     "text": [
      "1\n"
     ]
    }
   ],
   "source": [
    "x = 1 if 20 > 10 else 0\n",
    "print(x)"
   ]
  },
  {
   "cell_type": "code",
   "execution_count": 3,
   "metadata": {},
   "outputs": [
    {
     "data": {
      "text/plain": [
       "<Figure size 432x432 with 0 Axes>"
      ]
     },
     "metadata": {},
     "output_type": "display_data"
    },
    {
     "data": {
      "image/png": "[encoded data removed]",
      "text/plain": [
       "<Figure size 432x288 with 1 Axes>"
      ]
     },
     "metadata": {
      "needs_background": "light"
     },
     "output_type": "display_data"
    },
    {
     "data": {
      "image/png": "[encoded data removed]",
      "text/plain": [
       "<Figure size 432x288 with 1 Axes>"
      ]
     },
     "metadata": {
      "needs_background": "light"
     },
     "output_type": "display_data"
    }
   ],
   "source": [
    "import pandas as pd\n",
    "import matplotlib.pyplot as plt \n",
    "\n",
    "features = pd.read_csv('C:/Python/Data/Walmart/features.csv')\n",
    "df = features.sample(frac=0.001)\n",
    "\n",
    "plt.figure(figsize = (6,6))\n",
    "df.plot.box()\n",
    "plt.show()\n",
    "\n",
    "#Boxplot\n",
    "y = list(df['Temperature']) \n",
    "plt.boxplot(y) \n",
    "plt.show() "
   ]
  },
  {
   "cell_type": "code",
   "execution_count": 38,
   "metadata": {},
   "outputs": [
    {
     "data": {
      "text/plain": [
       "array(['Store', 'Date', 'Temperature', 'Fuel_Price', 'MarkDown1',\n",
       "       'MarkDown2', 'MarkDown3', 'MarkDown4', 'MarkDown5', 'CPI',\n",
       "       'Unemployment', 'IsHoliday'], dtype=object)"
      ]
     },
     "execution_count": 38,
     "metadata": {},
     "output_type": "execute_result"
    }
   ],
   "source": [
    "df.columns.values"
   ]
  },
  {
   "cell_type": "code",
   "execution_count": 40,
   "metadata": {},
   "outputs": [
    {
     "data": {
      "image/png": "[encoded data removed]",
      "text/plain": [
       "<Figure size 432x288 with 4 Axes>"
      ]
     },
     "metadata": {
      "needs_background": "light"
     },
     "output_type": "display_data"
    },
    {
     "data": {
      "text/plain": [
       "<Figure size 720x720 with 0 Axes>"
      ]
     },
     "metadata": {},
     "output_type": "display_data"
    }
   ],
   "source": [
    "# create histogram for Numeric data \n",
    "df[['Temperature', 'Fuel_Price', 'CPI', 'Unemployment']].hist() \n",
    "plt.show() "
   ]
  },
  {
   "cell_type": "code",
   "execution_count": 46,
   "metadata": {
    "scrolled": true
   },
   "outputs": [
    {
     "data": {
      "image/png": "[encoded data removed]",
      "text/plain": [
       "<Figure size 432x288 with 1 Axes>"
      ]
     },
     "metadata": {
      "needs_background": "light"
     },
     "output_type": "display_data"
    },
    {
     "data": {
      "image/png": "[encoded data removed]",
      "text/plain": [
       "<Figure size 432x288 with 1 Axes>"
      ]
     },
     "metadata": {
      "needs_background": "light"
     },
     "output_type": "display_data"
    }
   ],
   "source": [
    "# plot between 2 attributes \n",
    "df.plot.bar() \n",
    "plt.show() \n",
    "\n",
    "plt.bar(df['IsHoliday'], df['Fuel_Price']) \n",
    "plt.xlabel('IsHoliday') \n",
    "plt.ylabel('Fuel_Price') \n",
    "plt.show() "
   ]
  },
  {
   "cell_type": "code",
   "execution_count": 48,
   "metadata": {
    "scrolled": true
   },
   "outputs": [
    {
     "data": {
      "image/png": "[encoded data removed]",
      "text/plain": [
       "<Figure size 432x288 with 1 Axes>"
      ]
     },
     "metadata": {
      "needs_background": "light"
     },
     "output_type": "display_data"
    }
   ],
   "source": [
    "plt.scatter(df['IsHoliday'], df['Fuel_Price']) \n",
    "plt.show() "
   ]
  },
  {
   "cell_type": "code",
   "execution_count": 49,
   "metadata": {},
   "outputs": [
    {
     "data": {
      "text/html": [
       "<div>\n",
       "<style scoped>\n",
       "    .dataframe tbody tr th:only-of-type {\n",
       "        vertical-align: middle;\n",
       "    }\n",
       "\n",
       "    .dataframe tbody tr th {\n",
       "        vertical-align: top;\n",
       "    }\n",
       "\n",
       "    .dataframe thead th {\n",
       "        text-align: right;\n",
       "    }\n",
       "</style>\n",
       "<table border=\"1\" class=\"dataframe\">\n",
       "  <thead>\n",
       "    <tr style=\"text-align: right;\">\n",
       "      <th></th>\n",
       "      <th>Store</th>\n",
       "      <th>Temperature</th>\n",
       "      <th>Fuel_Price</th>\n",
       "      <th>MarkDown1</th>\n",
       "      <th>MarkDown2</th>\n",
       "      <th>MarkDown3</th>\n",
       "      <th>MarkDown4</th>\n",
       "      <th>MarkDown5</th>\n",
       "      <th>CPI</th>\n",
       "      <th>Unemployment</th>\n",
       "      <th>IsHoliday</th>\n",
       "    </tr>\n",
       "  </thead>\n",
       "  <tbody>\n",
       "    <tr>\n",
       "      <th>Store</th>\n",
       "      <td>1.000000</td>\n",
       "      <td>-0.085098</td>\n",
       "      <td>0.202147</td>\n",
       "      <td>1.0</td>\n",
       "      <td>1.0</td>\n",
       "      <td>1.0</td>\n",
       "      <td>NaN</td>\n",
       "      <td>1.0</td>\n",
       "      <td>0.009653</td>\n",
       "      <td>0.363840</td>\n",
       "      <td>-0.241585</td>\n",
       "    </tr>\n",
       "    <tr>\n",
       "      <th>Temperature</th>\n",
       "      <td>-0.085098</td>\n",
       "      <td>1.000000</td>\n",
       "      <td>-0.431240</td>\n",
       "      <td>-1.0</td>\n",
       "      <td>-1.0</td>\n",
       "      <td>-1.0</td>\n",
       "      <td>NaN</td>\n",
       "      <td>-1.0</td>\n",
       "      <td>0.080743</td>\n",
       "      <td>0.201033</td>\n",
       "      <td>-0.040085</td>\n",
       "    </tr>\n",
       "    <tr>\n",
       "      <th>Fuel_Price</th>\n",
       "      <td>0.202147</td>\n",
       "      <td>-0.431240</td>\n",
       "      <td>1.000000</td>\n",
       "      <td>-1.0</td>\n",
       "      <td>-1.0</td>\n",
       "      <td>-1.0</td>\n",
       "      <td>NaN</td>\n",
       "      <td>-1.0</td>\n",
       "      <td>0.171199</td>\n",
       "      <td>0.249117</td>\n",
       "      <td>0.335652</td>\n",
       "    </tr>\n",
       "    <tr>\n",
       "      <th>MarkDown1</th>\n",
       "      <td>1.000000</td>\n",
       "      <td>-1.000000</td>\n",
       "      <td>-1.000000</td>\n",
       "      <td>1.0</td>\n",
       "      <td>1.0</td>\n",
       "      <td>1.0</td>\n",
       "      <td>NaN</td>\n",
       "      <td>1.0</td>\n",
       "      <td>-1.000000</td>\n",
       "      <td>-1.000000</td>\n",
       "      <td>NaN</td>\n",
       "    </tr>\n",
       "    <tr>\n",
       "      <th>MarkDown2</th>\n",
       "      <td>1.000000</td>\n",
       "      <td>-1.000000</td>\n",
       "      <td>-1.000000</td>\n",
       "      <td>1.0</td>\n",
       "      <td>1.0</td>\n",
       "      <td>1.0</td>\n",
       "      <td>NaN</td>\n",
       "      <td>1.0</td>\n",
       "      <td>-1.000000</td>\n",
       "      <td>-1.000000</td>\n",
       "      <td>NaN</td>\n",
       "    </tr>\n",
       "    <tr>\n",
       "      <th>MarkDown3</th>\n",
       "      <td>1.000000</td>\n",
       "      <td>-1.000000</td>\n",
       "      <td>-1.000000</td>\n",
       "      <td>1.0</td>\n",
       "      <td>1.0</td>\n",
       "      <td>1.0</td>\n",
       "      <td>NaN</td>\n",
       "      <td>1.0</td>\n",
       "      <td>-1.000000</td>\n",
       "      <td>-1.000000</td>\n",
       "      <td>NaN</td>\n",
       "    </tr>\n",
       "    <tr>\n",
       "      <th>MarkDown4</th>\n",
       "      <td>NaN</td>\n",
       "      <td>NaN</td>\n",
       "      <td>NaN</td>\n",
       "      <td>NaN</td>\n",
       "      <td>NaN</td>\n",
       "      <td>NaN</td>\n",
       "      <td>NaN</td>\n",
       "      <td>NaN</td>\n",
       "      <td>NaN</td>\n",
       "      <td>NaN</td>\n",
       "      <td>NaN</td>\n",
       "    </tr>\n",
       "    <tr>\n",
       "      <th>MarkDown5</th>\n",
       "      <td>1.000000</td>\n",
       "      <td>-1.000000</td>\n",
       "      <td>-1.000000</td>\n",
       "      <td>1.0</td>\n",
       "      <td>1.0</td>\n",
       "      <td>1.0</td>\n",
       "      <td>NaN</td>\n",
       "      <td>1.0</td>\n",
       "      <td>-1.000000</td>\n",
       "      <td>-1.000000</td>\n",
       "      <td>NaN</td>\n",
       "    </tr>\n",
       "    <tr>\n",
       "      <th>CPI</th>\n",
       "      <td>0.009653</td>\n",
       "      <td>0.080743</td>\n",
       "      <td>0.171199</td>\n",
       "      <td>-1.0</td>\n",
       "      <td>-1.0</td>\n",
       "      <td>-1.0</td>\n",
       "      <td>NaN</td>\n",
       "      <td>-1.0</td>\n",
       "      <td>1.000000</td>\n",
       "      <td>0.203600</td>\n",
       "      <td>0.289324</td>\n",
       "    </tr>\n",
       "    <tr>\n",
       "      <th>Unemployment</th>\n",
       "      <td>0.363840</td>\n",
       "      <td>0.201033</td>\n",
       "      <td>0.249117</td>\n",
       "      <td>-1.0</td>\n",
       "      <td>-1.0</td>\n",
       "      <td>-1.0</td>\n",
       "      <td>NaN</td>\n",
       "      <td>-1.0</td>\n",
       "      <td>0.203600</td>\n",
       "      <td>1.000000</td>\n",
       "      <td>-0.369134</td>\n",
       "    </tr>\n",
       "    <tr>\n",
       "      <th>IsHoliday</th>\n",
       "      <td>-0.241585</td>\n",
       "      <td>-0.040085</td>\n",
       "      <td>0.335652</td>\n",
       "      <td>NaN</td>\n",
       "      <td>NaN</td>\n",
       "      <td>NaN</td>\n",
       "      <td>NaN</td>\n",
       "      <td>NaN</td>\n",
       "      <td>0.289324</td>\n",
       "      <td>-0.369134</td>\n",
       "      <td>1.000000</td>\n",
       "    </tr>\n",
       "  </tbody>\n",
       "</table>\n",
       "</div>"
      ],
      "text/plain": [
       "                 Store  Temperature  Fuel_Price  MarkDown1  MarkDown2  \\\n",
       "Store         1.000000    -0.085098    0.202147        1.0        1.0   \n",
       "Temperature  -0.085098     1.000000   -0.431240       -1.0       -1.0   \n",
       "Fuel_Price    0.202147    -0.431240    1.000000       -1.0       -1.0   \n",
       "MarkDown1     1.000000    -1.000000   -1.000000        1.0        1.0   \n",
       "MarkDown2     1.000000    -1.000000   -1.000000        1.0        1.0   \n",
       "MarkDown3     1.000000    -1.000000   -1.000000        1.0        1.0   \n",
       "MarkDown4          NaN          NaN         NaN        NaN        NaN   \n",
       "MarkDown5     1.000000    -1.000000   -1.000000        1.0        1.0   \n",
       "CPI           0.009653     0.080743    0.171199       -1.0       -1.0   \n",
       "Unemployment  0.363840     0.201033    0.249117       -1.0       -1.0   \n",
       "IsHoliday    -0.241585    -0.040085    0.335652        NaN        NaN   \n",
       "\n",
       "              MarkDown3  MarkDown4  MarkDown5       CPI  Unemployment  \\\n",
       "Store               1.0        NaN        1.0  0.009653      0.363840   \n",
       "Temperature        -1.0        NaN       -1.0  0.080743      0.201033   \n",
       "Fuel_Price         -1.0        NaN       -1.0  0.171199      0.249117   \n",
       "MarkDown1           1.0        NaN        1.0 -1.000000     -1.000000   \n",
       "MarkDown2           1.0        NaN        1.0 -1.000000     -1.000000   \n",
       "MarkDown3           1.0        NaN        1.0 -1.000000     -1.000000   \n",
       "MarkDown4           NaN        NaN        NaN       NaN           NaN   \n",
       "MarkDown5           1.0        NaN        1.0 -1.000000     -1.000000   \n",
       "CPI                -1.0        NaN       -1.0  1.000000      0.203600   \n",
       "Unemployment       -1.0        NaN       -1.0  0.203600      1.000000   \n",
       "IsHoliday           NaN        NaN        NaN  0.289324     -0.369134   \n",
       "\n",
       "              IsHoliday  \n",
       "Store         -0.241585  \n",
       "Temperature   -0.040085  \n",
       "Fuel_Price     0.335652  \n",
       "MarkDown1           NaN  \n",
       "MarkDown2           NaN  \n",
       "MarkDown3           NaN  \n",
       "MarkDown4           NaN  \n",
       "MarkDown5           NaN  \n",
       "CPI            0.289324  \n",
       "Unemployment  -0.369134  \n",
       "IsHoliday      1.000000  "
      ]
     },
     "execution_count": 49,
     "metadata": {},
     "output_type": "execute_result"
    }
   ],
   "source": [
    "df.corr()"
   ]
  },
  {
   "cell_type": "code",
   "execution_count": 50,
   "metadata": {
    "scrolled": true
   },
   "outputs": [
    {
     "data": {
      "text/html": [
       "<div>\n",
       "<style scoped>\n",
       "    .dataframe tbody tr th:only-of-type {\n",
       "        vertical-align: middle;\n",
       "    }\n",
       "\n",
       "    .dataframe tbody tr th {\n",
       "        vertical-align: top;\n",
       "    }\n",
       "\n",
       "    .dataframe thead th {\n",
       "        text-align: right;\n",
       "    }\n",
       "</style>\n",
       "<table border=\"1\" class=\"dataframe\">\n",
       "  <thead>\n",
       "    <tr style=\"text-align: right;\">\n",
       "      <th></th>\n",
       "      <th>Store</th>\n",
       "      <th>Date</th>\n",
       "      <th>Temperature</th>\n",
       "      <th>Fuel_Price</th>\n",
       "      <th>MarkDown1</th>\n",
       "      <th>MarkDown2</th>\n",
       "      <th>MarkDown3</th>\n",
       "      <th>MarkDown4</th>\n",
       "      <th>MarkDown5</th>\n",
       "      <th>CPI</th>\n",
       "      <th>Unemployment</th>\n",
       "      <th>IsHoliday</th>\n",
       "    </tr>\n",
       "  </thead>\n",
       "  <tbody>\n",
       "    <tr>\n",
       "      <th>382</th>\n",
       "      <td>1.0</td>\n",
       "      <td>1.0</td>\n",
       "      <td>7.0</td>\n",
       "      <td>1.0</td>\n",
       "      <td>NaN</td>\n",
       "      <td>NaN</td>\n",
       "      <td>NaN</td>\n",
       "      <td>NaN</td>\n",
       "      <td>NaN</td>\n",
       "      <td>8.0</td>\n",
       "      <td>4.0</td>\n",
       "      <td>4.0</td>\n",
       "    </tr>\n",
       "    <tr>\n",
       "      <th>5849</th>\n",
       "      <td>5.0</td>\n",
       "      <td>3.0</td>\n",
       "      <td>8.0</td>\n",
       "      <td>4.0</td>\n",
       "      <td>NaN</td>\n",
       "      <td>NaN</td>\n",
       "      <td>NaN</td>\n",
       "      <td>NaN</td>\n",
       "      <td>NaN</td>\n",
       "      <td>1.0</td>\n",
       "      <td>7.0</td>\n",
       "      <td>4.0</td>\n",
       "    </tr>\n",
       "    <tr>\n",
       "      <th>7117</th>\n",
       "      <td>6.0</td>\n",
       "      <td>2.0</td>\n",
       "      <td>6.0</td>\n",
       "      <td>2.0</td>\n",
       "      <td>NaN</td>\n",
       "      <td>NaN</td>\n",
       "      <td>NaN</td>\n",
       "      <td>NaN</td>\n",
       "      <td>NaN</td>\n",
       "      <td>4.0</td>\n",
       "      <td>1.0</td>\n",
       "      <td>4.0</td>\n",
       "    </tr>\n",
       "    <tr>\n",
       "      <th>2249</th>\n",
       "      <td>2.5</td>\n",
       "      <td>5.0</td>\n",
       "      <td>3.0</td>\n",
       "      <td>8.0</td>\n",
       "      <td>NaN</td>\n",
       "      <td>NaN</td>\n",
       "      <td>NaN</td>\n",
       "      <td>NaN</td>\n",
       "      <td>NaN</td>\n",
       "      <td>3.0</td>\n",
       "      <td>3.0</td>\n",
       "      <td>4.0</td>\n",
       "    </tr>\n",
       "    <tr>\n",
       "      <th>7752</th>\n",
       "      <td>7.0</td>\n",
       "      <td>8.0</td>\n",
       "      <td>4.0</td>\n",
       "      <td>7.0</td>\n",
       "      <td>1.0</td>\n",
       "      <td>1.0</td>\n",
       "      <td>1.0</td>\n",
       "      <td>NaN</td>\n",
       "      <td>1.0</td>\n",
       "      <td>7.0</td>\n",
       "      <td>8.0</td>\n",
       "      <td>4.0</td>\n",
       "    </tr>\n",
       "    <tr>\n",
       "      <th>2813</th>\n",
       "      <td>4.0</td>\n",
       "      <td>6.0</td>\n",
       "      <td>5.0</td>\n",
       "      <td>6.0</td>\n",
       "      <td>NaN</td>\n",
       "      <td>NaN</td>\n",
       "      <td>NaN</td>\n",
       "      <td>NaN</td>\n",
       "      <td>NaN</td>\n",
       "      <td>6.0</td>\n",
       "      <td>2.0</td>\n",
       "      <td>8.0</td>\n",
       "    </tr>\n",
       "    <tr>\n",
       "      <th>2234</th>\n",
       "      <td>2.5</td>\n",
       "      <td>4.0</td>\n",
       "      <td>1.0</td>\n",
       "      <td>3.0</td>\n",
       "      <td>NaN</td>\n",
       "      <td>NaN</td>\n",
       "      <td>NaN</td>\n",
       "      <td>NaN</td>\n",
       "      <td>NaN</td>\n",
       "      <td>2.0</td>\n",
       "      <td>5.0</td>\n",
       "      <td>4.0</td>\n",
       "    </tr>\n",
       "    <tr>\n",
       "      <th>8105</th>\n",
       "      <td>8.0</td>\n",
       "      <td>7.0</td>\n",
       "      <td>2.0</td>\n",
       "      <td>5.0</td>\n",
       "      <td>2.0</td>\n",
       "      <td>2.0</td>\n",
       "      <td>2.0</td>\n",
       "      <td>1.0</td>\n",
       "      <td>2.0</td>\n",
       "      <td>5.0</td>\n",
       "      <td>6.0</td>\n",
       "      <td>4.0</td>\n",
       "    </tr>\n",
       "  </tbody>\n",
       "</table>\n",
       "</div>"
      ],
      "text/plain": [
       "      Store  Date  Temperature  Fuel_Price  MarkDown1  MarkDown2  MarkDown3  \\\n",
       "382     1.0   1.0          7.0         1.0        NaN        NaN        NaN   \n",
       "5849    5.0   3.0          8.0         4.0        NaN        NaN        NaN   \n",
       "7117    6.0   2.0          6.0         2.0        NaN        NaN        NaN   \n",
       "2249    2.5   5.0          3.0         8.0        NaN        NaN        NaN   \n",
       "7752    7.0   8.0          4.0         7.0        1.0        1.0        1.0   \n",
       "2813    4.0   6.0          5.0         6.0        NaN        NaN        NaN   \n",
       "2234    2.5   4.0          1.0         3.0        NaN        NaN        NaN   \n",
       "8105    8.0   7.0          2.0         5.0        2.0        2.0        2.0   \n",
       "\n",
       "      MarkDown4  MarkDown5  CPI  Unemployment  IsHoliday  \n",
       "382         NaN        NaN  8.0           4.0        4.0  \n",
       "5849        NaN        NaN  1.0           7.0        4.0  \n",
       "7117        NaN        NaN  4.0           1.0        4.0  \n",
       "2249        NaN        NaN  3.0           3.0        4.0  \n",
       "7752        NaN        1.0  7.0           8.0        4.0  \n",
       "2813        NaN        NaN  6.0           2.0        8.0  \n",
       "2234        NaN        NaN  2.0           5.0        4.0  \n",
       "8105        1.0        2.0  5.0           6.0        4.0  "
      ]
     },
     "execution_count": 50,
     "metadata": {},
     "output_type": "execute_result"
    }
   ],
   "source": [
    "df.rank()"
   ]
  },
  {
   "cell_type": "code",
   "execution_count": 52,
   "metadata": {
    "scrolled": true
   },
   "outputs": [
    {
     "data": {
      "text/plain": [
       "<matplotlib.axes._subplots.AxesSubplot at 0x1705528e248>"
      ]
     },
     "execution_count": 52,
     "metadata": {},
     "output_type": "execute_result"
    },
    {
     "data": {
      "image/png": "[encoded data removed]",
      "text/plain": [
       "<Figure size 432x288 with 1 Axes>"
      ]
     },
     "metadata": {
      "needs_background": "light"
     },
     "output_type": "display_data"
    }
   ],
   "source": [
    "df['Temperature'].hist(bins=10) "
   ]
  },
  {
   "cell_type": "code",
   "execution_count": 53,
   "metadata": {},
   "outputs": [
    {
     "data": {
      "text/plain": [
       "<matplotlib.axes._subplots.AxesSubplot at 0x17055354448>"
      ]
     },
     "execution_count": 53,
     "metadata": {},
     "output_type": "execute_result"
    },
    {
     "data": {
      "image/png": "[encoded data removed]",
      "text/plain": [
       "<Figure size 432x288 with 1 Axes>"
      ]
     },
     "metadata": {
      "needs_background": "light"
     },
     "output_type": "display_data"
    }
   ],
   "source": [
    "df.boxplot(column='Fuel_Price', by = 'Temperature') "
   ]
  },
  {
   "cell_type": "code",
   "execution_count": 54,
   "metadata": {
    "scrolled": true
   },
   "outputs": [
    {
     "data": {
      "text/plain": [
       "<matplotlib.collections.PathCollection at 0x1705582b148>"
      ]
     },
     "execution_count": 54,
     "metadata": {},
     "output_type": "execute_result"
    },
    {
     "data": {
      "image/png": "[encoded data removed]",
      "text/plain": [
       "<Figure size 432x288 with 1 Axes>"
      ]
     },
     "metadata": {
      "needs_background": "light"
     },
     "output_type": "display_data"
    }
   ],
   "source": [
    "x = df['Fuel_Price'] \n",
    "y = df['Temperature'] \n",
    "plt.scatter(x, y, label= 'stars', color= 'm',  marker= '*', s=30) "
   ]
  },
  {
   "cell_type": "markdown",
   "metadata": {},
   "source": [
    "> Regression analysis is a tool employed to establish the existence of relationship and identify the relation. Graphically regression is equivalent to finding the best fitting curve for the given data set. Regression analysis is widely used in predicting and forecasting\n",
    "\n",
    "> Linear Regression it brings out the relationship between the explanatory variable and the response variable. It is represented as a straight line in a scatterplot. Resulting function is a quantitative.\n",
    "\n",
    "> Logistic regression is multivariate regression, and it creates a model to explain the impact of multiple predictors on a response variable. However, in logistic regression, the end result variable should be categorical.\n",
    "\n",
    "Linear:  y = wx + b\n",
    "Ploynomial: y = x^3 + x^2 + wx + b\n",
    "Logistic (Multivariate) Multiple variables contributing to result. Car Brand, Engine Type, Model, Make Year etc... each having distinct weightage \n",
    "\n",
    "\n",
    "CoEfficient ---> Weights\n",
    "Intercept ---> Bias\n",
    "\n",
    "Mean : Average\n",
    "Median : Middle Number -- Is more meaningful for a data with extreme outliers (affects mean, not median)\n",
    "Mode: Most common occurrence\n",
    "\n",
    "Standard Deviation : Average of differences from Mean\n",
    "1, 3, 6, 3, 7, 10\n",
    "Mean =  Sum(1 + 3 + 6 + 3 + 7 + 10) / 6\n",
    "     = 30 / 6\n",
    "\t = 5\n",
    "How Spread Out = -4, -2, 1, -2, 2, 5\n",
    "How Spread Out Square = 16, 4, 1, 4, 4, 25\n",
    "Variance = Sum(16, 4, 1, 4, 4, 25 ) / 6\n",
    "\t = 54 / 6\n",
    "\t = 9\n",
    "Std  = sqrt(9)\n",
    "     = 3\n",
    "     \n",
    "> Conditional Probability\n",
    "P(A | B) = P(A, B) / P(A)\n",
    "\n",
    "Customer Purchased a cycle. What is the chance of him purchasing a helmet?\n"
   ]
  },
  {
   "cell_type": "code",
   "execution_count": 100,
   "metadata": {},
   "outputs": [
    {
     "name": "stdout",
     "output_type": "stream",
     "text": [
      "                     Mileage         Price\n",
      "Mileage                                   \n",
      "(0, 10000]       5588.629630  24096.714451\n",
      "(10000, 20000]  15898.496183  21955.979607\n",
      "(20000, 30000]  24114.407104  20278.606252\n",
      "(30000, 40000]  33610.338710  19463.670267\n"
     ]
    },
    {
     "data": {
      "text/plain": [
       "<matplotlib.axes._subplots.AxesSubplot at 0x25ccbfbb4c8>"
      ]
     },
     "execution_count": 100,
     "metadata": {},
     "output_type": "execute_result"
    },
    {
     "data": {
      "image/png": "[encoded data removed]",
      "text/plain": [
       "<Figure size 432x288 with 1 Axes>"
      ]
     },
     "metadata": {
      "needs_background": "light"
     },
     "output_type": "display_data"
    }
   ],
   "source": [
    "df = pd.read_excel('http://cdn.sundog-soft.com/Udemy/DataScience/cars.xls')\n",
    "\n",
    "%matplotlib inline\n",
    "import numpy as np\n",
    "df1=df[['Mileage','Price']]\n",
    "bins =  np.arange(0,50000,10000)\n",
    "groups = df1.groupby(pd.cut(df1['Mileage'],bins)).mean()\n",
    "print(groups.head())\n",
    "groups['Price'].plot.line()\n"
   ]
  },
  {
   "cell_type": "code",
   "execution_count": 30,
   "metadata": {},
   "outputs": [
    {
     "data": {
      "image/png": "[encoded data removed]",
      "text/plain": [
       "<Figure size 432x288 with 1 Axes>"
      ]
     },
     "metadata": {
      "needs_background": "light"
     },
     "output_type": "display_data"
    },
    {
     "data": {
      "text/plain": [
       "<Figure size 432x288 with 0 Axes>"
      ]
     },
     "metadata": {},
     "output_type": "display_data"
    }
   ],
   "source": [
    "import numpy as np\n",
    "# Create 1000 normally distributed values around 25000 with std 5000\n",
    "incomes = np.random.normal(25000, 5000, 1000)\n",
    "import matplotlib.pyplot as plt\n",
    "%matplotlib inline\n",
    "plt.hist(incomes, 50)\n",
    "plt.show()\n",
    "plt.savefig('C:/Python/Data/Walmart/output.png', format='png')"
   ]
  },
  {
   "cell_type": "code",
   "execution_count": 6,
   "metadata": {},
   "outputs": [
    {
     "data": {
      "text/plain": [
       "<matplotlib.axes._subplots.AxesSubplot at 0x25cca6d4648>"
      ]
     },
     "execution_count": 6,
     "metadata": {},
     "output_type": "execute_result"
    },
    {
     "data": {
      "image/png": "[encoded data removed]",
      "text/plain": [
       "<Figure size 432x288 with 1 Axes>"
      ]
     },
     "metadata": {
      "needs_background": "light"
     },
     "output_type": "display_data"
    }
   ],
   "source": [
    "x = df.query('Temperature > 50')['Date'].value_counts()\n",
    "x.plot(kind = 'bar')"
   ]
  },
  {
   "cell_type": "code",
   "execution_count": 10,
   "metadata": {},
   "outputs": [
    {
     "data": {
      "image/png": "[encoded data removed]",
      "text/plain": [
       "<Figure size 432x288 with 1 Axes>"
      ]
     },
     "metadata": {},
     "output_type": "display_data"
    }
   ],
   "source": [
    "values = [10, 30, 60]\n",
    "colors = ['red','green','blue']\n",
    "labels = ['US', 'UK', 'India']\n",
    "plt.pie(values, colors=colors, labels=labels)\n",
    "plt.title('Student Locations')\n",
    "plt.show()"
   ]
  },
  {
   "cell_type": "code",
   "execution_count": 29,
   "metadata": {
    "scrolled": true
   },
   "outputs": [
    {
     "data": {
      "image/png": "[encoded data removed]",
      "text/plain": [
       "<Figure size 432x288 with 1 Axes>"
      ]
     },
     "metadata": {
      "needs_background": "light"
     },
     "output_type": "display_data"
    }
   ],
   "source": [
    "values = [10, 30, 60]\n",
    "colors = ['r','g','b']\n",
    "subjects = ['English', 'Maths', 'Science']\n",
    "\n",
    "y_pos = np.arange(len(values))\n",
    "\n",
    "plt.bar(y_pos, values, color=colors)\n",
    "plt.xticks(y_pos, subjects)\n",
    "plt.ylabel('Score')\n",
    "plt.title('Student Locations')\n",
    "plt.show()"
   ]
  },
  {
   "cell_type": "code",
   "execution_count": 2,
   "metadata": {},
   "outputs": [],
   "source": [
    "import pandas as pd\n",
    "stores = pd.read_csv('C:/Python/Data/Walmart/stores.csv')\n",
    "features = pd.read_csv('C:/Python/Data/Walmart/features.csv')\n",
    "train = pd.read_csv('C:/Python/Data/Walmart/train.csv')\n",
    "test = pd.read_csv('C:/Python/Data/Walmart/test.csv')\n",
    "\n",
    "train['Split'] = 'Train'\n",
    "test['Split'] = 'Test'\n",
    "df = pd.concat([train,test], axis=0, sort=False)\n",
    "\n",
    "df = df.merge(features, how='inner', on=['Store','Date','IsHoliday'])\n",
    "df = df.merge(stores, how='inner', on=['Store'])\n",
    "\n",
    "df = df.sample(frac=0.001).fillna(0)"
   ]
  },
  {
   "cell_type": "code",
   "execution_count": 3,
   "metadata": {},
   "outputs": [
    {
     "data": {
      "text/html": [
       "<div>\n",
       "<style scoped>\n",
       "    .dataframe tbody tr th:only-of-type {\n",
       "        vertical-align: middle;\n",
       "    }\n",
       "\n",
       "    .dataframe tbody tr th {\n",
       "        vertical-align: top;\n",
       "    }\n",
       "\n",
       "    .dataframe thead th {\n",
       "        text-align: right;\n",
       "    }\n",
       "</style>\n",
       "<table border=\"1\" class=\"dataframe\">\n",
       "  <thead>\n",
       "    <tr style=\"text-align: right;\">\n",
       "      <th></th>\n",
       "      <th>Store</th>\n",
       "      <th>Dept</th>\n",
       "      <th>Date</th>\n",
       "      <th>Weekly_Sales</th>\n",
       "      <th>IsHoliday</th>\n",
       "      <th>Split</th>\n",
       "      <th>Temperature</th>\n",
       "      <th>Fuel_Price</th>\n",
       "      <th>MarkDown1</th>\n",
       "      <th>MarkDown2</th>\n",
       "      <th>MarkDown3</th>\n",
       "      <th>MarkDown4</th>\n",
       "      <th>MarkDown5</th>\n",
       "      <th>CPI</th>\n",
       "      <th>Unemployment</th>\n",
       "      <th>Type</th>\n",
       "      <th>Size</th>\n",
       "    </tr>\n",
       "  </thead>\n",
       "  <tbody>\n",
       "  </tbody>\n",
       "</table>\n",
       "</div>"
      ],
      "text/plain": [
       "Empty DataFrame\n",
       "Columns: [Store, Dept, Date, Weekly_Sales, IsHoliday, Split, Temperature, Fuel_Price, MarkDown1, MarkDown2, MarkDown3, MarkDown4, MarkDown5, CPI, Unemployment, Type, Size]\n",
       "Index: []"
      ]
     },
     "execution_count": 3,
     "metadata": {},
     "output_type": "execute_result"
    }
   ],
   "source": [
    "null_data = df.loc[\n",
    "    (df['Store'].isnull()) |\n",
    "    (df['Dept'].isnull())\n",
    "]\n",
    "\n",
    "null_data.head()\n",
    "masses_data.dropna(inplace=True)\n"
   ]
  },
  {
   "cell_type": "code",
   "execution_count": 35,
   "metadata": {},
   "outputs": [
    {
     "data": {
      "text/plain": [
       "(Index(['Store', 'Dept', 'Date', 'Weekly_Sales', 'IsHoliday', 'Split',\n",
       "        'Temperature', 'Fuel_Price', 'MarkDown1', 'MarkDown2', 'MarkDown3',\n",
       "        'MarkDown4', 'MarkDown5', 'CPI', 'Unemployment', 'Type', 'Size'],\n",
       "       dtype='object'), (537, 17))"
      ]
     },
     "execution_count": 35,
     "metadata": {},
     "output_type": "execute_result"
    }
   ],
   "source": [
    "df.columns, df.shape"
   ]
  },
  {
   "cell_type": "code",
   "execution_count": 37,
   "metadata": {
    "scrolled": true
   },
   "outputs": [
    {
     "data": {
      "text/plain": [
       "<seaborn.axisgrid.JointGrid at 0x25ccd9f7108>"
      ]
     },
     "execution_count": 37,
     "metadata": {},
     "output_type": "execute_result"
    },
    {
     "data": {
      "image/png": "[encoded data removed]",
      "text/plain": [
       "<Figure size 432x432 with 3 Axes>"
      ]
     },
     "metadata": {
      "needs_background": "light"
     },
     "output_type": "display_data"
    }
   ],
   "source": [
    "import seaborn as sns\n",
    "\n",
    "sns.jointplot(x=df['Weekly_Sales'], y=df['Store'], data=df)"
   ]
  },
  {
   "cell_type": "code",
   "execution_count": 57,
   "metadata": {
    "scrolled": true
   },
   "outputs": [
    {
     "data": {
      "text/plain": [
       "<seaborn.axisgrid.FacetGrid at 0x25ccda28548>"
      ]
     },
     "execution_count": 57,
     "metadata": {},
     "output_type": "execute_result"
    },
    {
     "data": {
      "image/png": "[encoded data removed]",
      "text/plain": [
       "<Figure size 360x360 with 1 Axes>"
      ]
     },
     "metadata": {
      "needs_background": "light"
     },
     "output_type": "display_data"
    }
   ],
   "source": [
    "sns.lmplot(x='MarkDown1', y='MarkDown5', data=df.fillna(0))"
   ]
  },
  {
   "cell_type": "code",
   "execution_count": 60,
   "metadata": {},
   "outputs": [
    {
     "data": {
      "text/plain": [
       "<matplotlib.axes._subplots.AxesSubplot at 0x25cd0794c08>"
      ]
     },
     "execution_count": 60,
     "metadata": {},
     "output_type": "execute_result"
    },
    {
     "data": {
      "image/png": "[encoded data removed]",
      "text/plain": [
       "<Figure size 432x288 with 1 Axes>"
      ]
     },
     "metadata": {
      "needs_background": "light"
     },
     "output_type": "display_data"
    }
   ],
   "source": [
    "sns.boxplot(x='Type', y='Weekly_Sales', data=df.fillna(0))"
   ]
  },
  {
   "cell_type": "code",
   "execution_count": 61,
   "metadata": {
    "scrolled": false
   },
   "outputs": [
    {
     "data": {
      "text/plain": [
       "<matplotlib.axes._subplots.AxesSubplot at 0x25cd07f7a88>"
      ]
     },
     "execution_count": 61,
     "metadata": {},
     "output_type": "execute_result"
    },
    {
     "data": {
      "image/png": "[encoded data removed]",
      "text/plain": [
       "<Figure size 432x288 with 1 Axes>"
      ]
     },
     "metadata": {
      "needs_background": "light"
     },
     "output_type": "display_data"
    }
   ],
   "source": [
    "sns.swarmplot(x='Type', y='Weekly_Sales', data=df.fillna(0))"
   ]
  },
  {
   "cell_type": "code",
   "execution_count": 98,
   "metadata": {},
   "outputs": [
    {
     "data": {
      "text/plain": [
       "array([[ 1.        , -0.07401965],\n",
       "       [-0.07401965,  1.        ]])"
      ]
     },
     "execution_count": 98,
     "metadata": {},
     "output_type": "execute_result"
    }
   ],
   "source": [
    "import numpy as np\n",
    "\n",
    "np.corrcoef(df['MarkDown1'].fillna(0), df['Weekly_Sales'].fillna(0))"
   ]
  },
  {
   "cell_type": "code",
   "execution_count": 62,
   "metadata": {
    "scrolled": true
   },
   "outputs": [
    {
     "data": {
      "text/plain": [
       "<matplotlib.axes._subplots.AxesSubplot at 0x25cd0865488>"
      ]
     },
     "execution_count": 62,
     "metadata": {},
     "output_type": "execute_result"
    },
    {
     "data": {
      "image/png": "[encoded data removed]",
      "text/plain": [
       "<Figure size 432x288 with 1 Axes>"
      ]
     },
     "metadata": {
      "needs_background": "light"
     },
     "output_type": "display_data"
    }
   ],
   "source": [
    "sns.countplot(x='Type', data=df.fillna(0))"
   ]
  },
  {
   "cell_type": "code",
   "execution_count": 103,
   "metadata": {},
   "outputs": [
    {
     "name": "stdout",
     "output_type": "stream",
     "text": [
      "             Fuel_Price  Temperature\n",
      "Temperature                         \n",
      "(0, 15]        3.140000    10.762500\n",
      "(15, 30]       3.224433    23.227000\n",
      "(30, 45]       3.295968    38.299368\n",
      "(45, 60]       3.461829    52.759829\n",
      "(60, 75]       3.456361    67.691065\n"
     ]
    },
    {
     "data": {
      "text/plain": [
       "<matplotlib.axes._subplots.AxesSubplot at 0x25cca59c908>"
      ]
     },
     "execution_count": 103,
     "metadata": {},
     "output_type": "execute_result"
    },
    {
     "data": {
      "image/png": "[encoded data removed]",
      "text/plain": [
       "<Figure size 432x288 with 1 Axes>"
      ]
     },
     "metadata": {
      "needs_background": "light"
     },
     "output_type": "display_data"
    }
   ],
   "source": [
    "df1=df[['Fuel_Price','Temperature']]\n",
    "bins =  np.arange(0,150,15)\n",
    "groups = df1.groupby(pd.cut(df1['Temperature'],bins)).mean()\n",
    "print(groups.head())\n",
    "groups['Fuel_Price'].plot.line()"
   ]
  },
  {
   "cell_type": "code",
   "execution_count": 89,
   "metadata": {
    "scrolled": true
   },
   "outputs": [
    {
     "data": {
      "text/html": [
       "<div>\n",
       "<style scoped>\n",
       "    .dataframe tbody tr th:only-of-type {\n",
       "        vertical-align: middle;\n",
       "    }\n",
       "\n",
       "    .dataframe tbody tr th {\n",
       "        vertical-align: top;\n",
       "    }\n",
       "\n",
       "    .dataframe thead th {\n",
       "        text-align: right;\n",
       "    }\n",
       "</style>\n",
       "<table border=\"1\" class=\"dataframe\">\n",
       "  <thead>\n",
       "    <tr style=\"text-align: right;\">\n",
       "      <th></th>\n",
       "      <th>Account_number</th>\n",
       "      <th>Product</th>\n",
       "    </tr>\n",
       "  </thead>\n",
       "  <tbody>\n",
       "    <tr>\n",
       "      <th>0</th>\n",
       "      <td>1</td>\n",
       "      <td>A</td>\n",
       "    </tr>\n",
       "    <tr>\n",
       "      <th>1</th>\n",
       "      <td>1</td>\n",
       "      <td>A</td>\n",
       "    </tr>\n",
       "    <tr>\n",
       "      <th>2</th>\n",
       "      <td>2</td>\n",
       "      <td>A</td>\n",
       "    </tr>\n",
       "    <tr>\n",
       "      <th>3</th>\n",
       "      <td>2</td>\n",
       "      <td>B</td>\n",
       "    </tr>\n",
       "    <tr>\n",
       "      <th>4</th>\n",
       "      <td>2</td>\n",
       "      <td>B</td>\n",
       "    </tr>\n",
       "    <tr>\n",
       "      <th>5</th>\n",
       "      <td>3</td>\n",
       "      <td>A</td>\n",
       "    </tr>\n",
       "    <tr>\n",
       "      <th>6</th>\n",
       "      <td>3</td>\n",
       "      <td>B</td>\n",
       "    </tr>\n",
       "  </tbody>\n",
       "</table>\n",
       "</div>"
      ],
      "text/plain": [
       "   Account_number Product\n",
       "0               1       A\n",
       "1               1       A\n",
       "2               2       A\n",
       "3               2       B\n",
       "4               2       B\n",
       "5               3       A\n",
       "6               3       B"
      ]
     },
     "execution_count": 89,
     "metadata": {},
     "output_type": "execute_result"
    }
   ],
   "source": [
    "import pandas as pd\n",
    "df = pd.DataFrame({'Account_number':[1,1,2,2,2,3,3],\n",
    "                   'Product':['A', 'A', 'A', 'B', 'B','A', 'B'],\n",
    "                  })\n",
    "df"
   ]
  },
  {
   "cell_type": "markdown",
   "metadata": {},
   "source": [
    "movie_id\ttitle\tuser_id\trating\n",
    "1\tToy Story (1995)\t308\t4\n",
    "1\tToy Story (1995)\t287\t5\n",
    "1\tToy Story (1995)\t148\t4\n",
    "\n",
    "movieRatings = ratings.pivot_table(index=['user_id'],columns=['title'],values='rating')\n",
    "\n",
    "title\t'Til There Was You (1997)\t1-900 (1994)\t101 Dalmatians (1996)\t12 Angry Men (1957)\t187 (1997)\n",
    "User ID\n",
    "0\tNaN\tNaN\tNaN\tNaN\tNaN\n",
    "1\tNaN\tNaN\t2.0\t5.0\tNaN"
   ]
  },
  {
   "cell_type": "code",
   "execution_count": 91,
   "metadata": {
    "scrolled": true
   },
   "outputs": [],
   "source": [
    "df2 = df.pivot_table(index='Account_number', columns='Product', aggfunc=[len], fill_value=0)"
   ]
  },
  {
   "cell_type": "code",
   "execution_count": 93,
   "metadata": {
    "scrolled": false
   },
   "outputs": [
    {
     "data": {
      "text/html": [
       "<div>\n",
       "<style scoped>\n",
       "    .dataframe tbody tr th:only-of-type {\n",
       "        vertical-align: middle;\n",
       "    }\n",
       "\n",
       "    .dataframe tbody tr th {\n",
       "        vertical-align: top;\n",
       "    }\n",
       "\n",
       "    .dataframe thead tr th {\n",
       "        text-align: left;\n",
       "    }\n",
       "\n",
       "    .dataframe thead tr:last-of-type th {\n",
       "        text-align: right;\n",
       "    }\n",
       "</style>\n",
       "<table border=\"1\" class=\"dataframe\">\n",
       "  <thead>\n",
       "    <tr>\n",
       "      <th></th>\n",
       "      <th colspan=\"2\" halign=\"left\">len</th>\n",
       "    </tr>\n",
       "    <tr>\n",
       "      <th>Product</th>\n",
       "      <th>A</th>\n",
       "      <th>B</th>\n",
       "    </tr>\n",
       "    <tr>\n",
       "      <th>Account_number</th>\n",
       "      <th></th>\n",
       "      <th></th>\n",
       "    </tr>\n",
       "  </thead>\n",
       "  <tbody>\n",
       "    <tr>\n",
       "      <th>1</th>\n",
       "      <td>2</td>\n",
       "      <td>0</td>\n",
       "    </tr>\n",
       "    <tr>\n",
       "      <th>2</th>\n",
       "      <td>1</td>\n",
       "      <td>2</td>\n",
       "    </tr>\n",
       "    <tr>\n",
       "      <th>3</th>\n",
       "      <td>1</td>\n",
       "      <td>1</td>\n",
       "    </tr>\n",
       "  </tbody>\n",
       "</table>\n",
       "</div>"
      ],
      "text/plain": [
       "               len   \n",
       "Product          A  B\n",
       "Account_number       \n",
       "1                2  0\n",
       "2                1  2\n",
       "3                1  1"
      ]
     },
     "execution_count": 93,
     "metadata": {},
     "output_type": "execute_result"
    }
   ],
   "source": [
    "df2"
   ]
  },
  {
   "cell_type": "markdown",
   "metadata": {},
   "source": [
    "Spark RDD\n",
    "> Transformations : Map, FlatMap, Filter, distinct, Sample, Union, Intersect, Subtract, Cartesian\n",
    "\n",
    "> Actions : collect, count, countByValue, take, top, reduce\n",
    "\n"
   ]
  },
  {
   "cell_type": "code",
   "execution_count": null,
   "metadata": {},
   "outputs": [],
   "source": [
    "df[\"column\"] = df[\"column\"].str.replace(\"%\", \"\")\n",
    "gallup_2012['Democrat/Lean Democratic'].apply(lambda x: x.split('%')[0])"
   ]
  },
  {
   "cell_type": "code",
   "execution_count": 4,
   "metadata": {
    "ExecuteTime": {
     "end_time": "2020-09-01T22:21:53.078328Z",
     "start_time": "2020-09-01T22:21:53.061375Z"
    }
   },
   "outputs": [
    {
     "name": "stdout",
     "output_type": "stream",
     "text": [
      "_incident\n"
     ]
    }
   ],
   "source": [
    "x = '_incident'\n",
    "ans = x.replace('major_', '') if x == 'major_incident' else x\n",
    "print(ans)"
   ]
  }
 ],
 "metadata": {
  "kernelspec": {
   "display_name": "Python 3",
   "language": "python",
   "name": "python3"
  },
  "language_info": {
   "codemirror_mode": {
    "name": "ipython",
    "version": 3
   },
   "file_extension": ".py",
   "mimetype": "text/x-python",
   "name": "python",
   "nbconvert_exporter": "python",
   "pygments_lexer": "ipython3",
   "version": "3.9.7"
  }
 },
 "nbformat": 4,
 "nbformat_minor": 2
}
